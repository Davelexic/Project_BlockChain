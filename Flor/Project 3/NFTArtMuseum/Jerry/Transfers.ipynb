{
 "cells": [
  {
   "cell_type": "markdown",
   "id": "b25a89cc-679b-4068-bec1-98ba3710d19f",
   "metadata": {},
   "source": [
    "## Using Web3 to interact with our smart contract"
   ]
  },
  {
   "cell_type": "code",
   "execution_count": 1,
   "id": "c643a811-bb90-4595-84cb-85c9bd68e62c",
   "metadata": {},
   "outputs": [],
   "source": [
    "# Import libraries we will be using\n",
    "import os\n",
    "from web3 import Web3\n",
    "from dotenv import load_dotenv\n",
    "from web3.middleware import geth_poa_middleware\n",
    "from eth_account import Account\n",
    "\n",
    "from pathlib import Path\n",
    "from getpass import getpass\n",
    "import pandas as pd"
   ]
  },
  {
   "cell_type": "code",
   "execution_count": 2,
   "id": "03be3083-3863-4ced-8234-416bf75f0c80",
   "metadata": {},
   "outputs": [],
   "source": [
    "#from etherscan import Etherscan\n",
    "import json"
   ]
  },
  {
   "cell_type": "code",
   "execution_count": 3,
   "id": "2f668994-2d10-4166-8d5b-f3c695e9d595",
   "metadata": {},
   "outputs": [],
   "source": [
    "#def admin():\n",
    "load_dotenv()\n",
    "#### Infura API suite provides instant access over HTTPS and WebSockets to the Ethereum network.\n",
    "WEB3_INFURA_API_KEY =  os.getenv(\"WEB3_INFURA_API_KEY\")\n",
    "WEB3_INFURA_PROJECT_ID = os.getenv(\"WEB3_INFURA_PROJECT_ID\")\n",
    "# read contract for NFT musuem\n",
    "nft_museum_address = os.getenv(\"nft_museum_address\")\n",
    "museum_ticket_address = os.getenv(\"museumEntry_contract\")\n",
    "### Contract NFT Art Musuem owner private key\n",
    "museum_private_key = os.getenv(\"PRIVATE_KEY1\")\n",
    "ticket_private_key = os.getenv(\"PRIV_KEY\")\n",
    "#### project is deployed on Kovan Ethereum testnet\n",
    "#ETHERSCAN_API = os.getenv(\"ETHERSCAN_API\")\n",
    "#eth = Etherscan(ETHERSCAN_API, net= \"KOVAN\")\n",
    "#### Connect to infura kovan\n",
    "https_str = f'https://kovan.infura.io/v3/{WEB3_INFURA_PROJECT_ID}'\n",
    "w1 = Web3(Web3.HTTPProvider(https_str))\n",
    "w1.middleware_onion.inject(geth_poa_middleware, layer=0)\n",
    "account_contract_owner = Account.from_key(museum_private_key)\n",
    "museum_contract_owner = Account.from_key(ticket_private_key)\n",
    "#return WEB3_INFURA_API_KEY, WEB3_INFURA_PROJECT_ID, museum_private_key, eth, w1, account_contract_owner"
   ]
  },
  {
   "cell_type": "markdown",
   "id": "c8b0a3f0-dbc2-40b7-a915-35494f02fe4e",
   "metadata": {},
   "source": [
    "### Open Contract ABI"
   ]
  },
  {
   "cell_type": "code",
   "execution_count": 4,
   "id": "de1c6e78-4511-4f37-a5fd-3998e8078b44",
   "metadata": {},
   "outputs": [],
   "source": [
    "with open(\"contract_abi.txt\") as f:\n",
    "    MuseumContract_json = json.load(f)"
   ]
  },
  {
   "cell_type": "markdown",
   "id": "74e47523-765a-4421-9726-b147ff30074e",
   "metadata": {},
   "source": [
    "## Create an Instance with Museum Contract ABI"
   ]
  },
  {
   "cell_type": "code",
   "execution_count": 5,
   "id": "e06be53e-07ec-4403-aba8-9b16b072f51f",
   "metadata": {},
   "outputs": [],
   "source": [
    "museum_contract_instance = w1.eth.contract(address=museum_ticket_address, abi=MuseumContract_json)"
   ]
  },
  {
   "cell_type": "code",
   "execution_count": 6,
   "id": "a9b819fc-2e93-4100-bbbc-fc663a001ca0",
   "metadata": {},
   "outputs": [],
   "source": [
    "all_functions = museum_contract_instance.all_functions()"
   ]
  },
  {
   "cell_type": "code",
   "execution_count": 7,
   "id": "e27c584c-d10e-45bb-aab9-d871d45d6ef6",
   "metadata": {},
   "outputs": [],
   "source": [
    "token_name = museum_contract_instance.functions.name().call()\n",
    "token_symbol = museum_contract_instance.functions.symbol().call()\n",
    "token_total_supply = museum_contract_instance.functions.totalSupply().call()"
   ]
  },
  {
   "cell_type": "code",
   "execution_count": 8,
   "id": "08796a65-29c2-46fc-b6e4-8c7dae85c567",
   "metadata": {},
   "outputs": [
    {
     "data": {
      "text/plain": [
       "<Function transfer>"
      ]
     },
     "execution_count": 8,
     "metadata": {},
     "output_type": "execute_result"
    }
   ],
   "source": [
    "museum_contract_instance.functions.transfer"
   ]
  },
  {
   "cell_type": "code",
   "execution_count": 9,
   "id": "52e8d286-257a-499d-9109-879ffacbf4c0",
   "metadata": {},
   "outputs": [],
   "source": [
    "buyer_private_key = \"3dbb034cc8d1faf58287aeceee6dee04aa47976666153e9e87cb89479ccb977e\""
   ]
  },
  {
   "cell_type": "code",
   "execution_count": 10,
   "id": "bf124e7d-64a2-4894-88e4-14d096313184",
   "metadata": {},
   "outputs": [
    {
     "name": "stdout",
     "output_type": "stream",
     "text": [
      "0xE72b2C4391a8D1Bd1e6A98D96978bfaA20d02B62\n",
      "0x5CA0fcF3c882a3b3fbFA93Db33C718A65bC55C41\n"
     ]
    }
   ],
   "source": [
    "account_two = Account.from_key(buyer_private_key)\n",
    "account_one= Account.from_key(ticket_private_key)\n",
    "\n",
    "def create_raw_tx(account, recipient, amount):\n",
    "    gasEstimate = w1.eth.estimateGas(\n",
    "        {\"from\": account.address, \"to\": recipient, \"value\": amount}\n",
    "    )\n",
    "    return {\n",
    "        \"from\": account.address,\n",
    "        \"to\": recipient,\n",
    "        \"value\": amount,\n",
    "        \"gasPrice\": w1.eth.gasPrice,\n",
    "        \"gas\": gasEstimate,\n",
    "        \"nonce\": w1.eth.getTransactionCount(account.address),\n",
    "    }\n",
    "\n",
    "\n",
    "def send_tx(account, recipient, amount):\n",
    "    tx = create_raw_tx(account, recipient, amount)\n",
    "    signed_tx = account.sign_transaction(tx)\n",
    "    result = w1.eth.sendRawTransaction(signed_tx.rawTransaction)\n",
    "    print(result.hex())\n",
    "    return result.hex()\n",
    "\n",
    "\n",
    "print(account_one.address)\n",
    "print(account_two.address)"
   ]
  },
  {
   "cell_type": "code",
   "execution_count": 13,
   "id": "2493e659-1aa6-4624-910f-25acedcb34e8",
   "metadata": {},
   "outputs": [],
   "source": [
    "nonce = w1.eth.get_transaction_count(account_one.address)\n",
    "chain_id = w1.eth.chain_id\n",
    "# For Gas get latest block for better estimation\n",
    "w1.eth.getBlock(\"latest\")\n",
    "dict1 = w1.eth.getBlock(\"latest\")\n",
    "gasEstimate = dict1['gasUsed']\n",
    "# we sometimes see that the Latest block could return 0 too\n",
    "if gasEstimate < 600000:\n",
    "    gasEstimate = 600000\n",
    "gas_price = w1.eth.gasPrice"
   ]
  },
  {
   "cell_type": "markdown",
   "id": "431b68ce-8a45-4d97-8c79-3718bb00f807",
   "metadata": {},
   "source": [
    "## Buy Ticket function, Transfer Buyers ETHER to Museum, Transfer Museum Token to Buyer."
   ]
  },
  {
   "cell_type": "code",
   "execution_count": 14,
   "id": "cf929831-2831-4dcb-8514-d01734b4ca7b",
   "metadata": {},
   "outputs": [],
   "source": [
    "def buyTicket(private_key):\n",
    "    #define how much 1 ticket cost\n",
    "    ticket_price = 1\n",
    "    # check if seller has tikcets left\n",
    "    tickets_remaining = museum_contract_instance.functions.balanceOf(account_one.address).call()\n",
    "    if tickets_remaining > 0:\n",
    "        \n",
    "        # transfer ETHER from buyers private key to sellers private key\n",
    "        buyer_account = Account.from_key(private_key)\n",
    "        # the transaction might not go through if it doesnt dont send ticket\n",
    "        tx_send = send_tx(buyer_account, account_one.address, ticket_price)\n",
    "        nonce = w1.eth.get_transaction_count(account_one.address)\n",
    "        chain_id = w1.eth.chain_id\n",
    "        # For Gas get latest block for better estimation\n",
    "        w1.eth.getBlock(\"latest\")\n",
    "        dict1 = w1.eth.getBlock(\"latest\")\n",
    "        gasEstimate = dict1['gasUsed']\n",
    "        # we sometimes see that the Latest block could return 0 too\n",
    "        if gasEstimate < 600000:\n",
    "            gasEstimate = 600000\n",
    "        gas_price = w1.eth.gasPrice\n",
    "        print('nonce=', nonce )\n",
    "        print('gasEstimate=', gasEstimate)\n",
    "        print('gas_price=', gas_price)\n",
    "        # transfer 1 MTKN to buyer\n",
    "        tx_hash = museum_contract_instance.functions.transfer(buyer_account.address, 1).buildTransaction({'chainId':chain_id, 'gas': gasEstimate, 'gasPrice': gas_price, 'nonce': nonce})\n",
    "        register_signed_txn = w1.eth.account.sign_transaction(tx_hash, private_key=ticket_private_key)\n",
    "        register_sent_txn = w1.eth.send_raw_transaction(register_signed_txn.rawTransaction)\n",
    "        return tx_send, register_sent_txn\n",
    "        # museum_contract_instance.functions.balanceOf(buyer_account).call()\n",
    "        # museum_contract_instance.functions.balanceOf(account_one).call()  "
   ]
  },
  {
   "cell_type": "markdown",
   "id": "d3592563-f5ff-4ec1-af5d-987d5afaaf4b",
   "metadata": {},
   "source": [
    "## Tesing the BuyTicket function "
   ]
  },
  {
   "cell_type": "code",
   "execution_count": 16,
   "id": "9ea34116-3c91-4621-899d-6c968ad3adc7",
   "metadata": {},
   "outputs": [],
   "source": [
    "third_buyer= \"eb573233eed2422f33b9c1928f614a8d2a75d189fca2bd373469457eb205a241\""
   ]
  },
  {
   "cell_type": "code",
   "execution_count": 22,
   "id": "e5d1ffa1-747b-45d7-8c1e-69ff810b9bb3",
   "metadata": {},
   "outputs": [
    {
     "name": "stdout",
     "output_type": "stream",
     "text": [
      "0x6b85e225beae3735d8c2468c980771bfa34adc5b05d8d30101efb65e28f6d546\n",
      "nonce= 40\n",
      "gasEstimate= 1897446\n",
      "gas_price= 5000000000\n"
     ]
    },
    {
     "data": {
      "text/plain": [
       "('0x6b85e225beae3735d8c2468c980771bfa34adc5b05d8d30101efb65e28f6d546',\n",
       " HexBytes('0x1485a02464bff15c8737de7b9931a68df110bcefec19b40b0b15fb4811b436e8'))"
      ]
     },
     "execution_count": 22,
     "metadata": {},
     "output_type": "execute_result"
    }
   ],
   "source": [
    "buyTicket(third_buyer)"
   ]
  },
  {
   "cell_type": "code",
   "execution_count": 23,
   "id": "b1077f2b-9da7-4810-a2c0-ce26e359b0c2",
   "metadata": {},
   "outputs": [
    {
     "name": "stdout",
     "output_type": "stream",
     "text": [
      "0x4deb64b1ac147e8624c5e21b96390bc4b85fdbf87bdfedab55924b8b760cbaa4\n",
      "nonce= 41\n",
      "gasEstimate= 600000\n",
      "gas_price= 5000000000\n"
     ]
    },
    {
     "data": {
      "text/plain": [
       "('0x4deb64b1ac147e8624c5e21b96390bc4b85fdbf87bdfedab55924b8b760cbaa4',\n",
       " HexBytes('0x4411529fa8efb58b9488a128d2af6ad8252f80f89d112ddf1fa7cee5109d3761'))"
      ]
     },
     "execution_count": 23,
     "metadata": {},
     "output_type": "execute_result"
    }
   ],
   "source": [
    "buyTicket(\"011167339039d7537ffbec9b628f73de70c0f443a95030d347aceeea6520a2e1\")"
   ]
  },
  {
   "cell_type": "code",
   "execution_count": null,
   "id": "4273b12d-6bab-4e61-a27d-9be6f72bb481",
   "metadata": {},
   "outputs": [],
   "source": [
    "buyTicket(\"\")"
   ]
  }
 ],
 "metadata": {
  "kernelspec": {
   "display_name": "Ethereum",
   "language": "python",
   "name": "ethereum"
  },
  "language_info": {
   "codemirror_mode": {
    "name": "ipython",
    "version": 3
   },
   "file_extension": ".py",
   "mimetype": "text/x-python",
   "name": "python",
   "nbconvert_exporter": "python",
   "pygments_lexer": "ipython3",
   "version": "3.7.10"
  }
 },
 "nbformat": 4,
 "nbformat_minor": 5
}
