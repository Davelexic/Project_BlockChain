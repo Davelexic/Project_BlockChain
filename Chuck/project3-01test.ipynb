{
 "cells": [
  {
   "cell_type": "code",
   "execution_count": 1,
   "id": "3cb5d9ea-aa92-432a-8cf0-433c71f78d87",
   "metadata": {},
   "outputs": [],
   "source": [
    "import os\n",
    "from web3 import Web3\n",
    "from dotenv import load_dotenv\n",
    "from web3.middleware import geth_poa_middleware\n",
    "from eth_account import Account\n",
    "\n",
    "from pathlib import Path\n",
    "from getpass import getpass\n",
    "import pandas as pd\n",
    "#from eth-utils import w2, eth2"
   ]
  },
  {
   "cell_type": "markdown",
   "id": "3b8e1b58-a7b5-44d0-943c-feebfa3c1dd6",
   "metadata": {},
   "source": [
    "#### Use - Python API for Etherscan.io\n",
    "https://github.com/pcko1/etherscan-python"
   ]
  },
  {
   "cell_type": "code",
   "execution_count": 2,
   "id": "ae8ab56b-9a3f-49ab-8084-2c437e0c320f",
   "metadata": {},
   "outputs": [],
   "source": [
    "from etherscan import Etherscan"
   ]
  },
  {
   "cell_type": "code",
   "execution_count": 3,
   "id": "ca7b59b0-7a5f-40be-9d33-cfc23234a5e9",
   "metadata": {},
   "outputs": [],
   "source": [
    "import json"
   ]
  },
  {
   "cell_type": "code",
   "execution_count": 4,
   "id": "de8df2c3-0139-41cb-9748-c68a7712180d",
   "metadata": {},
   "outputs": [],
   "source": [
    "def test1():\n",
    "    i = 1\n",
    "    while i == 1:\n",
    "        l_museum_action = input('Enter 1 to Register Art, 2 to Buy Art, 3 to get ContractInfo, 4 to exit: ')\n",
    "        try: \n",
    "            museum_action = int(l_museum_action)\n",
    "            break\n",
    "        except Exception as error_action:\n",
    "            print('Please only enter 1:  ')\n",
    "            return error_action\n",
    "    if museum_action == 1:\n",
    "        print('Museum action: ', museum_action)\n",
    "    else:\n",
    "        print('No Valid input')\n",
    "        return None\n",
    "    print('routine continues')\n",
    "    return None"
   ]
  },
  {
   "cell_type": "code",
   "execution_count": 6,
   "id": "46900e96-bf4c-485b-80cc-996ff1e1d188",
   "metadata": {},
   "outputs": [],
   "source": [
    "#def test2():\n",
    "    "
   ]
  },
  {
   "cell_type": "code",
   "execution_count": 7,
   "id": "65ae92e2-5d57-4c1b-bc76-9565d6072b36",
   "metadata": {},
   "outputs": [],
   "source": [
    "#test1()"
   ]
  },
  {
   "cell_type": "code",
   "execution_count": 8,
   "id": "63ab254d-59f9-4774-8c7e-d37b5ab21de0",
   "metadata": {},
   "outputs": [
    {
     "data": {
      "text/plain": [
       "True"
      ]
     },
     "execution_count": 8,
     "metadata": {},
     "output_type": "execute_result"
    }
   ],
   "source": [
    "load_dotenv()"
   ]
  },
  {
   "cell_type": "markdown",
   "id": "c11895dc-3cc4-40e7-8fd2-e29d8e1b0c2f",
   "metadata": {},
   "source": [
    "#### Infura API suite provides instant access over HTTPS and WebSockets to the Ethereum network."
   ]
  },
  {
   "cell_type": "code",
   "execution_count": 9,
   "id": "4363818f-0c3f-4c39-bf03-cd303d64ad2c",
   "metadata": {},
   "outputs": [],
   "source": [
    "WEB3_INFURA_API_KEY =  os.getenv(\"WEB3_INFURA_API_KEY\")"
   ]
  },
  {
   "cell_type": "code",
   "execution_count": 10,
   "id": "82cc3af5-a0b0-4e72-8b9d-d2c25fe61590",
   "metadata": {},
   "outputs": [],
   "source": [
    "WEB3_INFURA_PROJECT_ID = os.getenv(\"WEB3_INFURA_PROJECT_ID\")"
   ]
  },
  {
   "cell_type": "code",
   "execution_count": 11,
   "id": "85c18e66-2459-48cf-8b53-424ac317ab51",
   "metadata": {},
   "outputs": [],
   "source": [
    "mnemonic=os.getenv(\"mnemonic\")"
   ]
  },
  {
   "cell_type": "code",
   "execution_count": 12,
   "id": "eddab63a-49b7-49ae-b49f-9b6f92b5b577",
   "metadata": {},
   "outputs": [
    {
     "data": {
      "text/plain": [
       "'help verb until awesome answer blast friend kidney salute surface worth game'"
      ]
     },
     "execution_count": 12,
     "metadata": {},
     "output_type": "execute_result"
    }
   ],
   "source": [
    "mnemonic"
   ]
  },
  {
   "cell_type": "code",
   "execution_count": 13,
   "id": "9e7a196b-56dd-46c0-8ff8-38efd7bc09d9",
   "metadata": {},
   "outputs": [],
   "source": [
    "private_key2 = os.getenv(\"PRIVATE_KEY2\")"
   ]
  },
  {
   "cell_type": "code",
   "execution_count": 14,
   "id": "b56a6ba2-de72-4112-bf1c-c30f973365a2",
   "metadata": {},
   "outputs": [],
   "source": [
    "private_key1 = os.getenv(\"PRIVATE_KEY1\")"
   ]
  },
  {
   "cell_type": "code",
   "execution_count": 15,
   "id": "f62aa8f2-72d7-4cfe-93c4-0cf609475815",
   "metadata": {},
   "outputs": [],
   "source": [
    "ETHERSCAN_API = os.getenv(\"ETHERSCAN_API\")"
   ]
  },
  {
   "cell_type": "markdown",
   "id": "3604d9f3-cb49-4e94-a39d-ba4bf07bd6ef",
   "metadata": {},
   "source": [
    "#### project is deployed on Kovan Ethereum testnet"
   ]
  },
  {
   "cell_type": "code",
   "execution_count": 16,
   "id": "20045002-0652-42ea-b5ef-a14d62810728",
   "metadata": {},
   "outputs": [],
   "source": [
    "eth = Etherscan(ETHERSCAN_API, net= \"KOVAN\")"
   ]
  },
  {
   "cell_type": "code",
   "execution_count": 17,
   "id": "83e26cd9-d38a-4b43-8c50-d3d7b57f5146",
   "metadata": {},
   "outputs": [],
   "source": [
    "#private_key2"
   ]
  },
  {
   "cell_type": "markdown",
   "id": "0a82c63c-054e-4a41-bc1e-ba93f9ff3f16",
   "metadata": {},
   "source": [
    "#### flag to enable unaudited HD Wallet features. only then we can get addresses from Mnemonic"
   ]
  },
  {
   "cell_type": "code",
   "execution_count": 18,
   "id": "fa58391e-9646-4e6a-8586-40cba2574777",
   "metadata": {},
   "outputs": [],
   "source": [
    "Account.enable_unaudited_hdwallet_features()"
   ]
  },
  {
   "cell_type": "code",
   "execution_count": 19,
   "id": "a1efc402-9b96-48c3-b285-5c5d34009092",
   "metadata": {},
   "outputs": [],
   "source": [
    "account_mnem1 = Account.from_mnemonic(mnemonic, account_path=\"m/44'/60'/0'/0/0\")"
   ]
  },
  {
   "cell_type": "code",
   "execution_count": 20,
   "id": "0e7b3d71-f641-4acb-be3a-a21c3747c817",
   "metadata": {},
   "outputs": [],
   "source": [
    "my_addr1= account_mnem1.address"
   ]
  },
  {
   "cell_type": "code",
   "execution_count": 21,
   "id": "75a2c5ac-6449-4a78-be02-3faef0e35d5d",
   "metadata": {},
   "outputs": [
    {
     "data": {
      "text/plain": [
       "'0x15D5eC9D3F67A42f1D56E205a79ae6931F50A431'"
      ]
     },
     "execution_count": 21,
     "metadata": {},
     "output_type": "execute_result"
    }
   ],
   "source": [
    "my_addr1"
   ]
  },
  {
   "cell_type": "code",
   "execution_count": null,
   "id": "f89b2d7b-85b9-4082-a660-fc122569bed2",
   "metadata": {},
   "outputs": [],
   "source": [
    "account_one = Account.from_key(private_key1)"
   ]
  },
  {
   "cell_type": "code",
   "execution_count": null,
   "id": "47c515e3-f561-4521-aa85-aaaf3cf8c721",
   "metadata": {},
   "outputs": [],
   "source": [
    "account_two = Account.from_key(private_key2)"
   ]
  },
  {
   "cell_type": "code",
   "execution_count": null,
   "id": "0d623f30-3454-47d5-b8ec-baeaef7fd43a",
   "metadata": {},
   "outputs": [],
   "source": [
    "account_one.address"
   ]
  },
  {
   "cell_type": "code",
   "execution_count": null,
   "id": "d1287011-bc9d-4aeb-97a7-d680e2006e1c",
   "metadata": {},
   "outputs": [],
   "source": [
    "account_two.address"
   ]
  },
  {
   "cell_type": "code",
   "execution_count": null,
   "id": "bd082edc-c439-4d90-b021-8ca61dc951d0",
   "metadata": {},
   "outputs": [],
   "source": [
    "my_addr1"
   ]
  },
  {
   "cell_type": "code",
   "execution_count": null,
   "id": "8773b53e-2faa-416d-a0ae-b833c24d46bc",
   "metadata": {},
   "outputs": [],
   "source": [
    "#mnemonic"
   ]
  },
  {
   "cell_type": "code",
   "execution_count": null,
   "id": "5e012fb4-9d36-432c-95d5-c6fb54858122",
   "metadata": {},
   "outputs": [],
   "source": [
    "#WEB3_INFURA_PROJECT_ID"
   ]
  },
  {
   "cell_type": "code",
   "execution_count": null,
   "id": "4ac93947-ac2d-4ecb-a9bc-a4c8f98d304c",
   "metadata": {},
   "outputs": [],
   "source": [
    "from web3.auto.infura import w3"
   ]
  },
  {
   "cell_type": "code",
   "execution_count": null,
   "id": "e06e24c3-4259-42ce-8c30-47258840fc84",
   "metadata": {},
   "outputs": [],
   "source": [
    "https_str = f'https://kovan.infura.io/v3/{WEB3_INFURA_PROJECT_ID}'"
   ]
  },
  {
   "cell_type": "markdown",
   "id": "8f8cfe2e-1232-466a-bea2-bd505d06c44c",
   "metadata": {},
   "source": [
    "#### Connect to infura kovan"
   ]
  },
  {
   "cell_type": "code",
   "execution_count": null,
   "id": "d0a0f0ea-6447-48e9-8721-429f8f1ea314",
   "metadata": {},
   "outputs": [],
   "source": [
    "#w1 = Web3(Web3.HTTPProvider('https://kovan.infura.io/v3/WEB3_INFURA_API_KEY'))\n",
    "w1 = Web3(Web3.HTTPProvider(https_str))"
   ]
  },
  {
   "cell_type": "code",
   "execution_count": null,
   "id": "472225ba-59f8-442c-8243-f523abb8212d",
   "metadata": {},
   "outputs": [],
   "source": [
    "w1.middleware_onion.inject(geth_poa_middleware, layer=0)"
   ]
  },
  {
   "cell_type": "markdown",
   "id": "d1c5371b-2615-4b11-ae13-05152692c826",
   "metadata": {},
   "source": [
    "##### note- Getting contract from Etherscan works. But not from conrtact i had stored. need to check web3.utils.toChecksumAddress"
   ]
  },
  {
   "cell_type": "code",
   "execution_count": null,
   "id": "d14f759a-24d6-49ec-9a36-d41dc543c243",
   "metadata": {},
   "outputs": [],
   "source": [
    "address = '0xe8dC1A842783ebE2FAe39E15cA8CBfdb4d615D44'"
   ]
  },
  {
   "cell_type": "code",
   "execution_count": null,
   "id": "e737f242-e72a-44c9-9fe9-770e2283b51b",
   "metadata": {},
   "outputs": [],
   "source": [
    "address_arc_sale_token = '0xfa28DeB173bAA5e285391b94de257f364076Fec3'"
   ]
  },
  {
   "cell_type": "code",
   "execution_count": null,
   "id": "60713444-e02b-4437-930a-5d78eb97203c",
   "metadata": {},
   "outputs": [],
   "source": [
    "address_arc_token = '0x50640afBA61b8b7f4089Fc3E17e447D77498e5bb'"
   ]
  },
  {
   "cell_type": "code",
   "execution_count": null,
   "id": "513d53e9-5d52-4a0f-9fd1-65737d20c6a5",
   "metadata": {},
   "outputs": [],
   "source": [
    "with open(\"NFTMuseum.txt\") as f:\n",
    "    nftMuseum_json = json.load(f)"
   ]
  },
  {
   "cell_type": "code",
   "execution_count": null,
   "id": "3825a233-2729-4573-8ff1-a5dec9d88843",
   "metadata": {},
   "outputs": [],
   "source": [
    "with open(\"ArcadeTokenSaleContract.txt\") as f:\n",
    "    token_sale_json = json.load(f)\n",
    "#abi = info_json[\"abi\"]"
   ]
  },
  {
   "cell_type": "code",
   "execution_count": null,
   "id": "846fae47-724d-427b-8943-e48cac85d4ba",
   "metadata": {},
   "outputs": [],
   "source": [
    "with open(\"ArcadeTokenContract.txt\") as f:\n",
    "    token_json = json.load(f)\n",
    "#abi = info_json[\"abi\"]"
   ]
  },
  {
   "cell_type": "code",
   "execution_count": null,
   "id": "d057b8ef-d3c2-4a0e-8094-2d6d1e9c3641",
   "metadata": {},
   "outputs": [],
   "source": [
    "#info_json"
   ]
  },
  {
   "cell_type": "code",
   "execution_count": null,
   "id": "794bd022-a439-4b26-b801-311680803c25",
   "metadata": {},
   "outputs": [],
   "source": [
    "contract_instance = w1.eth.contract(address=address, abi=nftMuseum_json)\n",
    "#contract_instance = w3.eth.contract(address=address, abi=token_sale_json)"
   ]
  },
  {
   "cell_type": "code",
   "execution_count": null,
   "id": "9c3de7ae-133d-4552-bb72-409a480fa544",
   "metadata": {},
   "outputs": [],
   "source": [
    "contract_instance_token = w1.eth.contract(address=address_arc_sale_token, abi=token_sale_json)\n",
    "#contract_instance_token = w3.eth.contract(address=address_arc_sale_token, abi=token_sale_json)"
   ]
  },
  {
   "cell_type": "code",
   "execution_count": null,
   "id": "6954a09d-0f74-419a-b562-52f95d3a84ab",
   "metadata": {},
   "outputs": [],
   "source": [
    "token_instance = w1.eth.contract(address=address_arc_token, abi=token_json)\n",
    "#token_instance = w3.eth.contract(address=address_arc_token, abi=token_json)"
   ]
  },
  {
   "cell_type": "markdown",
   "id": "0c04928b-2d38-4471-9141-1f2e8644ce73",
   "metadata": {},
   "source": [
    "### Get contract Functions"
   ]
  },
  {
   "cell_type": "code",
   "execution_count": null,
   "id": "df557e7f-58fa-45ff-9774-debc2049ba4d",
   "metadata": {},
   "outputs": [],
   "source": [
    "token_instance.all_functions()"
   ]
  },
  {
   "cell_type": "markdown",
   "id": "4e1303df-32a2-4542-b6be-e6a200b79eb9",
   "metadata": {},
   "source": [
    "### Check some Contract attributes"
   ]
  },
  {
   "cell_type": "code",
   "execution_count": null,
   "id": "d83b6f81-f1fa-43cb-8e6b-6ff0366c0d7c",
   "metadata": {},
   "outputs": [],
   "source": [
    "token_instance.functions.totalSupply().call()"
   ]
  },
  {
   "cell_type": "code",
   "execution_count": null,
   "id": "ccc17bc9-d214-45cb-9b60-29d39a487d73",
   "metadata": {},
   "outputs": [],
   "source": [
    "token_instance.functions.balanceOf(account_mnem1.address).call()"
   ]
  },
  {
   "cell_type": "code",
   "execution_count": null,
   "id": "2fa01cce-6b43-4533-ba9f-8d4c9eeacafd",
   "metadata": {},
   "outputs": [],
   "source": [
    "token_instance.functions.balanceOf(address_arc_sale_token).call()"
   ]
  },
  {
   "cell_type": "markdown",
   "id": "0121c7be-e2f4-4566-966a-d434fccb7039",
   "metadata": {},
   "source": [
    "### Get contract Functions"
   ]
  },
  {
   "cell_type": "code",
   "execution_count": null,
   "id": "8980d298-082b-4da1-9ab7-78118437a83b",
   "metadata": {},
   "outputs": [],
   "source": [
    "contract_instance.all_functions()"
   ]
  },
  {
   "cell_type": "code",
   "execution_count": null,
   "id": "4ead84a6-d83d-46d9-9126-69e0bdfd79dd",
   "metadata": {},
   "outputs": [],
   "source": [
    "contract_instance_token.all_functions()"
   ]
  },
  {
   "cell_type": "markdown",
   "id": "3708fbfc-14e5-4991-8282-7bd845479427",
   "metadata": {},
   "source": [
    "### Check some Contract attributes"
   ]
  },
  {
   "cell_type": "code",
   "execution_count": null,
   "id": "0abde334-3b8f-417c-b2ec-9b122ba84eba",
   "metadata": {},
   "outputs": [],
   "source": [
    "contract_instance.functions.totalSupply().call()"
   ]
  },
  {
   "cell_type": "code",
   "execution_count": null,
   "id": "7475ee84-53d6-498c-81c0-11c6bd8d2747",
   "metadata": {},
   "outputs": [],
   "source": [
    "contract_instance.functions.art_collection(1).call()"
   ]
  },
  {
   "cell_type": "code",
   "execution_count": null,
   "id": "34209ad5-9c37-4e2a-9572-30d9f511e582",
   "metadata": {},
   "outputs": [],
   "source": [
    "contract_instance.functions.art_collection(2).call()"
   ]
  },
  {
   "cell_type": "code",
   "execution_count": null,
   "id": "ee6d6473-fc2d-42f0-9062-e1b60920f7c4",
   "metadata": {},
   "outputs": [],
   "source": [
    "contract_instance.functions.tokenURI(1).call()"
   ]
  },
  {
   "cell_type": "code",
   "execution_count": null,
   "id": "b4e28870-3163-4d3b-a211-0b0ba87115d5",
   "metadata": {},
   "outputs": [],
   "source": [
    "contract_instance_token.functions.token().call()"
   ]
  },
  {
   "cell_type": "code",
   "execution_count": null,
   "id": "25afb963-0319-4bd1-b776-b686605a197c",
   "metadata": {},
   "outputs": [],
   "source": [
    "#contract_instance_token.functions.buyTokens(address_arc_sale_token).call()"
   ]
  },
  {
   "cell_type": "code",
   "execution_count": null,
   "id": "7236581e-ae52-4f31-ad86-761e8292e86f",
   "metadata": {},
   "outputs": [],
   "source": [
    "nonce = w1.eth.get_transaction_count(account_one.address)"
   ]
  },
  {
   "cell_type": "code",
   "execution_count": null,
   "id": "4ca1ab2f-9e8a-49ff-a6df-0ff9ff5cb052",
   "metadata": {},
   "outputs": [],
   "source": [
    "nonce = 6"
   ]
  },
  {
   "cell_type": "code",
   "execution_count": null,
   "id": "058dbd9e-9122-4f57-8cd0-ab0fc5a1c7c9",
   "metadata": {},
   "outputs": [],
   "source": [
    "nonce"
   ]
  },
  {
   "cell_type": "code",
   "execution_count": null,
   "id": "bc9d96ea-aa6c-47c5-a0d0-3bb8a73d751e",
   "metadata": {},
   "outputs": [],
   "source": [
    "chain_id = w1.eth.chain_id"
   ]
  },
  {
   "cell_type": "code",
   "execution_count": null,
   "id": "4bb243b1-1b7c-4ea1-83df-dd1f388b402d",
   "metadata": {},
   "outputs": [],
   "source": [
    "chain_id"
   ]
  },
  {
   "cell_type": "code",
   "execution_count": null,
   "id": "db84c99b-9285-4411-8022-52eedd59985e",
   "metadata": {},
   "outputs": [],
   "source": [
    "buy_token_amount = 10"
   ]
  },
  {
   "cell_type": "code",
   "execution_count": null,
   "id": "e040dbcd-b7e9-40bc-a00f-ec440fb228d3",
   "metadata": {},
   "outputs": [],
   "source": [
    "w1.toWei('1', 'gwei')"
   ]
  },
  {
   "cell_type": "code",
   "execution_count": null,
   "id": "122ad4c7-5c61-432f-b147-9544f7764562",
   "metadata": {},
   "outputs": [],
   "source": [
    "w1.toWei('1', 'ether')"
   ]
  },
  {
   "cell_type": "code",
   "execution_count": null,
   "id": "b63ebf7f-363a-4cb2-ad56-5d7232412d3a",
   "metadata": {},
   "outputs": [],
   "source": [
    "address_arc_sale_token"
   ]
  },
  {
   "cell_type": "code",
   "execution_count": null,
   "id": "9963a7e4-e520-4ab3-bb83-81d4fc6b9bbc",
   "metadata": {},
   "outputs": [],
   "source": [
    "gasEstimate = w1.eth.estimateGas({\"from\": account_two.address, \"to\": account_one.address, \"value\": 10})"
   ]
  },
  {
   "cell_type": "code",
   "execution_count": null,
   "id": "6ddff229-cb98-4a5b-86de-c6d3ead41d4c",
   "metadata": {},
   "outputs": [],
   "source": [
    "gasEstimate"
   ]
  },
  {
   "cell_type": "code",
   "execution_count": null,
   "id": "b19d2799-bcaa-47b6-8383-bb4055030f45",
   "metadata": {},
   "outputs": [],
   "source": [
    "gasEstimate = 98456"
   ]
  },
  {
   "cell_type": "code",
   "execution_count": null,
   "id": "a50fabff-ae15-4ec4-a212-ee9628174942",
   "metadata": {},
   "outputs": [],
   "source": [
    "gasEstimate"
   ]
  },
  {
   "cell_type": "code",
   "execution_count": null,
   "id": "2f7bfb81-bc68-4683-a92a-fcfd4fb9203b",
   "metadata": {},
   "outputs": [],
   "source": [
    "gas_price = w1.eth.gasPrice"
   ]
  },
  {
   "cell_type": "code",
   "execution_count": null,
   "id": "796c45b6-1825-4c09-bb7b-4406f98bae85",
   "metadata": {},
   "outputs": [],
   "source": [
    "gas_price"
   ]
  },
  {
   "cell_type": "markdown",
   "id": "4258e55b-07da-433b-8947-022dc5afb68e",
   "metadata": {},
   "source": [
    "### For Gas get latest block for better estimation"
   ]
  },
  {
   "cell_type": "code",
   "execution_count": null,
   "id": "436a21d3-c24c-4ea6-b565-cb04cdb016a0",
   "metadata": {},
   "outputs": [],
   "source": [
    "w1.eth.getBlock(\"latest\")"
   ]
  },
  {
   "cell_type": "code",
   "execution_count": null,
   "id": "7e01afff-f484-45d8-8a5c-68f4c2d5f68a",
   "metadata": {},
   "outputs": [],
   "source": [
    "dict1 = w1.eth.getBlock(\"latest\")"
   ]
  },
  {
   "cell_type": "code",
   "execution_count": null,
   "id": "ad946c78-f73e-49af-98a1-9a4b99b60076",
   "metadata": {},
   "outputs": [],
   "source": [
    "dict1['gasUsed']"
   ]
  },
  {
   "cell_type": "code",
   "execution_count": null,
   "id": "27dc9a69-cfe0-4d54-94e9-63ad7328b835",
   "metadata": {},
   "outputs": [],
   "source": [
    "gasEstimate = dict1['gasUsed']"
   ]
  },
  {
   "cell_type": "code",
   "execution_count": null,
   "id": "a0f697fb-42b6-43ec-ae13-b795b806d7b4",
   "metadata": {},
   "outputs": [],
   "source": [
    "gasEstimate"
   ]
  },
  {
   "cell_type": "code",
   "execution_count": null,
   "id": "c5258428-3df9-4ef2-85ad-5fa2b9bf1471",
   "metadata": {},
   "outputs": [],
   "source": [
    "#buy_token_txn = contract_instance_token.functions.buyTokens(address_arc_sale_token).buildTransaction({'chainId':chain_id, 'gas': 10000000, 'gasPrice': 80000000, 'nonce': nonce, 'value': 1, 'from': account_one.address})"
   ]
  },
  {
   "cell_type": "code",
   "execution_count": null,
   "id": "678e6e9c-37f8-4ae0-a7c8-0d24f4a958a8",
   "metadata": {},
   "outputs": [],
   "source": [
    "nonce=25"
   ]
  },
  {
   "cell_type": "markdown",
   "id": "9ed2de34-6f6c-46b6-84d4-49b3df8f381f",
   "metadata": {},
   "source": [
    "#### below address w/o from"
   ]
  },
  {
   "cell_type": "markdown",
   "id": "10065896-263d-4629-8271-782734492e90",
   "metadata": {},
   "source": [
    "### Build transaction for Token Buy"
   ]
  },
  {
   "cell_type": "code",
   "execution_count": null,
   "id": "78ecb976-6c6c-4bbe-9385-993c418f6921",
   "metadata": {},
   "outputs": [],
   "source": [
    "buy_token_txn = contract_instance_token.functions.buyTokens(address_arc_sale_token).buildTransaction({'chainId':chain_id, 'gas': gasEstimate, 'gasPrice': gas_price, 'nonce': nonce, 'value': 1000})"
   ]
  },
  {
   "cell_type": "code",
   "execution_count": null,
   "id": "f8561e94-babe-4efa-aef1-c786d3563cb0",
   "metadata": {},
   "outputs": [],
   "source": [
    "# w1.toWei(buy_token_amount, 'wei')"
   ]
  },
  {
   "cell_type": "code",
   "execution_count": null,
   "id": "537de03e-6448-4093-924c-2355ae42dab4",
   "metadata": {},
   "outputs": [],
   "source": [
    "buy_token_txn"
   ]
  },
  {
   "cell_type": "code",
   "execution_count": null,
   "id": "826d7cef-0074-4342-9101-b0bfaede0941",
   "metadata": {},
   "outputs": [],
   "source": [
    "#signed_txn = w3.eth.account.sign_transaction(buy_token_txn, private_key=private_key1)"
   ]
  },
  {
   "cell_type": "markdown",
   "id": "583c3a5d-a987-45d4-949f-8761c26b049a",
   "metadata": {},
   "source": [
    "### Sign transaction"
   ]
  },
  {
   "cell_type": "code",
   "execution_count": null,
   "id": "4e6d15f9-ad6e-48cf-8f22-dc15f3e4c71a",
   "metadata": {},
   "outputs": [],
   "source": [
    "signed_txn = w1.eth.account.sign_transaction(buy_token_txn, private_key=private_key2)"
   ]
  },
  {
   "cell_type": "code",
   "execution_count": null,
   "id": "33f31af8-5b4b-41ec-90c6-54f890dc0a3c",
   "metadata": {},
   "outputs": [],
   "source": [
    "signed_txn.hash"
   ]
  },
  {
   "cell_type": "code",
   "execution_count": null,
   "id": "fcff0e54-658b-4653-8375-07270628340e",
   "metadata": {},
   "outputs": [],
   "source": []
  },
  {
   "cell_type": "markdown",
   "id": "6e7969e6-4bbd-46e0-8eac-6a96a344cfe4",
   "metadata": {},
   "source": [
    "HexBytes('0xc7ce9eb297de8ddf930c0f65a50f65eeb21f3d04c16918e82017ac27e8fc53a3')"
   ]
  },
  {
   "cell_type": "code",
   "execution_count": null,
   "id": "36b5fee2-2c39-4345-80a7-7b89236b09e0",
   "metadata": {},
   "outputs": [],
   "source": [
    "signed_txn.rawTransaction"
   ]
  },
  {
   "cell_type": "code",
   "execution_count": null,
   "id": "a977639d-a7db-4968-9ad8-e3f5a9448d3e",
   "metadata": {},
   "outputs": [],
   "source": [
    "signed_txn.r"
   ]
  },
  {
   "cell_type": "code",
   "execution_count": null,
   "id": "a4753e20-a119-49a7-80dd-eee4bb452f96",
   "metadata": {},
   "outputs": [],
   "source": [
    "signed_txn.s"
   ]
  },
  {
   "cell_type": "code",
   "execution_count": null,
   "id": "3548b52f-2d0d-4a21-9c04-9a484924d9bc",
   "metadata": {},
   "outputs": [],
   "source": [
    "signed_txn.v"
   ]
  },
  {
   "cell_type": "markdown",
   "id": "efcba4b5-18f9-4f46-abb0-45d29d5e1883",
   "metadata": {},
   "source": [
    "### Send transaction"
   ]
  },
  {
   "cell_type": "code",
   "execution_count": null,
   "id": "d86bd8b1-3788-465c-a9b0-235615f3205e",
   "metadata": {},
   "outputs": [],
   "source": [
    "sent_txn = w1.eth.send_raw_transaction(signed_txn.rawTransaction) "
   ]
  },
  {
   "cell_type": "code",
   "execution_count": null,
   "id": "28dad829-f28a-4008-9ca9-3d0862b2e657",
   "metadata": {},
   "outputs": [],
   "source": [
    "sent_txn."
   ]
  },
  {
   "cell_type": "code",
   "execution_count": null,
   "id": "be9cede7-6f8f-425d-b090-b06ceafd054c",
   "metadata": {},
   "outputs": [],
   "source": [
    "w1."
   ]
  },
  {
   "cell_type": "code",
   "execution_count": null,
   "id": "1e5ad8e1-7590-4121-bdc0-2de0cf2b681f",
   "metadata": {},
   "outputs": [],
   "source": [
    "w1.eth.getTransaction(sent_txn)"
   ]
  },
  {
   "cell_type": "code",
   "execution_count": null,
   "id": "719a23d1-acfa-4ff1-b451-c61f70b7a539",
   "metadata": {},
   "outputs": [],
   "source": [
    "w1.eth.get_transaction_count"
   ]
  },
  {
   "cell_type": "code",
   "execution_count": null,
   "id": "31c88b53-a80b-4099-bf7d-0f245a45aaf0",
   "metadata": {},
   "outputs": [],
   "source": [
    "eth.get_eth_balance(address=account_two.address)"
   ]
  },
  {
   "cell_type": "code",
   "execution_count": null,
   "id": "ffc1f018-58a6-4454-880a-8230ad20f23e",
   "metadata": {},
   "outputs": [],
   "source": [
    "eth.get_eth_balance(address=account_one.address)"
   ]
  },
  {
   "cell_type": "markdown",
   "id": "c4bb02ab-4d41-496f-af9a-bf9adfd08655",
   "metadata": {},
   "source": [
    "## Reporting / Account keeping fromo Etherscan"
   ]
  },
  {
   "cell_type": "markdown",
   "id": "b0cf7539-c0a4-4dc4-9ddc-e9b4fb3ff1e6",
   "metadata": {},
   "source": [
    "### Get transactions at the Sale Token address"
   ]
  },
  {
   "cell_type": "code",
   "execution_count": null,
   "id": "24cf07f3-1d10-4c6f-a698-151746f4e0f1",
   "metadata": {},
   "outputs": [],
   "source": [
    "eth.get_proxy_transaction_by_hash('0x637d37d6f25f180169acbb49702885e371343e25d5c5b611d25871293e50cb5f')"
   ]
  },
  {
   "cell_type": "code",
   "execution_count": null,
   "id": "c5da1cb9-4e84-478f-9741-ec6bc57dbf78",
   "metadata": {},
   "outputs": [],
   "source": [
    "eth.get_erc721_token_transfer_events_by_address(\"address\" : \"0xc0A92121220ed4ea1DEdF3d35645e26464B57348\", \"startblock\" : 0, \"endblock\" : 999999999, \"sort\" : \"asc\")"
   ]
  },
  {
   "cell_type": "code",
   "execution_count": null,
   "id": "3e859094-b278-4427-af41-fa8351cdbef0",
   "metadata": {},
   "outputs": [],
   "source": [
    "sale_token_tnxs= eth.get_normal_txs_by_address(address_arc_sale_token,0,99999999,'X')"
   ]
  },
  {
   "cell_type": "code",
   "execution_count": null,
   "id": "5a45d45a-6e18-4737-93c8-7983de60728e",
   "metadata": {},
   "outputs": [],
   "source": [
    "len(sale_token_tnxs)"
   ]
  },
  {
   "cell_type": "code",
   "execution_count": null,
   "id": "c74428d1-0c42-4a75-bdaa-0bf5b122211e",
   "metadata": {},
   "outputs": [],
   "source": [
    "sale_token_tnxs"
   ]
  },
  {
   "cell_type": "code",
   "execution_count": null,
   "id": "c3cb8855-f096-4201-92a3-2c7870b186ab",
   "metadata": {},
   "outputs": [],
   "source": [
    "sale_token_tnxs[0]['blockNumber']"
   ]
  },
  {
   "cell_type": "code",
   "execution_count": null,
   "id": "b7ea0005-7e3d-4080-919e-35c6ee5a5be3",
   "metadata": {},
   "outputs": [],
   "source": [
    "sale_token_tnxs[1]['blockNumber']"
   ]
  },
  {
   "cell_type": "code",
   "execution_count": null,
   "id": "45af4491-f5f4-4cba-863d-b103250e98dc",
   "metadata": {},
   "outputs": [],
   "source": [
    "int_sale_token_tnxs= eth.get_internal_txs_by_address(address_arc_sale_token,0,99999999,'X')"
   ]
  },
  {
   "cell_type": "code",
   "execution_count": null,
   "id": "a387d6c4-17a8-4f55-b973-2c6dbc6cf254",
   "metadata": {},
   "outputs": [],
   "source": [
    "len(int_sale_token_tnxs)"
   ]
  },
  {
   "cell_type": "code",
   "execution_count": null,
   "id": "1d41beef-89b2-4f53-a95d-7a2a442311ca",
   "metadata": {},
   "outputs": [],
   "source": [
    "#int_sale_token_tnxs"
   ]
  },
  {
   "cell_type": "markdown",
   "id": "920bc3c0-e94d-4b59-863a-293ecb3eeae5",
   "metadata": {},
   "source": [
    "### Convert transactions to Pandas Dataframe"
   ]
  },
  {
   "cell_type": "code",
   "execution_count": null,
   "id": "24b18353-5cbd-4c48-a3df-2068591ef914",
   "metadata": {},
   "outputs": [],
   "source": [
    "tx_df = pd.DataFrame(sale_token_tnxs)"
   ]
  },
  {
   "cell_type": "markdown",
   "id": "253236f7-e5fe-4937-9643-7ca5746b133b",
   "metadata": {},
   "source": [
    "#### convert value to int"
   ]
  },
  {
   "cell_type": "code",
   "execution_count": null,
   "id": "8c913d67-f6d9-49c6-8152-de77275039a8",
   "metadata": {},
   "outputs": [],
   "source": [
    "tx_df['value'] = tx_df['value'].astype(int)"
   ]
  },
  {
   "cell_type": "code",
   "execution_count": null,
   "id": "37504ac5-4076-43d9-92ba-df5598babdc9",
   "metadata": {},
   "outputs": [],
   "source": [
    "tx_df"
   ]
  },
  {
   "cell_type": "code",
   "execution_count": null,
   "id": "62a83529-040d-485b-b5b3-5d9817cd9990",
   "metadata": {},
   "outputs": [],
   "source": [
    "bought_token_df = tx_df[tx_df['isError']=='0']"
   ]
  },
  {
   "cell_type": "markdown",
   "id": "1d12bfd4-f602-4852-8475-64874c656431",
   "metadata": {},
   "source": [
    "### Add token balances from contract (should match what was bought)"
   ]
  },
  {
   "cell_type": "code",
   "execution_count": null,
   "id": "6bb00e6c-6089-4b4c-8184-88b0ae9f5a4d",
   "metadata": {},
   "outputs": [],
   "source": [
    "bought_token_df['value'].sum()"
   ]
  },
  {
   "cell_type": "markdown",
   "id": "c7b5d16d-8c3b-491c-99b9-4d7c4dca891a",
   "metadata": {},
   "source": [
    "### Customers who bought Arcade Sale token"
   ]
  },
  {
   "cell_type": "code",
   "execution_count": null,
   "id": "ffceb576-2007-44f3-801b-6b12e9d4aef2",
   "metadata": {},
   "outputs": [],
   "source": [
    "bought_token_df['from']"
   ]
  },
  {
   "cell_type": "code",
   "execution_count": null,
   "id": "b428a498-88d0-441d-8c06-f6cd2c879609",
   "metadata": {},
   "outputs": [],
   "source": [
    "int_sale_token_tnxs[2]"
   ]
  },
  {
   "cell_type": "code",
   "execution_count": null,
   "id": "c4eff31f-1023-4a7b-906a-44504b2958cc",
   "metadata": {},
   "outputs": [],
   "source": [
    "int_sale_token_tnxs"
   ]
  },
  {
   "cell_type": "code",
   "execution_count": null,
   "id": "61178b53-1dac-411c-b624-13d1a5efa78e",
   "metadata": {},
   "outputs": [],
   "source": [
    "eth.get_normal_txs_by_address(account_one.address,0,99999999,'X')"
   ]
  },
  {
   "cell_type": "markdown",
   "id": "38eb4f8a-6fed-4164-988f-393e3748a32a",
   "metadata": {},
   "source": [
    "### Links with info for code\n",
    "https://stackoverflow.com/questions/67562453/transfer-erc20-token-failed-web3-exceptions-contractlogicerror-execution-rever"
   ]
  },
  {
   "cell_type": "markdown",
   "id": "811bd019-57ed-42aa-b42e-ebfff6f2d180",
   "metadata": {},
   "source": [
    "### https://web3py.readthedocs.io/en/stable/web3.eth.account.html#sign-a-contract-transaction"
   ]
  },
  {
   "cell_type": "markdown",
   "id": "cc8f7f9b-c267-41ae-93a0-4701ca9d7a5f",
   "metadata": {
    "tags": []
   },
   "source": [
    "### https://help.tokensets.com/en/articles/4089766-how-to-push-through-a-stuck-transaction"
   ]
  },
  {
   "cell_type": "markdown",
   "id": "d17f3b6a-7c39-4bd4-954c-4544d218525f",
   "metadata": {},
   "source": [
    "### https://github.com/pcko1/etherscan-python"
   ]
  },
  {
   "cell_type": "markdown",
   "id": "9b8399bc-05fa-40b5-8700-1c9253b81cc1",
   "metadata": {},
   "source": [
    "*** Purchase NFT \n",
    "*** https://medium.com/coinmonks/building-a-non-fungible-token-sales-smart-contract-6573350d5a33"
   ]
  },
  {
   "cell_type": "code",
   "execution_count": null,
   "id": "befbc519-1066-4c7d-88ee-2d6b1194173a",
   "metadata": {},
   "outputs": [],
   "source": []
  }
 ],
 "metadata": {
  "kernelspec": {
   "display_name": "smartcontracts",
   "language": "python",
   "name": "smartcontracts"
  },
  "language_info": {
   "codemirror_mode": {
    "name": "ipython",
    "version": 3
   },
   "file_extension": ".py",
   "mimetype": "text/x-python",
   "name": "python",
   "nbconvert_exporter": "python",
   "pygments_lexer": "ipython3",
   "version": "3.8.8"
  }
 },
 "nbformat": 4,
 "nbformat_minor": 5
}
