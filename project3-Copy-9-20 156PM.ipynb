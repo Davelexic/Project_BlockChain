{
 "cells": [
  {
   "cell_type": "code",
   "execution_count": 2,
   "id": "3cb5d9ea-aa92-432a-8cf0-433c71f78d87",
   "metadata": {},
   "outputs": [],
   "source": [
    "import os\n",
    "from web3 import Web3\n",
    "from dotenv import load_dotenv\n",
    "from web3.middleware import geth_poa_middleware\n",
    "from eth_account import Account\n",
    "\n",
    "from pathlib import Path\n",
    "from getpass import getpass\n",
    "import pandas as pd\n",
    "import getpass"
   ]
  },
  {
   "cell_type": "markdown",
   "id": "3b8e1b58-a7b5-44d0-943c-feebfa3c1dd6",
   "metadata": {},
   "source": [
    "#### Use - Python API for Etherscan.io\n",
    "https://github.com/pcko1/etherscan-python"
   ]
  },
  {
   "cell_type": "code",
   "execution_count": 3,
   "id": "ae8ab56b-9a3f-49ab-8084-2c437e0c320f",
   "metadata": {},
   "outputs": [],
   "source": [
    "from etherscan import Etherscan"
   ]
  },
  {
   "cell_type": "code",
   "execution_count": 4,
   "id": "ca7b59b0-7a5f-40be-9d33-cfc23234a5e9",
   "metadata": {},
   "outputs": [],
   "source": [
    "import json"
   ]
  },
  {
   "cell_type": "code",
   "execution_count": null,
   "id": "63ab254d-59f9-4774-8c7e-d37b5ab21de0",
   "metadata": {},
   "outputs": [],
   "source": [
    "load_dotenv()"
   ]
  },
  {
   "cell_type": "code",
   "execution_count": null,
   "id": "f866f4de-9866-4d5e-93aa-6b07ec3d3b8a",
   "metadata": {},
   "outputs": [],
   "source": [
    "def admin():\n",
    "    load_dotenv()\n",
    "    #### Infura API suite provides instant access over HTTPS and WebSockets to the Ethereum network.\n",
    "    WEB3_INFURA_API_KEY =  os.getenv(\"WEB3_INFURA_API_KEY\")\n",
    "    WEB3_INFURA_PROJECT_ID = os.getenv(\"WEB3_INFURA_PROJECT_ID\")\n",
    "    ### Contract NFT Art Musuem owner private key\n",
    "    museum_private_key = os.getenv(\"PRIVATE_KEY1\")\n",
    "    #### project is deployed on Kovan Ethereum testnet\n",
    "    ETHERSCAN_API = os.getenv(\"ETHERSCAN_API\")\n",
    "    eth = Etherscan(ETHERSCAN_API, net= \"KOVAN\")\n",
    "    #### Connect to infura kovan\n",
    "    https_str = f'https://kovan.infura.io/v3/{WEB3_INFURA_PROJECT_ID}'\n",
    "    w1 = Web3(Web3.HTTPProvider(https_str))\n",
    "    w1.middleware_onion.inject(geth_poa_middleware, layer=0)\n",
    "    account_contract_owner = Account.from_key(museum_private_key)\n",
    "    return WEB3_INFURA_API_KEY, WEB3_INFURA_PROJECT_ID, museum_private_key, eth, w1, account_contract_owner"
   ]
  },
  {
   "cell_type": "markdown",
   "id": "c11895dc-3cc4-40e7-8fd2-e29d8e1b0c2f",
   "metadata": {},
   "source": []
  },
  {
   "cell_type": "code",
   "execution_count": null,
   "id": "4363818f-0c3f-4c39-bf03-cd303d64ad2c",
   "metadata": {},
   "outputs": [],
   "source": [
    "#WEB3_INFURA_API_KEY =  os.getenv(\"WEB3_INFURA_API_KEY\")"
   ]
  },
  {
   "cell_type": "code",
   "execution_count": null,
   "id": "82cc3af5-a0b0-4e72-8b9d-d2c25fe61590",
   "metadata": {},
   "outputs": [],
   "source": [
    "#WEB3_INFURA_PROJECT_ID = os.getenv(\"WEB3_INFURA_PROJECT_ID\")"
   ]
  },
  {
   "cell_type": "markdown",
   "id": "2488ab1f-fe54-43be-ac58-5371f99b8f22",
   "metadata": {},
   "source": [
    "### Zero address - when buy token has exception to roll back the approval"
   ]
  },
  {
   "cell_type": "code",
   "execution_count": null,
   "id": "34c2f395-6054-49b0-b9eb-6cbe3177fb66",
   "metadata": {},
   "outputs": [],
   "source": [
    "zero_address = '0x0000000000000000000000000000000000000000'"
   ]
  },
  {
   "cell_type": "code",
   "execution_count": null,
   "id": "9e7a196b-56dd-46c0-8ff8-38efd7bc09d9",
   "metadata": {},
   "outputs": [],
   "source": [
    "#museum_private_key = os.getenv(\"PRIVATE_KEY1\")"
   ]
  },
  {
   "cell_type": "markdown",
   "id": "ef1ead45-8d4a-4045-a9d4-98c3d121b1dc",
   "metadata": {},
   "source": [
    "### Artist private key - need to approve transfer"
   ]
  },
  {
   "cell_type": "code",
   "execution_count": null,
   "id": "b56a6ba2-de72-4112-bf1c-c30f973365a2",
   "metadata": {},
   "outputs": [],
   "source": [
    "#artist_private_key = os.getenv(\"PRIVATE_KEY2\")"
   ]
  },
  {
   "cell_type": "markdown",
   "id": "d045bf88-9f10-4fae-813e-580cd703dd24",
   "metadata": {},
   "source": [
    "### Buyer private key - later can take as input"
   ]
  },
  {
   "cell_type": "code",
   "execution_count": null,
   "id": "0d981af6-76b1-452c-ad75-fe28d1b7b414",
   "metadata": {},
   "outputs": [],
   "source": [
    "buyer_private_key = os.getenv(\"PRIVATE_KEY3\")      "
   ]
  },
  {
   "cell_type": "code",
   "execution_count": null,
   "id": "f62aa8f2-72d7-4cfe-93c4-0cf609475815",
   "metadata": {},
   "outputs": [],
   "source": [
    "#ETHERSCAN_API = os.getenv(\"ETHERSCAN_API\")"
   ]
  },
  {
   "cell_type": "markdown",
   "id": "3604d9f3-cb49-4e94-a39d-ba4bf07bd6ef",
   "metadata": {},
   "source": []
  },
  {
   "cell_type": "code",
   "execution_count": null,
   "id": "20045002-0652-42ea-b5ef-a14d62810728",
   "metadata": {},
   "outputs": [],
   "source": [
    "#eth = Etherscan(ETHERSCAN_API, net= \"KOVAN\")"
   ]
  },
  {
   "cell_type": "markdown",
   "id": "4c11e617-7299-4263-9a83-9ce4dbb23016",
   "metadata": {},
   "source": [
    "## get private keys of Contract Owner, Artist and Buyer"
   ]
  },
  {
   "cell_type": "code",
   "execution_count": null,
   "id": "f89b2d7b-85b9-4082-a660-fc122569bed2",
   "metadata": {},
   "outputs": [],
   "source": [
    "#account_contract_owner = Account.from_key(museum_private_key)"
   ]
  },
  {
   "cell_type": "code",
   "execution_count": null,
   "id": "47c515e3-f561-4521-aa85-aaaf3cf8c721",
   "metadata": {},
   "outputs": [],
   "source": [
    "#account_artist = Account.from_key(artist_private_key)"
   ]
  },
  {
   "cell_type": "code",
   "execution_count": null,
   "id": "1fa5d8d4-2800-4b12-9a0a-96c7ecc88c04",
   "metadata": {},
   "outputs": [],
   "source": [
    "account_buyer = Account.from_key(buyer_private_key)"
   ]
  },
  {
   "cell_type": "markdown",
   "id": "bd165937-21de-4f78-ac68-243b6d6e1a01",
   "metadata": {},
   "source": [
    "## Check Addresses Contract Owner, Artist and Buyer"
   ]
  },
  {
   "cell_type": "code",
   "execution_count": null,
   "id": "0d623f30-3454-47d5-b8ec-baeaef7fd43a",
   "metadata": {},
   "outputs": [],
   "source": [
    "account_contract_owner.address"
   ]
  },
  {
   "cell_type": "code",
   "execution_count": null,
   "id": "d1287011-bc9d-4aeb-97a7-d680e2006e1c",
   "metadata": {},
   "outputs": [],
   "source": [
    "#account_artist.address"
   ]
  },
  {
   "cell_type": "code",
   "execution_count": null,
   "id": "4a3341cf-de4c-49c7-b25f-b6a2b769d130",
   "metadata": {},
   "outputs": [],
   "source": [
    "account_buyer.address"
   ]
  },
  {
   "cell_type": "markdown",
   "id": "f9059234-3bff-4ee8-b179-0be0371f876e",
   "metadata": {},
   "source": [
    "## For now get Artist NFT info as input - Name of NFT, Artist name, Price, Token URI and Private Key "
   ]
  },
  {
   "cell_type": "code",
   "execution_count": null,
   "id": "f214dde3-5627-4c25-a4c5-ac07bf97d2a2",
   "metadata": {},
   "outputs": [],
   "source": [
    "# nft_name = 'PinkMooon'\n",
    "# artist_name = 'Chuck'\n",
    "# price = 500\n",
    "# token_uri = \"ipfs://bafybeid4ku24x5yblyj6llev4cyfk3ooov2qx7oym5scsm75pavhs3qjuu\""
   ]
  },
  {
   "cell_type": "code",
   "execution_count": null,
   "id": "bfb60918-63c2-4532-9338-fbdc6ab93801",
   "metadata": {},
   "outputs": [],
   "source": []
  },
  {
   "cell_type": "code",
   "execution_count": null,
   "id": "6fed9853-e6f1-493b-a00f-ec7be7f7b425",
   "metadata": {},
   "outputs": [],
   "source": []
  },
  {
   "cell_type": "code",
   "execution_count": null,
   "id": "3fcab46b-9dfa-4cac-9b7a-1216107de9a8",
   "metadata": {},
   "outputs": [],
   "source": [
    "error"
   ]
  },
  {
   "cell_type": "code",
   "execution_count": null,
   "id": "140ce920-d1eb-480f-93f7-78655114c0ee",
   "metadata": {},
   "outputs": [],
   "source": [
    "price"
   ]
  },
  {
   "cell_type": "code",
   "execution_count": null,
   "id": "9b558a89-f108-4a70-82c5-6c1bf8ea6812",
   "metadata": {},
   "outputs": [],
   "source": [
    "type(price)"
   ]
  },
  {
   "cell_type": "code",
   "execution_count": null,
   "id": "602bc335-2069-41ab-9761-a0e0b16d083e",
   "metadata": {},
   "outputs": [],
   "source": [
    "account_artist.address"
   ]
  },
  {
   "cell_type": "markdown",
   "id": "7cf2dc33-3cfb-4bf4-b674-438b7545fb4f",
   "metadata": {},
   "source": [
    "## get Buyer's info of which NFT they want to buy - this will be Token ID - # later this will be taken as Input"
   ]
  },
  {
   "cell_type": "code",
   "execution_count": null,
   "id": "24de322b-6c90-467e-8804-85c393bd75c8",
   "metadata": {},
   "outputs": [],
   "source": [
    "buy_token_id = 2"
   ]
  },
  {
   "cell_type": "code",
   "execution_count": null,
   "id": "4ac93947-ac2d-4ecb-a9bc-a4c8f98d304c",
   "metadata": {},
   "outputs": [],
   "source": [
    "from web3.auto.infura import w3"
   ]
  },
  {
   "cell_type": "code",
   "execution_count": null,
   "id": "e06e24c3-4259-42ce-8c30-47258840fc84",
   "metadata": {},
   "outputs": [],
   "source": [
    "#https_str = f'https://kovan.infura.io/v3/{WEB3_INFURA_PROJECT_ID}'"
   ]
  },
  {
   "cell_type": "markdown",
   "id": "8f8cfe2e-1232-466a-bea2-bd505d06c44c",
   "metadata": {},
   "source": [
    "#### Connect to infura kovan"
   ]
  },
  {
   "cell_type": "code",
   "execution_count": null,
   "id": "d0a0f0ea-6447-48e9-8721-429f8f1ea314",
   "metadata": {},
   "outputs": [],
   "source": [
    "#w1 = Web3(Web3.HTTPProvider('https://kovan.infura.io/v3/WEB3_INFURA_API_KEY'))\n",
    "w1 = Web3(Web3.HTTPProvider(https_str))"
   ]
  },
  {
   "cell_type": "code",
   "execution_count": null,
   "id": "472225ba-59f8-442c-8243-f523abb8212d",
   "metadata": {},
   "outputs": [],
   "source": [
    "w1.middleware_onion.inject(geth_poa_middleware, layer=0)"
   ]
  },
  {
   "cell_type": "markdown",
   "id": "d1c5371b-2615-4b11-ae13-05152692c826",
   "metadata": {},
   "source": [
    "##### note- Getting contract from Etherscan works. But not from conrtact i had stored. need to check web3.utils.toChecksumAddress"
   ]
  },
  {
   "cell_type": "markdown",
   "id": "7adda93c-5261-4c47-a0e1-91e1a92af2ef",
   "metadata": {},
   "source": [
    "## NFT Art Museum Contract Address"
   ]
  },
  {
   "cell_type": "code",
   "execution_count": null,
   "id": "d14f759a-24d6-49ec-9a36-d41dc543c243",
   "metadata": {},
   "outputs": [],
   "source": [
    "nft_museum_address = '0x52e95CF058c086D845B6938Ccd1120C2FCF19a58'"
   ]
  },
  {
   "cell_type": "markdown",
   "id": "e23e022e-ea17-4fd1-8852-47e28cc9ad7d",
   "metadata": {},
   "source": [
    "## read NFTArtMuseum contract ABI"
   ]
  },
  {
   "cell_type": "code",
   "execution_count": null,
   "id": "d2a913d7-99c3-44dd-9b1a-a9ccb1664dfa",
   "metadata": {},
   "outputs": [],
   "source": [
    "with open(\"NFTArtMuseumABI.txt\") as f:\n",
    "    nftArtMuseum_json = json.load(f)"
   ]
  },
  {
   "cell_type": "markdown",
   "id": "a912a5d3-437c-4e96-aa1d-07402558f17a",
   "metadata": {},
   "source": [
    "## Create Contract NFT Art Museum instance"
   ]
  },
  {
   "cell_type": "code",
   "execution_count": null,
   "id": "3f079968-e163-4b1e-9110-bc6a2748d207",
   "metadata": {},
   "outputs": [],
   "source": [
    "contract_NFTArtMuseuminstance = w1.eth.contract(address=nft_museum_address, abi=nftArtMuseum_json)"
   ]
  },
  {
   "cell_type": "markdown",
   "id": "efb87101-45cb-490b-ade7-4f4cdba57650",
   "metadata": {},
   "source": [
    "## Get contract Functions & Check some Contract attributes --- only for testing"
   ]
  },
  {
   "cell_type": "code",
   "execution_count": null,
   "id": "e9782380-25f0-47a3-8a59-a14bc7e9667d",
   "metadata": {},
   "outputs": [],
   "source": [
    "def contract_testing(contract_NFTArtMuseuminstance):\n",
    "    l_all_funcs = contract_NFTArtMuseuminstance.all_functions()\n",
    "    #print(l_all_funcs)\n",
    "    for l_func in l_all_funcs:\n",
    "        print(l_func)\n",
    "    l_symbol = contract_NFTArtMuseuminstance.functions.symbol().call()\n",
    "    print('Symbol: ', l_symbol)\n",
    "    l_name = contract_NFTArtMuseuminstance.functions.name().call()\n",
    "    print('Name: , ',l_name)\n",
    "    l_art_collection = contract_NFTArtMuseuminstance.functions.art_collection(1).call()\n",
    "    print('Art collection: ', l_art_collection)\n",
    "    l_total_supply = contract_NFTArtMuseuminstance.functions.totalSupply().call()\n",
    "    print('Total NFT art in Museum: ', l_total_supply)\n",
    "    return l_all_funcs, l_symbol, l_name, l_art_collection, l_total_supply"
   ]
  },
  {
   "cell_type": "code",
   "execution_count": null,
   "id": "6c4de792-92ae-427b-af37-e9936a4ef251",
   "metadata": {},
   "outputs": [],
   "source": [
    "l_all_funcs, l_symbol, l_name, l_art_collection, l_total_supply =  contract_testing(contract_NFTArtMuseuminstance)"
   ]
  },
  {
   "cell_type": "code",
   "execution_count": null,
   "id": "9963a7e4-e520-4ab3-bb83-81d4fc6b9bbc",
   "metadata": {},
   "outputs": [],
   "source": [
    "#gasEstimate = w1.eth.estimateGas({\"from\": account_buyer.address, \"to\": account_artist.address, \"value\": 10})"
   ]
  },
  {
   "cell_type": "code",
   "execution_count": null,
   "id": "6cc74a60-7540-476a-8032-a607c95d8f6f",
   "metadata": {},
   "outputs": [],
   "source": [
    "def get_artist_registry_info():\n",
    "    error = 0\n",
    "    error_private_key = ''\n",
    "    nft_name = input('Enter your NFT name: ')\n",
    "    artist_name = input('Enter your name: ')\n",
    "    l_price = input('Enter your price for this NFT: ')\n",
    "    price = int(l_price)\n",
    "    token_uri = input('Enter your token URI in IPFS format: ')\n",
    "    # Get Private key of Artist since we need later for Approval\n",
    "    try:\n",
    "        artist_private_key = getpass.getpass('Enter your private key: ')\n",
    "    except Exception as error_private_key:\n",
    "        print('ERROR', error_private_key)\n",
    "        error = 1\n",
    "        #print('Password entered:', artist_private_key)\n",
    "        # Get Artists Crypto Address they want to use to register and get paid\n",
    "    account_artist = Account.from_key(artist_private_key)\n",
    "    return nft_name, artist_name, price, token_uri, artist_private_key, account_artist, error, error_private_key"
   ]
  },
  {
   "cell_type": "code",
   "execution_count": null,
   "id": "08f909cf-cee2-4a65-be6c-b7c996d6d411",
   "metadata": {},
   "outputs": [],
   "source": [
    "nft_name, artist_name, price, token_uri, artist_private_key, account_artist, error, error_private_key = get_artist_registry_info()\n",
    "if error == 1:\n",
    "    print(error_private_key)"
   ]
  },
  {
   "cell_type": "markdown",
   "id": "fb729938-4ea1-429e-88af-4d394ef465e8",
   "metadata": {},
   "source": [
    "## Later need to check contract has estimate"
   ]
  },
  {
   "cell_type": "markdown",
   "id": "99ac7431-8ae8-401c-89b6-15dda820266b",
   "metadata": {},
   "source": [
    "## Get Nonce, Chain id, Gas estimate for Art Registry"
   ]
  },
  {
   "cell_type": "code",
   "execution_count": null,
   "id": "7fe153b9-bf04-4638-977a-40d7eff577a6",
   "metadata": {},
   "outputs": [],
   "source": [
    "def prep_transaction(owner_address):\n",
    "    nonce = w1.eth.get_transaction_count(owner_address)\n",
    "    chain_id = w1.eth.chain_id\n",
    "    # For Gas get latest block for better estimation\n",
    "    w1.eth.getBlock(\"latest\")\n",
    "    dict1 = w1.eth.getBlock(\"latest\")\n",
    "    gasEstimate = dict1['gasUsed']\n",
    "    # we sometimes see that the Latest block could return 0 too\n",
    "    if gasEstimate < 600000:\n",
    "        gasEstimate = 600000\n",
    "    gas_price = w1.eth.gasPrice\n",
    "    return chain_id, gasEstimate, gas_price, nonce"
   ]
  },
  {
   "cell_type": "code",
   "execution_count": null,
   "id": "fb3c39c3-5cee-4d80-a1a6-1ffc139625a7",
   "metadata": {},
   "outputs": [],
   "source": [
    "chain_id, gasEstimate, gas_price, nonce = prep_transaction(account_contract_owner.address)"
   ]
  },
  {
   "cell_type": "code",
   "execution_count": null,
   "id": "29166faf-60e8-4f0e-9729-7770d79644e2",
   "metadata": {},
   "outputs": [],
   "source": [
    "chain_id"
   ]
  },
  {
   "cell_type": "code",
   "execution_count": null,
   "id": "6fe71fec-11a9-4c19-a357-46a0f62b22cf",
   "metadata": {},
   "outputs": [],
   "source": [
    "w1.eth.getBlock(\"latest\")['gasUsed']"
   ]
  },
  {
   "cell_type": "code",
   "execution_count": null,
   "id": "323b207b-ca7c-4597-ac37-de08f8a822db",
   "metadata": {},
   "outputs": [],
   "source": [
    "gasEstimate"
   ]
  },
  {
   "cell_type": "code",
   "execution_count": null,
   "id": "aa30eb15-100e-4911-ae7f-5bc9360ff88e",
   "metadata": {},
   "outputs": [],
   "source": [
    "gas_price"
   ]
  },
  {
   "cell_type": "code",
   "execution_count": null,
   "id": "b84599d0-c47e-447c-b6c1-a700ac650af7",
   "metadata": {},
   "outputs": [],
   "source": [
    "nonce"
   ]
  },
  {
   "cell_type": "markdown",
   "id": "9ed2de34-6f6c-46b6-84d4-49b3df8f381f",
   "metadata": {},
   "source": [
    "### later test exception by sending 0 gas "
   ]
  },
  {
   "cell_type": "markdown",
   "id": "10065896-263d-4629-8271-782734492e90",
   "metadata": {},
   "source": [
    "## Build transaction for Registering Art"
   ]
  },
  {
   "cell_type": "code",
   "execution_count": null,
   "id": "af479723-9e28-4388-b205-308c8c92fbd8",
   "metadata": {},
   "outputs": [],
   "source": [
    "def execute_art_registry(museum_private_key, artist_address, nft_name, artist_name, price, token_uri, chain_id, gasEstimate, gas_price, nonce):\n",
    "    register_nft_txn = contract_NFTArtMuseuminstance.functions.registerArtwork(artist_address,nft_name,artist_name,price,token_uri).buildTransaction({'chainId':chain_id, 'gas': gasEstimate, 'gasPrice': gas_price, 'nonce': nonce})\n",
    "    ### Register Art Sign transaction w Contract owner credentials\n",
    "    error_signing_txn = ''\n",
    "    error_sign = 0\n",
    "    try:\n",
    "        register_signed_txn = w1.eth.account.sign_transaction(register_nft_txn, private_key=museum_private_key)\n",
    "    except Exception as error_signing_txn:\n",
    "        error_sign = 1\n",
    "    ### Send transaction for Registering\n",
    "    error_sending_txn = ''\n",
    "    error_send = 0\n",
    "    try:\n",
    "        register_sent_txn = w1.eth.send_raw_transaction(register_signed_txn.rawTransaction) \n",
    "    except Exception as error_sending_txn:\n",
    "        error_send = 1\n",
    "    #register_get_txn = w1.eth.getTransaction(register_sent_txn)\n",
    "    return register_nft_txn, register_signed_txn.hash, register_signed_txn.rawTransaction, register_signed_txn.r, register_signed_txn.s, register_signed_txn.v, register_sent_txn, error_sign, error_signing_txn, error_send, error_sending_txn"
   ]
  },
  {
   "cell_type": "code",
   "execution_count": null,
   "id": "12a45dc6-ca87-4e87-9f8c-8116ea850bf0",
   "metadata": {},
   "outputs": [],
   "source": [
    "#register_nft_txn = contract_NFTArtMuseuminstance.functions.registerArtwork(account_artist.address,nft_name,artist_name,price,token_uri).buildTransaction({'chainId':chain_id, 'gas': gasEstimate, 'gasPrice': gas_price, 'nonce': nonce})"
   ]
  },
  {
   "cell_type": "code",
   "execution_count": null,
   "id": "227110da-171d-4085-8e84-b63e5cd2a1a4",
   "metadata": {},
   "outputs": [],
   "source": [
    "account_artist.address"
   ]
  },
  {
   "cell_type": "code",
   "execution_count": null,
   "id": "76a87d3f-85cc-4a92-a10f-1229d3fb7729",
   "metadata": {},
   "outputs": [],
   "source": [
    "nft_name"
   ]
  },
  {
   "cell_type": "code",
   "execution_count": null,
   "id": "4849ef69-98fe-4d13-adec-d9af0283560c",
   "metadata": {},
   "outputs": [],
   "source": [
    "price"
   ]
  },
  {
   "cell_type": "code",
   "execution_count": null,
   "id": "d6123799-9a6e-471d-a1f2-1c36c659bd64",
   "metadata": {},
   "outputs": [],
   "source": [
    "token_uri"
   ]
  },
  {
   "cell_type": "code",
   "execution_count": null,
   "id": "d4361df5-807c-45de-b42c-740f3a37d81b",
   "metadata": {},
   "outputs": [],
   "source": [
    "type(price)"
   ]
  },
  {
   "cell_type": "code",
   "execution_count": null,
   "id": "537de03e-6448-4093-924c-2355ae42dab4",
   "metadata": {},
   "outputs": [],
   "source": [
    "# Call to execute Art Registry with error handling\n",
    "register_nft_txn, register_signed_txn_hash, register_signed_txn_rawTransaction, register_signed_txn_r, register_signed_txn_s, register_signed_txn_v, register_sent_txn, error_sign, error_signing_txn, error_send, error_sending_txn = execute_art_registry(museum_private_key, account_artist.address, nft_name, artist_name, price, token_uri, chain_id, gasEstimate, gas_price, nonce)\n",
    "if error_sign == 1:\n",
    "    print('NFT Art Register - Error signing transaction: ', error_signing_txn)\n",
    "if error_send == 1:\n",
    "    print('NFT Art Register - Error signing transaction: ', error_sending_txn)"
   ]
  },
  {
   "cell_type": "code",
   "execution_count": null,
   "id": "af033ed2-f345-4896-be09-6156e8cf983d",
   "metadata": {},
   "outputs": [],
   "source": []
  },
  {
   "cell_type": "code",
   "execution_count": null,
   "id": "fc77fdbe-9ab3-4ac2-9cff-e1769a868df7",
   "metadata": {},
   "outputs": [],
   "source": []
  },
  {
   "cell_type": "code",
   "execution_count": null,
   "id": "c8da8b24-d390-4068-b370-4f669f05b29c",
   "metadata": {},
   "outputs": [],
   "source": [
    "register_nft_txn"
   ]
  },
  {
   "cell_type": "code",
   "execution_count": null,
   "id": "a631cab5-8977-4dcc-b852-866e9c63069d",
   "metadata": {},
   "outputs": [],
   "source": [
    "register_signed_txn_hash"
   ]
  },
  {
   "cell_type": "code",
   "execution_count": null,
   "id": "cfad142b-7cf6-47cd-910f-9842c47a7199",
   "metadata": {},
   "outputs": [],
   "source": [
    "register_signed_txn_rawTransaction"
   ]
  },
  {
   "cell_type": "code",
   "execution_count": null,
   "id": "2134be15-ebf0-4045-b8f6-4a6ec83c46fc",
   "metadata": {},
   "outputs": [],
   "source": [
    "register_signed_txn_r"
   ]
  },
  {
   "cell_type": "code",
   "execution_count": null,
   "id": "3487192f-8dc5-4e8b-87cf-21e5ef623729",
   "metadata": {},
   "outputs": [],
   "source": [
    "register_signed_txn_s"
   ]
  },
  {
   "cell_type": "code",
   "execution_count": null,
   "id": "f10d7e20-fdb0-4ebb-beb1-2a1c5eb5eb74",
   "metadata": {},
   "outputs": [],
   "source": [
    "register_signed_txn_v"
   ]
  },
  {
   "cell_type": "code",
   "execution_count": null,
   "id": "88cef110-118a-48e4-bc7f-b0eb0c7c166d",
   "metadata": {},
   "outputs": [],
   "source": [
    "register_get_txn = w1.eth.getTransaction(register_sent_txn)"
   ]
  },
  {
   "cell_type": "code",
   "execution_count": null,
   "id": "826d7cef-0074-4342-9101-b0bfaede0941",
   "metadata": {},
   "outputs": [],
   "source": [
    "#signed_txn = w3.eth.account.sign_transaction(buy_token_txn, private_key=private_key1)"
   ]
  },
  {
   "cell_type": "code",
   "execution_count": null,
   "id": "4e6d15f9-ad6e-48cf-8f22-dc15f3e4c71a",
   "metadata": {},
   "outputs": [],
   "source": [
    "#register_signed_txn = w1.eth.account.sign_transaction(register_nft_txn, private_key=private_key1)"
   ]
  },
  {
   "cell_type": "code",
   "execution_count": null,
   "id": "33f31af8-5b4b-41ec-90c6-54f890dc0a3c",
   "metadata": {},
   "outputs": [],
   "source": [
    "#register_signed_txn.hash"
   ]
  },
  {
   "cell_type": "markdown",
   "id": "6e7969e6-4bbd-46e0-8eac-6a96a344cfe4",
   "metadata": {},
   "source": [
    "HexBytes('0xc7ce9eb297de8ddf930c0f65a50f65eeb21f3d04c16918e82017ac27e8fc53a3')"
   ]
  },
  {
   "cell_type": "code",
   "execution_count": null,
   "id": "36b5fee2-2c39-4345-80a7-7b89236b09e0",
   "metadata": {},
   "outputs": [],
   "source": [
    "#register_signed_txn.rawTransaction"
   ]
  },
  {
   "cell_type": "code",
   "execution_count": null,
   "id": "a977639d-a7db-4968-9ad8-e3f5a9448d3e",
   "metadata": {},
   "outputs": [],
   "source": [
    "#register_signed_txn.r"
   ]
  },
  {
   "cell_type": "code",
   "execution_count": null,
   "id": "a4753e20-a119-49a7-80dd-eee4bb452f96",
   "metadata": {},
   "outputs": [],
   "source": [
    "#register_signed_txn.s"
   ]
  },
  {
   "cell_type": "code",
   "execution_count": null,
   "id": "3548b52f-2d0d-4a21-9c04-9a484924d9bc",
   "metadata": {},
   "outputs": [],
   "source": [
    "#register_signed_txn.v"
   ]
  },
  {
   "cell_type": "code",
   "execution_count": null,
   "id": "d86bd8b1-3788-465c-a9b0-235615f3205e",
   "metadata": {},
   "outputs": [],
   "source": [
    "#register_sent_txn = w1.eth.send_raw_transaction(register_signed_txn.rawTransaction) "
   ]
  },
  {
   "cell_type": "code",
   "execution_count": null,
   "id": "1e5ad8e1-7590-4121-bdc0-2de0cf2b681f",
   "metadata": {},
   "outputs": [],
   "source": [
    "#w1.eth.getTransaction(register_sent_txn)"
   ]
  },
  {
   "cell_type": "code",
   "execution_count": null,
   "id": "719a23d1-acfa-4ff1-b451-c61f70b7a539",
   "metadata": {},
   "outputs": [],
   "source": [
    "#w1.eth.get_transaction_count"
   ]
  },
  {
   "cell_type": "markdown",
   "id": "14b4664c-1381-4ee9-9553-1c923738a8bb",
   "metadata": {},
   "source": [
    "## later we need to store all the Artist private keys - so when buyer says he wants to buy a token id then we know the Owners address and private key to approve and transfer. "
   ]
  },
  {
   "cell_type": "markdown",
   "id": "239eeacc-5fd2-4d40-89c3-c7aa884b2934",
   "metadata": {},
   "source": [
    "### Build transaction for Approval of transfer from Owner for Buying art"
   ]
  },
  {
   "cell_type": "markdown",
   "id": "78b721a6-82d8-4e0d-a4fe-5f97e5170c26",
   "metadata": {},
   "source": []
  },
  {
   "cell_type": "code",
   "execution_count": null,
   "id": "81c474db-b435-4c07-8534-136ec0849e75",
   "metadata": {},
   "outputs": [],
   "source": []
  },
  {
   "cell_type": "code",
   "execution_count": null,
   "id": "0e3abea6-29f0-4c72-9b08-21813cc3cac7",
   "metadata": {},
   "outputs": [],
   "source": [
    "#nonce = w1.eth.get_transaction_count(account_artist.address)"
   ]
  },
  {
   "cell_type": "code",
   "execution_count": null,
   "id": "37f502f8-c242-4a9f-9405-461690dc83a5",
   "metadata": {},
   "outputs": [],
   "source": [
    "nonce"
   ]
  },
  {
   "cell_type": "code",
   "execution_count": null,
   "id": "518cdf83-d391-4143-9315-fe6e9ed043eb",
   "metadata": {},
   "outputs": [],
   "source": [
    "def execute_approval(artist_private_key, buyer_address, chain_id, gasEstimate, gas_price, nonce):\n",
    "    approve_nft_txn = contract_NFTArtMuseuminstance.functions.approve(buyer_address,buy_token_id).buildTransaction({'chainId':chain_id, 'gas': gasEstimate, 'gasPrice': gas_price, 'nonce': nonce})\n",
    "    ### Approval Sign transaction w Artist credentials\n",
    "    error_signing_txn = ''\n",
    "    error_sign = 0\n",
    "    try:\n",
    "        approve_signed_nft_txn = w1.eth.account.sign_transaction(approve_nft_txn, private_key=artist_private_key)\n",
    "    except Exception as error_signing_txn:\n",
    "        error_sign = 1\n",
    "    ### Send transaction for Approval\n",
    "    error_sending_txn = ''\n",
    "    error_send = 0\n",
    "    try:\n",
    "        #register_sent_txn = w1.eth.send_raw_transaction(register_signed_txn.rawTransaction) \n",
    "        approve_sent_txn = w1.eth.send_raw_transaction(approve_signed_nft_txn.rawTransaction) \n",
    "    except Exception as error_sending_txn:\n",
    "        error_send = 1\n",
    "    #register_get_txn = w1.eth.getTransaction(register_sent_txn)\n",
    "    return approve_nft_txn, approve_signed_nft_txn.hash, approve_signed_nft_txn.rawTransaction, approve_signed_nft_txn.r, approve_signed_nft_txn.s, approve_signed_nft_txn.v, approve_sent_txn, error_sign, error_signing_txn, error_send, error_sending_txn"
   ]
  },
  {
   "cell_type": "code",
   "execution_count": null,
   "id": "997b2e7c-8c7a-4cfa-b6af-977d0285e1f8",
   "metadata": {},
   "outputs": [],
   "source": [
    "#approve_nft_txn = contract_NFTArtMuseuminstance.functions.approve(account_buyer.address,buy_token_id).buildTransaction({'chainId':chain_id, 'gas': gasEstimate, 'gasPrice': gas_price, 'nonce': nonce})"
   ]
  },
  {
   "cell_type": "code",
   "execution_count": null,
   "id": "bd59caa7-e45b-4aaa-9995-9af8b1ba8cd4",
   "metadata": {},
   "outputs": [],
   "source": [
    "approve_nft_txn"
   ]
  },
  {
   "cell_type": "code",
   "execution_count": null,
   "id": "b17d1825-c421-41bb-97dd-9dcc61e47a13",
   "metadata": {},
   "outputs": [],
   "source": []
  },
  {
   "cell_type": "markdown",
   "id": "0bd5bd78-3ec4-43c5-b8fb-64a9fad74f6b",
   "metadata": {},
   "source": [
    "### Approval Sign transaction w Artist credentials"
   ]
  },
  {
   "cell_type": "code",
   "execution_count": null,
   "id": "2fc81dae-1f25-45d7-8244-effd20dfae93",
   "metadata": {},
   "outputs": [],
   "source": [
    "#approve_signed_nft_txn = w1.eth.account.sign_transaction(approve_nft_txn, private_key=private_key2)"
   ]
  },
  {
   "cell_type": "code",
   "execution_count": null,
   "id": "c90b342c-8cbc-4a90-8d56-ceec520ec562",
   "metadata": {},
   "outputs": [],
   "source": [
    "approve_signed_nft_txn_hash"
   ]
  },
  {
   "cell_type": "code",
   "execution_count": null,
   "id": "ab86ba71-1290-40d4-993b-8d18afdbde98",
   "metadata": {},
   "outputs": [],
   "source": [
    "approve_signed_nft_txn_rawTransaction"
   ]
  },
  {
   "cell_type": "code",
   "execution_count": null,
   "id": "2c5b75ef-7c31-4478-bd88-2807cbb8ba74",
   "metadata": {},
   "outputs": [],
   "source": [
    "approve_signed_nft_txn_r"
   ]
  },
  {
   "cell_type": "code",
   "execution_count": null,
   "id": "08db34f5-e5dc-4c2f-82ac-5f6c3bae62be",
   "metadata": {},
   "outputs": [],
   "source": [
    "approve_signed_nft_txn_s"
   ]
  },
  {
   "cell_type": "code",
   "execution_count": null,
   "id": "dc1bdff0-9c11-4157-9cd7-9fd14d0def54",
   "metadata": {},
   "outputs": [],
   "source": [
    "approve_signed_nft_txn_v"
   ]
  },
  {
   "cell_type": "markdown",
   "id": "0c4a01ae-dd84-4083-8783-7669c5e202e1",
   "metadata": {},
   "source": [
    "### Send transaction for Approval"
   ]
  },
  {
   "cell_type": "code",
   "execution_count": null,
   "id": "a9eb754c-262d-469f-9552-3a0042f69487",
   "metadata": {},
   "outputs": [],
   "source": [
    "#approve_sent_txn = w1.eth.send_raw_transaction(approve_signed_nft_txn.rawTransaction) "
   ]
  },
  {
   "cell_type": "code",
   "execution_count": null,
   "id": "aaf270e9-e67a-4d40-8003-b499c50d30da",
   "metadata": {},
   "outputs": [],
   "source": [
    "approve_get_txn = w1.eth.getTransaction(approve_sent_txn)"
   ]
  },
  {
   "cell_type": "code",
   "execution_count": null,
   "id": "f3328795-8b24-405f-839e-ed822026b451",
   "metadata": {},
   "outputs": [],
   "source": [
    "approve_get_txn"
   ]
  },
  {
   "cell_type": "markdown",
   "id": "e6862f42-c9b3-4098-899b-f24b0ab142c2",
   "metadata": {},
   "source": [
    "## validate who is the approver now that Buyer was approved"
   ]
  },
  {
   "cell_type": "code",
   "execution_count": null,
   "id": "d965691c-b8d4-40d1-9032-bfbb8c3b6914",
   "metadata": {},
   "outputs": [],
   "source": [
    "contract_NFTArtMuseuminstance.functions.getApproved(buy_token_id).call()"
   ]
  },
  {
   "cell_type": "code",
   "execution_count": null,
   "id": "6b1fca0c-9f77-448f-95a1-9e72d1594059",
   "metadata": {},
   "outputs": [],
   "source": []
  },
  {
   "cell_type": "markdown",
   "id": "3f2535c8-42af-4693-a551-06d3a236ddbb",
   "metadata": {},
   "source": [
    "### Build transaction for Actual buy - Buyer will pay Owner and can tranfer since Buyer has approval now"
   ]
  },
  {
   "cell_type": "markdown",
   "id": "9b823678-a740-4bb6-a053-3ac815cf4d89",
   "metadata": {},
   "source": [
    "### "
   ]
  },
  {
   "cell_type": "code",
   "execution_count": null,
   "id": "c6d90ee9-b7f4-4746-a03a-79ee74bbc694",
   "metadata": {},
   "outputs": [],
   "source": []
  },
  {
   "cell_type": "code",
   "execution_count": null,
   "id": "90bf3a89-bfba-4ee0-b1a7-2bae6d8ec832",
   "metadata": {},
   "outputs": [],
   "source": [
    "#nonce = w1.eth.get_transaction_count(account_buyer.address)"
   ]
  },
  {
   "cell_type": "code",
   "execution_count": null,
   "id": "69b56bd9-683a-4a0e-aaa0-bfa30b94b6ce",
   "metadata": {},
   "outputs": [],
   "source": [
    "nonce"
   ]
  },
  {
   "cell_type": "markdown",
   "id": "29af61f9-581b-4765-8deb-4ed440076535",
   "metadata": {},
   "source": [
    "### later check if Buyer address has enough balance even before the Approval"
   ]
  },
  {
   "cell_type": "code",
   "execution_count": null,
   "id": "e54a5d18-3dde-4c83-bb74-95905d1620e6",
   "metadata": {},
   "outputs": [],
   "source": [
    "def execute_buyNFT(buyer_private_key, artist address, price, buy_token_id, chain_id, gasEstimate, gas_price, nonce):\n",
    "    buy_nft_txn = contract_NFTArtMuseuminstance.functions.buyNFT(artist address,price, buy_token_id).buildTransaction({'chainId':chain_id, 'gas': gasEstimate, 'gasPrice': gas_price, 'nonce': nonce})\n",
    "    ### Sign transaction w Buyer's credentials\n",
    "    error_signing_txn = ''\n",
    "    error_sign = 0\n",
    "    try:\n",
    "        signed_buy_nft_txn = w1.eth.account.sign_transaction(buy_nft_txn, private_key=buyer_private_key)\n",
    "    except Exception as error_signing_txn:\n",
    "        error_sign = 1\n",
    "    ### Send transaction for Approval\n",
    "    error_sending_txn = ''\n",
    "    error_send = 0\n",
    "    try:\n",
    "        #register_sent_txn = w1.eth.send_raw_transaction(register_signed_txn.rawTransaction) \n",
    "        buy_nft_sent_txn = w1.eth.send_raw_transaction(signed_buy_nft_txn.rawTransaction) \n",
    "    except Exception as error_sending_txn:\n",
    "        error_send = 1\n",
    "    #register_get_txn = w1.eth.getTransaction(register_sent_txn)\n",
    "    return buy_nft_txn, signed_buy_nft_txn.hash, signed_buy_nft_txn.rawTransaction, signed_buy_nft_txn.r, signed_buy_nft_txn.s, signed_buy_nft_txn.v, buy_nft_sent_txn, error_sign, error_signing_txn, error_send, error_sending_txn"
   ]
  },
  {
   "cell_type": "code",
   "execution_count": null,
   "id": "95460ad1-3563-4245-89e9-ec7975dc661e",
   "metadata": {},
   "outputs": [],
   "source": [
    "## buy_nft_txn = contract_NFTArtMuseuminstance.functions.buyNFT(account_artist.address,price, buy_token_id).buildTransaction({'chainId':chain_id, 'gas': gasEstimate, 'gasPrice': gas_price, 'nonce': nonce, 'value': price})"
   ]
  },
  {
   "cell_type": "code",
   "execution_count": null,
   "id": "97bfc7cb-cef1-4a2b-bff0-b46d464d63e0",
   "metadata": {},
   "outputs": [],
   "source": [
    "def approve_buy_nft():\n",
    "    error_sign = 0\n",
    "    error_send = 0\n",
    "    ##### First approve\n",
    "    # Get Nonce, Chain id, Gas estimate for Approval\n",
    "    chain_id, gasEstimate, gas_price, nonce = prep_transaction(account_artist.address)\n",
    "    # call Approval\n",
    "    approve_nft_txn, approve_signed_nft_txn_hash, approve_signed_nft_txn_rawTransaction, approve_signed_nft_txn_r, approve_signed_nft_txn_s, approve_signed_nft_txn_v, approve_sent_txn, error_sign, error_signing_txn, error_send, error_sending_txn = execute_approval(artist_private_key, account_buyer.address, chain_id, gasEstimate, gas_price, nonce)\n",
    "    if error_sign == 1:\n",
    "        print('Owner approval - Error signing transaction: ', error_signing_txn)\n",
    "    if error_send == 1:\n",
    "        print('Owner approval - Error signing transaction: ', error_sending_txn)\n",
    "    if error_sign != 1 and error_send != 1:\n",
    "        # Approval Succeeded go forward to buy NFT and transfer funds\n",
    "        # Get Nonce, Chain id, Gas estimate for Buyer address\n",
    "        chain_id, gasEstimate, gas_price, nonce = prep_transaction(account_buyer.address)\n",
    "        # call BuyNFT\n",
    "        buy_nft_txn, signed_buy_nft_txn_hash, signed_buy_nft_txn_rawTransaction, signed_buy_nft_txn_r, signed_buy_nft_txn_s, signed_buy_nft_txn_v, buy_nft_sent_txn, error_sign, error_signing_txn, error_send, error_sending_txn = execute_buyNFT(buyer_private_key, artist address, price, buy_token_id, chain_id, gasEstimate, gas_price, nonce)\n",
    "        if error_sign == 1:\n",
    "            print('BuyNFT - Error signing transaction: ', error_signing_txn)\n",
    "        if error_send == 1:\n",
    "            print('BuyNFT - Error signing transaction: ', error_sending_txn)\n",
    "    return error_sign, error_send, error_signing_txn, error_sending_txn"
   ]
  },
  {
   "cell_type": "code",
   "execution_count": null,
   "id": "91505297-433b-4784-b8f6-19fc84210d03",
   "metadata": {},
   "outputs": [],
   "source": []
  },
  {
   "cell_type": "code",
   "execution_count": 1,
   "id": "3c4972c7-4cce-48f0-ad98-309ae0155786",
   "metadata": {},
   "outputs": [
    {
     "ename": "NameError",
     "evalue": "name 'buy_nft_txn' is not defined",
     "output_type": "error",
     "traceback": [
      "\u001b[0;31m---------------------------------------------------------------------------\u001b[0m",
      "\u001b[0;31mNameError\u001b[0m                                 Traceback (most recent call last)",
      "\u001b[0;32m<ipython-input-1-8d4b2965ce18>\u001b[0m in \u001b[0;36m<module>\u001b[0;34m\u001b[0m\n\u001b[0;32m----> 1\u001b[0;31m \u001b[0mbuy_nft_txn\u001b[0m\u001b[0;34m\u001b[0m\u001b[0;34m\u001b[0m\u001b[0m\n\u001b[0m",
      "\u001b[0;31mNameError\u001b[0m: name 'buy_nft_txn' is not defined"
     ]
    }
   ],
   "source": [
    "buy_nft_txn"
   ]
  },
  {
   "cell_type": "code",
   "execution_count": null,
   "id": "d3a8c418-7113-4971-9ef3-3bca5729ae66",
   "metadata": {},
   "outputs": [],
   "source": [
    "##buyNft_signed_txn = w1.eth.account.sign_transaction(buy_nft_txn, private_key=private_key3)"
   ]
  },
  {
   "cell_type": "code",
   "execution_count": null,
   "id": "1b1e9426-3a30-4fc4-94b7-67a11a7e801b",
   "metadata": {},
   "outputs": [],
   "source": [
    "signed_buy_nft_txn_hash"
   ]
  },
  {
   "cell_type": "code",
   "execution_count": null,
   "id": "fc8e963d-5210-4c8a-9d06-c1aeda9b7adb",
   "metadata": {},
   "outputs": [],
   "source": [
    "signed_buy_nft_txn_rawTransaction"
   ]
  },
  {
   "cell_type": "code",
   "execution_count": null,
   "id": "23c0cf06-fc55-401d-8d1d-5f403dd8f6cc",
   "metadata": {},
   "outputs": [],
   "source": [
    "signed_buy_nft_txn_r"
   ]
  },
  {
   "cell_type": "code",
   "execution_count": null,
   "id": "68a497bf-ca1f-4c42-a4a7-292012831a1e",
   "metadata": {},
   "outputs": [],
   "source": [
    "signed_buy_nft_txn_s"
   ]
  },
  {
   "cell_type": "code",
   "execution_count": null,
   "id": "5bd8624a-5af9-4662-8d12-c25b236fe9f8",
   "metadata": {},
   "outputs": [],
   "source": [
    "signed_buy_nft_txn_v"
   ]
  },
  {
   "cell_type": "code",
   "execution_count": null,
   "id": "4ede7ae0-6af7-471a-9767-c18496849178",
   "metadata": {},
   "outputs": [],
   "source": [
    "buy_nft_sent_txn"
   ]
  },
  {
   "cell_type": "code",
   "execution_count": null,
   "id": "4a5b1b3c-6db8-4b0a-a9d1-9c83dd23e2e2",
   "metadata": {},
   "outputs": [],
   "source": [
    "buy_nft_get_txn = w1.eth.getTransaction(buy_nft_sent_txn)"
   ]
  },
  {
   "cell_type": "code",
   "execution_count": null,
   "id": "a0d2a3ef-5033-4afb-ad26-9af3bb2f0425",
   "metadata": {},
   "outputs": [],
   "source": [
    "buy_nft_get_txn"
   ]
  },
  {
   "cell_type": "markdown",
   "id": "b8363f08-5309-43f2-933e-4fdf5f229116",
   "metadata": {},
   "source": [
    "### Send transaction for Buying NFT"
   ]
  },
  {
   "cell_type": "code",
   "execution_count": null,
   "id": "5b3afde9-9147-44e9-8e34-d17b10e5cf04",
   "metadata": {},
   "outputs": [],
   "source": [
    "#buyNft_sent_txn = w1.eth.send_raw_transaction(buyNft_signed_txn.rawTransaction) "
   ]
  },
  {
   "cell_type": "code",
   "execution_count": null,
   "id": "610a7717-aad8-41a7-acef-bd0df5da4b0d",
   "metadata": {},
   "outputs": [],
   "source": [
    "buyNft_get_txn = w1.eth.getTransaction(buyNft_sent_txn)"
   ]
  },
  {
   "cell_type": "code",
   "execution_count": null,
   "id": "db338d3a-c0ca-4517-a281-d9c513bdb29a",
   "metadata": {},
   "outputs": [],
   "source": [
    "buyNft_get_txn"
   ]
  },
  {
   "cell_type": "markdown",
   "id": "aeedac57-62b8-472e-b356-3dc6be78fcbe",
   "metadata": {},
   "source": [
    "## validate who is the Owner now that Buyer has paid and got token id"
   ]
  },
  {
   "cell_type": "code",
   "execution_count": null,
   "id": "ab6ebe95-dc9e-406c-82f5-1f86c99137eb",
   "metadata": {},
   "outputs": [],
   "source": [
    "contract_NFTArtMuseuminstance.functions.ownerOf(buy_token_id).call()"
   ]
  },
  {
   "cell_type": "code",
   "execution_count": null,
   "id": "5dc8e072-48b8-4cd9-8315-33c65b266076",
   "metadata": {},
   "outputs": [],
   "source": []
  },
  {
   "cell_type": "code",
   "execution_count": null,
   "id": "5ae2b8d9-3514-41ad-828a-cd8ce95cdcf8",
   "metadata": {},
   "outputs": [],
   "source": []
  },
  {
   "cell_type": "code",
   "execution_count": null,
   "id": "76e5bade-a0ea-40a5-a9ef-18622c8ab612",
   "metadata": {},
   "outputs": [],
   "source": []
  },
  {
   "cell_type": "code",
   "execution_count": null,
   "id": "31c88b53-a80b-4099-bf7d-0f245a45aaf0",
   "metadata": {},
   "outputs": [],
   "source": [
    "eth.get_eth_balance(address=account_artist.address)"
   ]
  },
  {
   "cell_type": "code",
   "execution_count": null,
   "id": "ffc1f018-58a6-4454-880a-8230ad20f23e",
   "metadata": {},
   "outputs": [],
   "source": [
    "eth.get_eth_balance(address=account_buyer.address)"
   ]
  },
  {
   "cell_type": "markdown",
   "id": "c4bb02ab-4d41-496f-af9a-bf9adfd08655",
   "metadata": {},
   "source": [
    "## Reporting / Account keeping fromo Etherscan"
   ]
  },
  {
   "cell_type": "markdown",
   "id": "b0cf7539-c0a4-4dc4-9ddc-e9b4fb3ff1e6",
   "metadata": {},
   "source": [
    "### Get transactions at the Sale Token address"
   ]
  },
  {
   "cell_type": "code",
   "execution_count": null,
   "id": "3e859094-b278-4427-af41-fa8351cdbef0",
   "metadata": {},
   "outputs": [],
   "source": [
    "sale_token_tnxs= eth.get_normal_txs_by_address(address_arc_sale_token,0,99999999,'X')"
   ]
  },
  {
   "cell_type": "code",
   "execution_count": null,
   "id": "5a45d45a-6e18-4737-93c8-7983de60728e",
   "metadata": {},
   "outputs": [],
   "source": [
    "len(sale_token_tnxs)"
   ]
  },
  {
   "cell_type": "code",
   "execution_count": null,
   "id": "c74428d1-0c42-4a75-bdaa-0bf5b122211e",
   "metadata": {},
   "outputs": [],
   "source": [
    "sale_token_tnxs"
   ]
  },
  {
   "cell_type": "code",
   "execution_count": null,
   "id": "c3cb8855-f096-4201-92a3-2c7870b186ab",
   "metadata": {},
   "outputs": [],
   "source": [
    "sale_token_tnxs[0]['blockNumber']"
   ]
  },
  {
   "cell_type": "code",
   "execution_count": null,
   "id": "b7ea0005-7e3d-4080-919e-35c6ee5a5be3",
   "metadata": {},
   "outputs": [],
   "source": [
    "sale_token_tnxs[1]['blockNumber']"
   ]
  },
  {
   "cell_type": "code",
   "execution_count": null,
   "id": "45af4491-f5f4-4cba-863d-b103250e98dc",
   "metadata": {},
   "outputs": [],
   "source": [
    "int_sale_token_tnxs= eth.get_internal_txs_by_address(address_arc_sale_token,0,99999999,'X')"
   ]
  },
  {
   "cell_type": "code",
   "execution_count": null,
   "id": "a387d6c4-17a8-4f55-b973-2c6dbc6cf254",
   "metadata": {},
   "outputs": [],
   "source": [
    "len(int_sale_token_tnxs)"
   ]
  },
  {
   "cell_type": "code",
   "execution_count": null,
   "id": "1d41beef-89b2-4f53-a95d-7a2a442311ca",
   "metadata": {},
   "outputs": [],
   "source": [
    "#int_sale_token_tnxs"
   ]
  },
  {
   "cell_type": "markdown",
   "id": "920bc3c0-e94d-4b59-863a-293ecb3eeae5",
   "metadata": {},
   "source": [
    "### Convert transactions to Pandas Dataframe"
   ]
  },
  {
   "cell_type": "code",
   "execution_count": null,
   "id": "24b18353-5cbd-4c48-a3df-2068591ef914",
   "metadata": {},
   "outputs": [],
   "source": [
    "tx_df = pd.DataFrame(sale_token_tnxs)"
   ]
  },
  {
   "cell_type": "markdown",
   "id": "253236f7-e5fe-4937-9643-7ca5746b133b",
   "metadata": {},
   "source": [
    "#### convert value to int"
   ]
  },
  {
   "cell_type": "code",
   "execution_count": null,
   "id": "8c913d67-f6d9-49c6-8152-de77275039a8",
   "metadata": {},
   "outputs": [],
   "source": [
    "tx_df['value'] = tx_df['value'].astype(int)"
   ]
  },
  {
   "cell_type": "code",
   "execution_count": null,
   "id": "37504ac5-4076-43d9-92ba-df5598babdc9",
   "metadata": {},
   "outputs": [],
   "source": [
    "tx_df"
   ]
  },
  {
   "cell_type": "code",
   "execution_count": null,
   "id": "62a83529-040d-485b-b5b3-5d9817cd9990",
   "metadata": {},
   "outputs": [],
   "source": [
    "bought_token_df = tx_df[tx_df['isError']=='0']"
   ]
  },
  {
   "cell_type": "markdown",
   "id": "1d12bfd4-f602-4852-8475-64874c656431",
   "metadata": {},
   "source": [
    "### Add token balances from contract (should match what was bought)"
   ]
  },
  {
   "cell_type": "code",
   "execution_count": null,
   "id": "6bb00e6c-6089-4b4c-8184-88b0ae9f5a4d",
   "metadata": {},
   "outputs": [],
   "source": [
    "bought_token_df['value'].sum()"
   ]
  },
  {
   "cell_type": "markdown",
   "id": "c7b5d16d-8c3b-491c-99b9-4d7c4dca891a",
   "metadata": {},
   "source": [
    "### Customers who bought Arcade Sale token"
   ]
  },
  {
   "cell_type": "code",
   "execution_count": null,
   "id": "ffceb576-2007-44f3-801b-6b12e9d4aef2",
   "metadata": {},
   "outputs": [],
   "source": [
    "bought_token_df['from']"
   ]
  },
  {
   "cell_type": "code",
   "execution_count": null,
   "id": "b428a498-88d0-441d-8c06-f6cd2c879609",
   "metadata": {},
   "outputs": [],
   "source": [
    "int_sale_token_tnxs[2]"
   ]
  },
  {
   "cell_type": "code",
   "execution_count": null,
   "id": "c4eff31f-1023-4a7b-906a-44504b2958cc",
   "metadata": {},
   "outputs": [],
   "source": [
    "int_sale_token_tnxs"
   ]
  },
  {
   "cell_type": "code",
   "execution_count": null,
   "id": "61178b53-1dac-411c-b624-13d1a5efa78e",
   "metadata": {},
   "outputs": [],
   "source": [
    "eth.get_normal_txs_by_address(account_one.address,0,99999999,'X')"
   ]
  },
  {
   "cell_type": "markdown",
   "id": "38eb4f8a-6fed-4164-988f-393e3748a32a",
   "metadata": {},
   "source": [
    "### Links with info for code\n",
    "https://stackoverflow.com/questions/67562453/transfer-erc20-token-failed-web3-exceptions-contractlogicerror-execution-rever"
   ]
  },
  {
   "cell_type": "markdown",
   "id": "811bd019-57ed-42aa-b42e-ebfff6f2d180",
   "metadata": {},
   "source": [
    "### https://web3py.readthedocs.io/en/stable/web3.eth.account.html#sign-a-contract-transaction"
   ]
  },
  {
   "cell_type": "markdown",
   "id": "cc8f7f9b-c267-41ae-93a0-4701ca9d7a5f",
   "metadata": {
    "tags": []
   },
   "source": [
    "### https://help.tokensets.com/en/articles/4089766-how-to-push-through-a-stuck-transaction"
   ]
  },
  {
   "cell_type": "markdown",
   "id": "d17f3b6a-7c39-4bd4-954c-4544d218525f",
   "metadata": {},
   "source": [
    "### https://github.com/pcko1/etherscan-python"
   ]
  },
  {
   "cell_type": "markdown",
   "id": "9b8399bc-05fa-40b5-8700-1c9253b81cc1",
   "metadata": {},
   "source": [
    "*** Purchase NFT \n",
    "*** https://medium.com/coinmonks/building-a-non-fungible-token-sales-smart-contract-6573350d5a33"
   ]
  },
  {
   "cell_type": "markdown",
   "id": "df312690-cafd-4e0c-8cea-e07b97005ab8",
   "metadata": {},
   "source": [
    "*** great one to solve how to Buy at the same transfer the NFT too \n",
    "https://medium.com/coinmonks/guide-to-creating-your-own-nft-with-javascript-solidity-part-1-of-3-7909b80fae94"
   ]
  },
  {
   "cell_type": "markdown",
   "id": "a4978b9c-13fc-4823-a56e-946039ef6ff9",
   "metadata": {},
   "source": [
    "### Streamlit simple ex:"
   ]
  },
  {
   "cell_type": "markdown",
   "id": "5ff5365c-96b1-4f89-9308-2bd7aba6de3c",
   "metadata": {},
   "source": [
    "#### https://towardsdatascience.com/building-a-simple-ui-for-python-fd0e5f2a2d8b"
   ]
  },
  {
   "cell_type": "code",
   "execution_count": null,
   "id": "9036476b-da2a-42dd-8ee2-78d9bdc26301",
   "metadata": {},
   "outputs": [],
   "source": []
  }
 ],
 "metadata": {
  "kernelspec": {
   "display_name": "smartcontracts",
   "language": "python",
   "name": "smartcontracts"
  },
  "language_info": {
   "codemirror_mode": {
    "name": "ipython",
    "version": 3
   },
   "file_extension": ".py",
   "mimetype": "text/x-python",
   "name": "python",
   "nbconvert_exporter": "python",
   "pygments_lexer": "ipython3",
   "version": "3.8.8"
  }
 },
 "nbformat": 4,
 "nbformat_minor": 5
}
