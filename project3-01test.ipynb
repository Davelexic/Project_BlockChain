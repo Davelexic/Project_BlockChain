{
 "cells": [
  {
   "cell_type": "code",
   "execution_count": 45,
   "id": "3cb5d9ea-aa92-432a-8cf0-433c71f78d87",
   "metadata": {},
   "outputs": [],
   "source": [
    "import os\n",
    "from web3 import Web3\n",
    "from dotenv import load_dotenv\n",
    "from web3.middleware import geth_poa_middleware\n",
    "from eth_account import Account\n",
    "\n",
    "from pathlib import Path\n",
    "from getpass import getpass\n",
    "import pandas as pd"
   ]
  },
  {
   "cell_type": "markdown",
   "id": "3b8e1b58-a7b5-44d0-943c-feebfa3c1dd6",
   "metadata": {},
   "source": [
    "#### Use - Python API for Etherscan.io\n",
    "https://github.com/pcko1/etherscan-python"
   ]
  },
  {
   "cell_type": "code",
   "execution_count": 46,
   "id": "ae8ab56b-9a3f-49ab-8084-2c437e0c320f",
   "metadata": {},
   "outputs": [],
   "source": [
    "from etherscan import Etherscan"
   ]
  },
  {
   "cell_type": "code",
   "execution_count": 47,
   "id": "ca7b59b0-7a5f-40be-9d33-cfc23234a5e9",
   "metadata": {},
   "outputs": [],
   "source": [
    "import json"
   ]
  },
  {
   "cell_type": "code",
   "execution_count": 58,
   "id": "de8df2c3-0139-41cb-9748-c68a7712180d",
   "metadata": {},
   "outputs": [],
   "source": [
    "def test1():\n",
    "    i = 1\n",
    "    while i == 1:\n",
    "        l_museum_action = input('Enter 1 to Register Art, 2 to Buy Art, 3 to get ContractInfo, 4 to exit: ')\n",
    "        try: \n",
    "            museum_action = int(l_museum_action)\n",
    "            break\n",
    "        except Exception as error_action:\n",
    "            print('Please only enter 1:  ')\n",
    "            return error_action\n",
    "    if museum_action == 1:\n",
    "        print('Museum action: ', museum_action)\n",
    "    else:\n",
    "        print('No Valid input')\n",
    "        return None\n",
    "    print('routine continues')\n",
    "    return None"
   ]
  },
  {
   "cell_type": "code",
   "execution_count": 59,
   "id": "65ae92e2-5d57-4c1b-bc76-9565d6072b36",
   "metadata": {},
   "outputs": [
    {
     "name": "stdin",
     "output_type": "stream",
     "text": [
      "Enter 1 to Register Art, 2 to Buy Art, 3 to get ContractInfo, 4 to exit:  4\n"
     ]
    },
    {
     "name": "stdout",
     "output_type": "stream",
     "text": [
      "No Valid input\n"
     ]
    }
   ],
   "source": [
    "test1()"
   ]
  },
  {
   "cell_type": "code",
   "execution_count": 5,
   "id": "63ab254d-59f9-4774-8c7e-d37b5ab21de0",
   "metadata": {},
   "outputs": [
    {
     "data": {
      "text/plain": [
       "True"
      ]
     },
     "execution_count": 5,
     "metadata": {},
     "output_type": "execute_result"
    }
   ],
   "source": [
    "load_dotenv()"
   ]
  },
  {
   "cell_type": "markdown",
   "id": "c11895dc-3cc4-40e7-8fd2-e29d8e1b0c2f",
   "metadata": {},
   "source": [
    "#### Infura API suite provides instant access over HTTPS and WebSockets to the Ethereum network."
   ]
  },
  {
   "cell_type": "code",
   "execution_count": 6,
   "id": "4363818f-0c3f-4c39-bf03-cd303d64ad2c",
   "metadata": {},
   "outputs": [],
   "source": [
    "WEB3_INFURA_API_KEY =  os.getenv(\"WEB3_INFURA_API_KEY\")"
   ]
  },
  {
   "cell_type": "code",
   "execution_count": 7,
   "id": "82cc3af5-a0b0-4e72-8b9d-d2c25fe61590",
   "metadata": {},
   "outputs": [],
   "source": [
    "WEB3_INFURA_PROJECT_ID = os.getenv(\"WEB3_INFURA_PROJECT_ID\")"
   ]
  },
  {
   "cell_type": "code",
   "execution_count": 8,
   "id": "85c18e66-2459-48cf-8b53-424ac317ab51",
   "metadata": {},
   "outputs": [],
   "source": [
    "mnemonic=os.getenv(\"mnemonic\")"
   ]
  },
  {
   "cell_type": "code",
   "execution_count": 9,
   "id": "eddab63a-49b7-49ae-b49f-9b6f92b5b577",
   "metadata": {},
   "outputs": [],
   "source": [
    "#mnemonic"
   ]
  },
  {
   "cell_type": "code",
   "execution_count": 10,
   "id": "9e7a196b-56dd-46c0-8ff8-38efd7bc09d9",
   "metadata": {},
   "outputs": [],
   "source": [
    "private_key2 = os.getenv(\"PRIVATE_KEY2\")"
   ]
  },
  {
   "cell_type": "code",
   "execution_count": 11,
   "id": "b56a6ba2-de72-4112-bf1c-c30f973365a2",
   "metadata": {},
   "outputs": [],
   "source": [
    "private_key1 = os.getenv(\"PRIVATE_KEY1\")"
   ]
  },
  {
   "cell_type": "code",
   "execution_count": 12,
   "id": "f62aa8f2-72d7-4cfe-93c4-0cf609475815",
   "metadata": {},
   "outputs": [],
   "source": [
    "ETHERSCAN_API = os.getenv(\"ETHERSCAN_API\")"
   ]
  },
  {
   "cell_type": "markdown",
   "id": "3604d9f3-cb49-4e94-a39d-ba4bf07bd6ef",
   "metadata": {},
   "source": [
    "#### project is deployed on Kovan Ethereum testnet"
   ]
  },
  {
   "cell_type": "code",
   "execution_count": 13,
   "id": "20045002-0652-42ea-b5ef-a14d62810728",
   "metadata": {},
   "outputs": [],
   "source": [
    "eth = Etherscan(ETHERSCAN_API, net= \"KOVAN\")"
   ]
  },
  {
   "cell_type": "code",
   "execution_count": 14,
   "id": "83e26cd9-d38a-4b43-8c50-d3d7b57f5146",
   "metadata": {},
   "outputs": [],
   "source": [
    "#private_key2"
   ]
  },
  {
   "cell_type": "markdown",
   "id": "0a82c63c-054e-4a41-bc1e-ba93f9ff3f16",
   "metadata": {},
   "source": [
    "#### flag to enable unaudited HD Wallet features. only then we can get addresses from Mnemonic"
   ]
  },
  {
   "cell_type": "code",
   "execution_count": 15,
   "id": "fa58391e-9646-4e6a-8586-40cba2574777",
   "metadata": {},
   "outputs": [],
   "source": [
    "Account.enable_unaudited_hdwallet_features()"
   ]
  },
  {
   "cell_type": "code",
   "execution_count": 16,
   "id": "a1efc402-9b96-48c3-b285-5c5d34009092",
   "metadata": {},
   "outputs": [],
   "source": [
    "account_mnem1 = Account.from_mnemonic(mnemonic, account_path=\"m/44'/60'/0'/0/0\")"
   ]
  },
  {
   "cell_type": "code",
   "execution_count": 17,
   "id": "0e7b3d71-f641-4acb-be3a-a21c3747c817",
   "metadata": {},
   "outputs": [],
   "source": [
    "my_addr1= account_mnem1.address"
   ]
  },
  {
   "cell_type": "code",
   "execution_count": 18,
   "id": "f89b2d7b-85b9-4082-a660-fc122569bed2",
   "metadata": {},
   "outputs": [],
   "source": [
    "account_one = Account.from_key(private_key1)"
   ]
  },
  {
   "cell_type": "code",
   "execution_count": 19,
   "id": "47c515e3-f561-4521-aa85-aaaf3cf8c721",
   "metadata": {},
   "outputs": [],
   "source": [
    "account_two = Account.from_key(private_key2)"
   ]
  },
  {
   "cell_type": "code",
   "execution_count": 20,
   "id": "0d623f30-3454-47d5-b8ec-baeaef7fd43a",
   "metadata": {},
   "outputs": [
    {
     "data": {
      "text/plain": [
       "'0x15D5eC9D3F67A42f1D56E205a79ae6931F50A431'"
      ]
     },
     "execution_count": 20,
     "metadata": {},
     "output_type": "execute_result"
    }
   ],
   "source": [
    "account_one.address"
   ]
  },
  {
   "cell_type": "code",
   "execution_count": 21,
   "id": "d1287011-bc9d-4aeb-97a7-d680e2006e1c",
   "metadata": {},
   "outputs": [
    {
     "data": {
      "text/plain": [
       "'0xAB4A0C2ed939f32DE20E7118E23fddaF9739aCe0'"
      ]
     },
     "execution_count": 21,
     "metadata": {},
     "output_type": "execute_result"
    }
   ],
   "source": [
    "account_two.address"
   ]
  },
  {
   "cell_type": "code",
   "execution_count": 22,
   "id": "bd082edc-c439-4d90-b021-8ca61dc951d0",
   "metadata": {},
   "outputs": [
    {
     "data": {
      "text/plain": [
       "'0x15D5eC9D3F67A42f1D56E205a79ae6931F50A431'"
      ]
     },
     "execution_count": 22,
     "metadata": {},
     "output_type": "execute_result"
    }
   ],
   "source": [
    "my_addr1"
   ]
  },
  {
   "cell_type": "code",
   "execution_count": 23,
   "id": "8773b53e-2faa-416d-a0ae-b833c24d46bc",
   "metadata": {},
   "outputs": [],
   "source": [
    "#mnemonic"
   ]
  },
  {
   "cell_type": "code",
   "execution_count": 24,
   "id": "5e012fb4-9d36-432c-95d5-c6fb54858122",
   "metadata": {},
   "outputs": [],
   "source": [
    "#WEB3_INFURA_PROJECT_ID"
   ]
  },
  {
   "cell_type": "code",
   "execution_count": 25,
   "id": "4ac93947-ac2d-4ecb-a9bc-a4c8f98d304c",
   "metadata": {},
   "outputs": [],
   "source": [
    "from web3.auto.infura import w3"
   ]
  },
  {
   "cell_type": "code",
   "execution_count": 26,
   "id": "e06e24c3-4259-42ce-8c30-47258840fc84",
   "metadata": {},
   "outputs": [],
   "source": [
    "https_str = f'https://kovan.infura.io/v3/{WEB3_INFURA_PROJECT_ID}'"
   ]
  },
  {
   "cell_type": "markdown",
   "id": "8f8cfe2e-1232-466a-bea2-bd505d06c44c",
   "metadata": {},
   "source": [
    "#### Connect to infura kovan"
   ]
  },
  {
   "cell_type": "code",
   "execution_count": 27,
   "id": "d0a0f0ea-6447-48e9-8721-429f8f1ea314",
   "metadata": {},
   "outputs": [],
   "source": [
    "#w1 = Web3(Web3.HTTPProvider('https://kovan.infura.io/v3/WEB3_INFURA_API_KEY'))\n",
    "w1 = Web3(Web3.HTTPProvider(https_str))"
   ]
  },
  {
   "cell_type": "code",
   "execution_count": 28,
   "id": "472225ba-59f8-442c-8243-f523abb8212d",
   "metadata": {},
   "outputs": [],
   "source": [
    "w1.middleware_onion.inject(geth_poa_middleware, layer=0)"
   ]
  },
  {
   "cell_type": "markdown",
   "id": "d1c5371b-2615-4b11-ae13-05152692c826",
   "metadata": {},
   "source": [
    "##### note- Getting contract from Etherscan works. But not from conrtact i had stored. need to check web3.utils.toChecksumAddress"
   ]
  },
  {
   "cell_type": "code",
   "execution_count": 36,
   "id": "d14f759a-24d6-49ec-9a36-d41dc543c243",
   "metadata": {},
   "outputs": [],
   "source": [
    "address = '0xe8dC1A842783ebE2FAe39E15cA8CBfdb4d615D44'"
   ]
  },
  {
   "cell_type": "code",
   "execution_count": 30,
   "id": "e737f242-e72a-44c9-9fe9-770e2283b51b",
   "metadata": {},
   "outputs": [],
   "source": [
    "address_arc_sale_token = '0xfa28DeB173bAA5e285391b94de257f364076Fec3'"
   ]
  },
  {
   "cell_type": "code",
   "execution_count": 31,
   "id": "60713444-e02b-4437-930a-5d78eb97203c",
   "metadata": {},
   "outputs": [],
   "source": [
    "address_arc_token = '0x50640afBA61b8b7f4089Fc3E17e447D77498e5bb'"
   ]
  },
  {
   "cell_type": "code",
   "execution_count": 34,
   "id": "513d53e9-5d52-4a0f-9fd1-65737d20c6a5",
   "metadata": {},
   "outputs": [],
   "source": [
    "with open(\"NFTMuseum.txt\") as f:\n",
    "    nftMuseum_json = json.load(f)"
   ]
  },
  {
   "cell_type": "code",
   "execution_count": 32,
   "id": "3825a233-2729-4573-8ff1-a5dec9d88843",
   "metadata": {},
   "outputs": [],
   "source": [
    "with open(\"ArcadeTokenSaleContract.txt\") as f:\n",
    "    token_sale_json = json.load(f)\n",
    "#abi = info_json[\"abi\"]"
   ]
  },
  {
   "cell_type": "code",
   "execution_count": 33,
   "id": "846fae47-724d-427b-8943-e48cac85d4ba",
   "metadata": {},
   "outputs": [],
   "source": [
    "with open(\"ArcadeTokenContract.txt\") as f:\n",
    "    token_json = json.load(f)\n",
    "#abi = info_json[\"abi\"]"
   ]
  },
  {
   "cell_type": "code",
   "execution_count": 34,
   "id": "d057b8ef-d3c2-4a0e-8094-2d6d1e9c3641",
   "metadata": {},
   "outputs": [],
   "source": [
    "#info_json"
   ]
  },
  {
   "cell_type": "code",
   "execution_count": 37,
   "id": "794bd022-a439-4b26-b801-311680803c25",
   "metadata": {},
   "outputs": [],
   "source": [
    "contract_instance = w1.eth.contract(address=address, abi=nftMuseum_json)\n",
    "#contract_instance = w3.eth.contract(address=address, abi=token_sale_json)"
   ]
  },
  {
   "cell_type": "code",
   "execution_count": 36,
   "id": "9c3de7ae-133d-4552-bb72-409a480fa544",
   "metadata": {},
   "outputs": [],
   "source": [
    "contract_instance_token = w1.eth.contract(address=address_arc_sale_token, abi=token_sale_json)\n",
    "#contract_instance_token = w3.eth.contract(address=address_arc_sale_token, abi=token_sale_json)"
   ]
  },
  {
   "cell_type": "code",
   "execution_count": 37,
   "id": "6954a09d-0f74-419a-b562-52f95d3a84ab",
   "metadata": {},
   "outputs": [],
   "source": [
    "token_instance = w1.eth.contract(address=address_arc_token, abi=token_json)\n",
    "#token_instance = w3.eth.contract(address=address_arc_token, abi=token_json)"
   ]
  },
  {
   "cell_type": "markdown",
   "id": "0c04928b-2d38-4471-9141-1f2e8644ce73",
   "metadata": {},
   "source": [
    "### Get contract Functions"
   ]
  },
  {
   "cell_type": "code",
   "execution_count": 38,
   "id": "df557e7f-58fa-45ff-9774-debc2049ba4d",
   "metadata": {},
   "outputs": [
    {
     "data": {
      "text/plain": [
       "[<Function addMinter(address)>,\n",
       " <Function allowance(address,address)>,\n",
       " <Function approve(address,uint256)>,\n",
       " <Function balanceOf(address)>,\n",
       " <Function decimals()>,\n",
       " <Function decreaseAllowance(address,uint256)>,\n",
       " <Function increaseAllowance(address,uint256)>,\n",
       " <Function isMinter(address)>,\n",
       " <Function mint(address,uint256)>,\n",
       " <Function name()>,\n",
       " <Function renounceMinter()>,\n",
       " <Function symbol()>,\n",
       " <Function totalSupply()>,\n",
       " <Function transfer(address,uint256)>,\n",
       " <Function transferFrom(address,address,uint256)>]"
      ]
     },
     "execution_count": 38,
     "metadata": {},
     "output_type": "execute_result"
    }
   ],
   "source": [
    "token_instance.all_functions()"
   ]
  },
  {
   "cell_type": "markdown",
   "id": "4e1303df-32a2-4542-b6be-e6a200b79eb9",
   "metadata": {},
   "source": [
    "### Check some Contract attributes"
   ]
  },
  {
   "cell_type": "code",
   "execution_count": 39,
   "id": "d83b6f81-f1fa-43cb-8e6b-6ff0366c0d7c",
   "metadata": {},
   "outputs": [
    {
     "data": {
      "text/plain": [
       "10020101000"
      ]
     },
     "execution_count": 39,
     "metadata": {},
     "output_type": "execute_result"
    }
   ],
   "source": [
    "token_instance.functions.totalSupply().call()"
   ]
  },
  {
   "cell_type": "code",
   "execution_count": 40,
   "id": "ccc17bc9-d214-45cb-9b60-29d39a487d73",
   "metadata": {},
   "outputs": [
    {
     "data": {
      "text/plain": [
       "0"
      ]
     },
     "execution_count": 40,
     "metadata": {},
     "output_type": "execute_result"
    }
   ],
   "source": [
    "token_instance.functions.balanceOf(account_mnem1.address).call()"
   ]
  },
  {
   "cell_type": "code",
   "execution_count": 41,
   "id": "2fa01cce-6b43-4533-ba9f-8d4c9eeacafd",
   "metadata": {},
   "outputs": [
    {
     "data": {
      "text/plain": [
       "10005101000"
      ]
     },
     "execution_count": 41,
     "metadata": {},
     "output_type": "execute_result"
    }
   ],
   "source": [
    "token_instance.functions.balanceOf(address_arc_sale_token).call()"
   ]
  },
  {
   "cell_type": "markdown",
   "id": "0121c7be-e2f4-4566-966a-d434fccb7039",
   "metadata": {},
   "source": [
    "### Get contract Functions"
   ]
  },
  {
   "cell_type": "code",
   "execution_count": 40,
   "id": "8980d298-082b-4da1-9ab7-78118437a83b",
   "metadata": {},
   "outputs": [
    {
     "data": {
      "text/plain": [
       "[<Function approve(address,uint256)>,\n",
       " <Function newAppraisal(uint256,uint256,string)>,\n",
       " <Function registerArtwork(address,string,string,uint256,string)>,\n",
       " <Function safeTransferFrom(address,address,uint256)>,\n",
       " <Function safeTransferFrom(address,address,uint256,bytes)>,\n",
       " <Function setApprovalForAll(address,bool)>,\n",
       " <Function transferFrom(address,address,uint256)>,\n",
       " <Function art_collection(uint256)>,\n",
       " <Function balanceOf(address)>,\n",
       " <Function baseURI()>,\n",
       " <Function getApproved(uint256)>,\n",
       " <Function isApprovedForAll(address,address)>,\n",
       " <Function name()>,\n",
       " <Function ownerOf(uint256)>,\n",
       " <Function supportsInterface(bytes4)>,\n",
       " <Function symbol()>,\n",
       " <Function tokenByIndex(uint256)>,\n",
       " <Function tokenOfOwnerByIndex(address,uint256)>,\n",
       " <Function tokenURI(uint256)>,\n",
       " <Function totalSupply()>]"
      ]
     },
     "execution_count": 40,
     "metadata": {},
     "output_type": "execute_result"
    }
   ],
   "source": [
    "contract_instance.all_functions()"
   ]
  },
  {
   "cell_type": "code",
   "execution_count": 43,
   "id": "4ead84a6-d83d-46d9-9126-69e0bdfd79dd",
   "metadata": {},
   "outputs": [
    {
     "data": {
      "text/plain": [
       "[<Function buyTokens(address)>,\n",
       " <Function rate()>,\n",
       " <Function token()>,\n",
       " <Function wallet()>,\n",
       " <Function weiRaised()>]"
      ]
     },
     "execution_count": 43,
     "metadata": {},
     "output_type": "execute_result"
    }
   ],
   "source": [
    "contract_instance_token.all_functions()"
   ]
  },
  {
   "cell_type": "markdown",
   "id": "3708fbfc-14e5-4991-8282-7bd845479427",
   "metadata": {},
   "source": [
    "### Check some Contract attributes"
   ]
  },
  {
   "cell_type": "code",
   "execution_count": 41,
   "id": "0abde334-3b8f-417c-b2ec-9b122ba84eba",
   "metadata": {},
   "outputs": [
    {
     "data": {
      "text/plain": [
       "2"
      ]
     },
     "execution_count": 41,
     "metadata": {},
     "output_type": "execute_result"
    }
   ],
   "source": [
    "contract_instance.functions.totalSupply().call()"
   ]
  },
  {
   "cell_type": "code",
   "execution_count": 42,
   "id": "7475ee84-53d6-498c-81c0-11c6bd8d2747",
   "metadata": {},
   "outputs": [
    {
     "data": {
      "text/plain": [
       "['PickMoon', 'Chuck Raghavan', 500]"
      ]
     },
     "execution_count": 42,
     "metadata": {},
     "output_type": "execute_result"
    }
   ],
   "source": [
    "contract_instance.functions.art_collection(1).call()"
   ]
  },
  {
   "cell_type": "code",
   "execution_count": 43,
   "id": "34209ad5-9c37-4e2a-9572-30d9f511e582",
   "metadata": {},
   "outputs": [
    {
     "data": {
      "text/plain": [
       "['PickMoon', 'Chuck Raghavan', 500]"
      ]
     },
     "execution_count": 43,
     "metadata": {},
     "output_type": "execute_result"
    }
   ],
   "source": [
    "contract_instance.functions.art_collection(2).call()"
   ]
  },
  {
   "cell_type": "code",
   "execution_count": 44,
   "id": "ee6d6473-fc2d-42f0-9062-e1b60920f7c4",
   "metadata": {},
   "outputs": [
    {
     "data": {
      "text/plain": [
       "'bafybeicrpn4uamphmv3dxzxl3veovrfslb54de5xe5jh7dnpilrl4o56jq'"
      ]
     },
     "execution_count": 44,
     "metadata": {},
     "output_type": "execute_result"
    }
   ],
   "source": [
    "contract_instance.functions.tokenURI(1).call()"
   ]
  },
  {
   "cell_type": "code",
   "execution_count": 45,
   "id": "b4e28870-3163-4d3b-a211-0b0ba87115d5",
   "metadata": {},
   "outputs": [
    {
     "data": {
      "text/plain": [
       "'0x50640afBA61b8b7f4089Fc3E17e447D77498e5bb'"
      ]
     },
     "execution_count": 45,
     "metadata": {},
     "output_type": "execute_result"
    }
   ],
   "source": [
    "contract_instance_token.functions.token().call()"
   ]
  },
  {
   "cell_type": "code",
   "execution_count": 46,
   "id": "25afb963-0319-4bd1-b776-b686605a197c",
   "metadata": {},
   "outputs": [],
   "source": [
    "#contract_instance_token.functions.buyTokens(address_arc_sale_token).call()"
   ]
  },
  {
   "cell_type": "code",
   "execution_count": 47,
   "id": "7236581e-ae52-4f31-ad86-761e8292e86f",
   "metadata": {},
   "outputs": [],
   "source": [
    "nonce = w1.eth.get_transaction_count(account_one.address)"
   ]
  },
  {
   "cell_type": "code",
   "execution_count": 48,
   "id": "4ca1ab2f-9e8a-49ff-a6df-0ff9ff5cb052",
   "metadata": {},
   "outputs": [],
   "source": [
    "nonce = 6"
   ]
  },
  {
   "cell_type": "code",
   "execution_count": 49,
   "id": "058dbd9e-9122-4f57-8cd0-ab0fc5a1c7c9",
   "metadata": {},
   "outputs": [
    {
     "data": {
      "text/plain": [
       "6"
      ]
     },
     "execution_count": 49,
     "metadata": {},
     "output_type": "execute_result"
    }
   ],
   "source": [
    "nonce"
   ]
  },
  {
   "cell_type": "code",
   "execution_count": 50,
   "id": "bc9d96ea-aa6c-47c5-a0d0-3bb8a73d751e",
   "metadata": {},
   "outputs": [],
   "source": [
    "chain_id = w1.eth.chain_id"
   ]
  },
  {
   "cell_type": "code",
   "execution_count": 51,
   "id": "4bb243b1-1b7c-4ea1-83df-dd1f388b402d",
   "metadata": {},
   "outputs": [
    {
     "data": {
      "text/plain": [
       "42"
      ]
     },
     "execution_count": 51,
     "metadata": {},
     "output_type": "execute_result"
    }
   ],
   "source": [
    "chain_id"
   ]
  },
  {
   "cell_type": "code",
   "execution_count": 52,
   "id": "db84c99b-9285-4411-8022-52eedd59985e",
   "metadata": {},
   "outputs": [],
   "source": [
    "buy_token_amount = 10"
   ]
  },
  {
   "cell_type": "code",
   "execution_count": 53,
   "id": "e040dbcd-b7e9-40bc-a00f-ec440fb228d3",
   "metadata": {},
   "outputs": [
    {
     "data": {
      "text/plain": [
       "1000000000"
      ]
     },
     "execution_count": 53,
     "metadata": {},
     "output_type": "execute_result"
    }
   ],
   "source": [
    "w1.toWei('1', 'gwei')"
   ]
  },
  {
   "cell_type": "code",
   "execution_count": 54,
   "id": "122ad4c7-5c61-432f-b147-9544f7764562",
   "metadata": {},
   "outputs": [
    {
     "data": {
      "text/plain": [
       "1000000000000000000"
      ]
     },
     "execution_count": 54,
     "metadata": {},
     "output_type": "execute_result"
    }
   ],
   "source": [
    "w1.toWei('1', 'ether')"
   ]
  },
  {
   "cell_type": "code",
   "execution_count": 55,
   "id": "b63ebf7f-363a-4cb2-ad56-5d7232412d3a",
   "metadata": {},
   "outputs": [
    {
     "data": {
      "text/plain": [
       "'0xfa28DeB173bAA5e285391b94de257f364076Fec3'"
      ]
     },
     "execution_count": 55,
     "metadata": {},
     "output_type": "execute_result"
    }
   ],
   "source": [
    "address_arc_sale_token"
   ]
  },
  {
   "cell_type": "code",
   "execution_count": 56,
   "id": "9963a7e4-e520-4ab3-bb83-81d4fc6b9bbc",
   "metadata": {},
   "outputs": [],
   "source": [
    "gasEstimate = w1.eth.estimateGas({\"from\": account_two.address, \"to\": account_one.address, \"value\": 10})"
   ]
  },
  {
   "cell_type": "code",
   "execution_count": 57,
   "id": "6ddff229-cb98-4a5b-86de-c6d3ead41d4c",
   "metadata": {},
   "outputs": [
    {
     "data": {
      "text/plain": [
       "21000"
      ]
     },
     "execution_count": 57,
     "metadata": {},
     "output_type": "execute_result"
    }
   ],
   "source": [
    "gasEstimate"
   ]
  },
  {
   "cell_type": "code",
   "execution_count": 58,
   "id": "b19d2799-bcaa-47b6-8383-bb4055030f45",
   "metadata": {},
   "outputs": [],
   "source": [
    "gasEstimate = 98456"
   ]
  },
  {
   "cell_type": "code",
   "execution_count": 59,
   "id": "a50fabff-ae15-4ec4-a212-ee9628174942",
   "metadata": {},
   "outputs": [
    {
     "data": {
      "text/plain": [
       "98456"
      ]
     },
     "execution_count": 59,
     "metadata": {},
     "output_type": "execute_result"
    }
   ],
   "source": [
    "gasEstimate"
   ]
  },
  {
   "cell_type": "code",
   "execution_count": 60,
   "id": "2f7bfb81-bc68-4683-a92a-fcfd4fb9203b",
   "metadata": {},
   "outputs": [],
   "source": [
    "gas_price = w1.eth.gasPrice"
   ]
  },
  {
   "cell_type": "code",
   "execution_count": 61,
   "id": "796c45b6-1825-4c09-bb7b-4406f98bae85",
   "metadata": {},
   "outputs": [
    {
     "data": {
      "text/plain": [
       "5000000000"
      ]
     },
     "execution_count": 61,
     "metadata": {},
     "output_type": "execute_result"
    }
   ],
   "source": [
    "gas_price"
   ]
  },
  {
   "cell_type": "markdown",
   "id": "4258e55b-07da-433b-8947-022dc5afb68e",
   "metadata": {},
   "source": [
    "### For Gas get latest block for better estimation"
   ]
  },
  {
   "cell_type": "code",
   "execution_count": 62,
   "id": "436a21d3-c24c-4ea6-b565-cb04cdb016a0",
   "metadata": {},
   "outputs": [
    {
     "data": {
      "text/plain": [
       "AttributeDict({'author': '0x596e8221a30bfe6e7eff67fee664a01c73ba3c56',\n",
       " 'baseFeePerGas': 7,\n",
       " 'difficulty': 340282366920938463463374607431768211454,\n",
       " 'proofOfAuthorityData': HexBytes('0xdb830303008c4f70656e457468657265756d86312e35322e31826c69'),\n",
       " 'gasLimit': 12500000,\n",
       " 'gasUsed': 768732,\n",
       " 'hash': HexBytes('0xb939fb8f4b12eeea453e273a5c461e2865f2e70c078e82e3b89cdf3d129dc371'),\n",
       " 'logsBloom': HexBytes('0x00080020001000004100010000004000000000000020000000000100002000000000108000000010000820800000000000000000000000000000000000000000000000000000002000000008000100000000000400002000000000000000000000000000000000000000100000200000000200000004800010000110000002000800010200000000000200802000010080400000000000000010000000000000200000004000000000000000000000000000000160000000000040000000000800000002000800000000000000000000080000004002000004000100000002000000020000000000000000400000000000100000000000000000480000000800'),\n",
       " 'miner': '0x596e8221A30bFe6e7eFF67Fee664A01C73BA3C56',\n",
       " 'number': 27169619,\n",
       " 'parentHash': HexBytes('0x6aa819d5bea15d8e5e2b329aaad4b51317e5c7c4f626eaab93dace9e3a2990ca'),\n",
       " 'receiptsRoot': HexBytes('0x3d40d4e2f3b414d3d9cca980eccb87bf73af184c87f873dd8739be7f232cea53'),\n",
       " 'sealFields': ['0x84184fa4d7',\n",
       "  '0xb84196ee1f0cfc419e9efc58a0cbba20b01242f5456398bfa451c32d7c8be8d36329382e8d02b714500dcc7feaf7297eab37af06175a8018ff866ca12c98cf734d5700'],\n",
       " 'sha3Uncles': HexBytes('0x1dcc4de8dec75d7aab85b567b6ccd41ad312451b948a7413f0a142fd40d49347'),\n",
       " 'signature': '96ee1f0cfc419e9efc58a0cbba20b01242f5456398bfa451c32d7c8be8d36329382e8d02b714500dcc7feaf7297eab37af06175a8018ff866ca12c98cf734d5700',\n",
       " 'size': 2515,\n",
       " 'stateRoot': HexBytes('0xeaf2c305871be18fd065379b99b464f558a71e6fcec9c4d487e963d0ded19877'),\n",
       " 'step': '407872727',\n",
       " 'timestamp': 1631490908,\n",
       " 'totalDifficulty': 9194899143870108177859961349764632933040699647,\n",
       " 'transactions': [HexBytes('0x338403c09fa4470acd56359aa71032ae662f8c2acce19c2767e3fb4297826714'),\n",
       "  HexBytes('0x6ee8d79043c4e84fe72c21bda133e2ee02bd3c9f26636399aa29ecf1d3910c29'),\n",
       "  HexBytes('0xea6107bca1a0a317cc09cf4c05afa481b6010368eadf76cfdfed2cb5bca808ee'),\n",
       "  HexBytes('0x12bd1523949e37bc9a15b447f1a87e9ba198cb8fec7d0b17a006f4c729a2da9f'),\n",
       "  HexBytes('0x96be73b4d7907589eaecabfe35da6b5cd614754e7248cfbfb56c15a8b8181306')],\n",
       " 'transactionsRoot': HexBytes('0x4709a592d259ec74b424dac60f04544504c0c7b953996a6df08f2fbbfef8f3ec'),\n",
       " 'uncles': []})"
      ]
     },
     "execution_count": 62,
     "metadata": {},
     "output_type": "execute_result"
    }
   ],
   "source": [
    "w1.eth.getBlock(\"latest\")"
   ]
  },
  {
   "cell_type": "code",
   "execution_count": 63,
   "id": "7e01afff-f484-45d8-8a5c-68f4c2d5f68a",
   "metadata": {},
   "outputs": [],
   "source": [
    "dict1 = w1.eth.getBlock(\"latest\")"
   ]
  },
  {
   "cell_type": "code",
   "execution_count": 64,
   "id": "ad946c78-f73e-49af-98a1-9a4b99b60076",
   "metadata": {},
   "outputs": [
    {
     "data": {
      "text/plain": [
       "768732"
      ]
     },
     "execution_count": 64,
     "metadata": {},
     "output_type": "execute_result"
    }
   ],
   "source": [
    "dict1['gasUsed']"
   ]
  },
  {
   "cell_type": "code",
   "execution_count": 65,
   "id": "27dc9a69-cfe0-4d54-94e9-63ad7328b835",
   "metadata": {},
   "outputs": [],
   "source": [
    "gasEstimate = dict1['gasUsed']"
   ]
  },
  {
   "cell_type": "code",
   "execution_count": 66,
   "id": "a0f697fb-42b6-43ec-ae13-b795b806d7b4",
   "metadata": {},
   "outputs": [
    {
     "data": {
      "text/plain": [
       "768732"
      ]
     },
     "execution_count": 66,
     "metadata": {},
     "output_type": "execute_result"
    }
   ],
   "source": [
    "gasEstimate"
   ]
  },
  {
   "cell_type": "code",
   "execution_count": 67,
   "id": "c5258428-3df9-4ef2-85ad-5fa2b9bf1471",
   "metadata": {},
   "outputs": [],
   "source": [
    "#buy_token_txn = contract_instance_token.functions.buyTokens(address_arc_sale_token).buildTransaction({'chainId':chain_id, 'gas': 10000000, 'gasPrice': 80000000, 'nonce': nonce, 'value': 1, 'from': account_one.address})"
   ]
  },
  {
   "cell_type": "markdown",
   "id": "9ed2de34-6f6c-46b6-84d4-49b3df8f381f",
   "metadata": {},
   "source": [
    "#### below address w/o from"
   ]
  },
  {
   "cell_type": "markdown",
   "id": "10065896-263d-4629-8271-782734492e90",
   "metadata": {},
   "source": [
    "### Build transaction for Token Buy"
   ]
  },
  {
   "cell_type": "code",
   "execution_count": 68,
   "id": "78ecb976-6c6c-4bbe-9385-993c418f6921",
   "metadata": {},
   "outputs": [],
   "source": [
    "buy_token_txn = contract_instance_token.functions.buyTokens(address_arc_sale_token).buildTransaction({'chainId':chain_id, 'gas': gasEstimate, 'gasPrice': gas_price, 'nonce': nonce, 'value': 1000})"
   ]
  },
  {
   "cell_type": "code",
   "execution_count": 69,
   "id": "f8561e94-babe-4efa-aef1-c786d3563cb0",
   "metadata": {},
   "outputs": [],
   "source": [
    "# w1.toWei(buy_token_amount, 'wei')"
   ]
  },
  {
   "cell_type": "code",
   "execution_count": 70,
   "id": "537de03e-6448-4093-924c-2355ae42dab4",
   "metadata": {},
   "outputs": [
    {
     "data": {
      "text/plain": [
       "{'chainId': 42,\n",
       " 'gas': 768732,\n",
       " 'gasPrice': 5000000000,\n",
       " 'nonce': 6,\n",
       " 'value': 1000,\n",
       " 'to': '0xfa28DeB173bAA5e285391b94de257f364076Fec3',\n",
       " 'data': '0xec8ac4d8000000000000000000000000fa28deb173baa5e285391b94de257f364076fec3'}"
      ]
     },
     "execution_count": 70,
     "metadata": {},
     "output_type": "execute_result"
    }
   ],
   "source": [
    "buy_token_txn"
   ]
  },
  {
   "cell_type": "code",
   "execution_count": 71,
   "id": "826d7cef-0074-4342-9101-b0bfaede0941",
   "metadata": {},
   "outputs": [],
   "source": [
    "#signed_txn = w3.eth.account.sign_transaction(buy_token_txn, private_key=private_key1)"
   ]
  },
  {
   "cell_type": "markdown",
   "id": "583c3a5d-a987-45d4-949f-8761c26b049a",
   "metadata": {},
   "source": [
    "### Sign transaction"
   ]
  },
  {
   "cell_type": "code",
   "execution_count": 72,
   "id": "4e6d15f9-ad6e-48cf-8f22-dc15f3e4c71a",
   "metadata": {},
   "outputs": [],
   "source": [
    "signed_txn = w1.eth.account.sign_transaction(buy_token_txn, private_key=private_key2)"
   ]
  },
  {
   "cell_type": "code",
   "execution_count": 73,
   "id": "33f31af8-5b4b-41ec-90c6-54f890dc0a3c",
   "metadata": {},
   "outputs": [
    {
     "data": {
      "text/plain": [
       "HexBytes('0x0e907cb83c7b7dd1beaca28919a6aa16e26656d167fdb00957ef9b84063a1641')"
      ]
     },
     "execution_count": 73,
     "metadata": {},
     "output_type": "execute_result"
    }
   ],
   "source": [
    "signed_txn.hash"
   ]
  },
  {
   "cell_type": "markdown",
   "id": "6e7969e6-4bbd-46e0-8eac-6a96a344cfe4",
   "metadata": {},
   "source": [
    "HexBytes('0xc7ce9eb297de8ddf930c0f65a50f65eeb21f3d04c16918e82017ac27e8fc53a3')"
   ]
  },
  {
   "cell_type": "code",
   "execution_count": 74,
   "id": "36b5fee2-2c39-4345-80a7-7b89236b09e0",
   "metadata": {},
   "outputs": [
    {
     "data": {
      "text/plain": [
       "HexBytes('0xf88b0685012a05f200830bbadc94fa28deb173baa5e285391b94de257f364076fec38203e8a4ec8ac4d8000000000000000000000000fa28deb173baa5e285391b94de257f364076fec378a0db5b21f1a5ddafba2c93a305b56ce7e965b4ce3cea9b7f22742dc62cf9b4c7f5a018537cb268a137ea9bf1611c2e893123176369872286c30be931001ae49f4131')"
      ]
     },
     "execution_count": 74,
     "metadata": {},
     "output_type": "execute_result"
    }
   ],
   "source": [
    "signed_txn.rawTransaction"
   ]
  },
  {
   "cell_type": "code",
   "execution_count": 75,
   "id": "a977639d-a7db-4968-9ad8-e3f5a9448d3e",
   "metadata": {},
   "outputs": [
    {
     "data": {
      "text/plain": [
       "99217531195074487534554865217553936754929706659495147214067992566397815539701"
      ]
     },
     "execution_count": 75,
     "metadata": {},
     "output_type": "execute_result"
    }
   ],
   "source": [
    "signed_txn.r"
   ]
  },
  {
   "cell_type": "code",
   "execution_count": 76,
   "id": "a4753e20-a119-49a7-80dd-eee4bb452f96",
   "metadata": {},
   "outputs": [
    {
     "data": {
      "text/plain": [
       "11003017298811307749258793670938501296794915190952211016900548385343713263921"
      ]
     },
     "execution_count": 76,
     "metadata": {},
     "output_type": "execute_result"
    }
   ],
   "source": [
    "signed_txn.s"
   ]
  },
  {
   "cell_type": "code",
   "execution_count": 77,
   "id": "3548b52f-2d0d-4a21-9c04-9a484924d9bc",
   "metadata": {},
   "outputs": [
    {
     "data": {
      "text/plain": [
       "120"
      ]
     },
     "execution_count": 77,
     "metadata": {},
     "output_type": "execute_result"
    }
   ],
   "source": [
    "signed_txn.v"
   ]
  },
  {
   "cell_type": "markdown",
   "id": "efcba4b5-18f9-4f46-abb0-45d29d5e1883",
   "metadata": {},
   "source": [
    "### Send transaction"
   ]
  },
  {
   "cell_type": "code",
   "execution_count": 78,
   "id": "d86bd8b1-3788-465c-a9b0-235615f3205e",
   "metadata": {},
   "outputs": [
    {
     "data": {
      "text/plain": [
       "HexBytes('0x0e907cb83c7b7dd1beaca28919a6aa16e26656d167fdb00957ef9b84063a1641')"
      ]
     },
     "execution_count": 78,
     "metadata": {},
     "output_type": "execute_result"
    }
   ],
   "source": [
    "sent_txn = w1.eth.send_raw_transaction(signed_txn.rawTransaction) "
   ]
  },
  {
   "cell_type": "code",
   "execution_count": 80,
   "id": "1e5ad8e1-7590-4121-bdc0-2de0cf2b681f",
   "metadata": {},
   "outputs": [
    {
     "data": {
      "text/plain": [
       "AttributeDict({'blockHash': HexBytes('0xc629b0e573c387094203eea4a80e455d9f324866fa5717d0693b466dde6824a7'),\n",
       " 'blockNumber': 27169621,\n",
       " 'chainId': '0x2a',\n",
       " 'condition': None,\n",
       " 'creates': None,\n",
       " 'from': '0xAB4A0C2ed939f32DE20E7118E23fddaF9739aCe0',\n",
       " 'gas': 768732,\n",
       " 'gasPrice': 5000000000,\n",
       " 'hash': HexBytes('0x0e907cb83c7b7dd1beaca28919a6aa16e26656d167fdb00957ef9b84063a1641'),\n",
       " 'input': '0xec8ac4d8000000000000000000000000fa28deb173baa5e285391b94de257f364076fec3',\n",
       " 'nonce': 6,\n",
       " 'publicKey': HexBytes('0x3bf756064667cedf3eaeba7fc5bac8dcf7ea6ee377a69afc46bacddf92a16c48eb94448aaadfeb1c84301d0b0330262146b7ffc62fd76a096a4d221f9c3a3555'),\n",
       " 'r': HexBytes('0xdb5b21f1a5ddafba2c93a305b56ce7e965b4ce3cea9b7f22742dc62cf9b4c7f5'),\n",
       " 'raw': HexBytes('0xf88b0685012a05f200830bbadc94fa28deb173baa5e285391b94de257f364076fec38203e8a4ec8ac4d8000000000000000000000000fa28deb173baa5e285391b94de257f364076fec378a0db5b21f1a5ddafba2c93a305b56ce7e965b4ce3cea9b7f22742dc62cf9b4c7f5a018537cb268a137ea9bf1611c2e893123176369872286c30be931001ae49f4131'),\n",
       " 's': HexBytes('0x18537cb268a137ea9bf1611c2e893123176369872286c30be931001ae49f4131'),\n",
       " 'standardV': 1,\n",
       " 'to': '0xfa28DeB173bAA5e285391b94de257f364076Fec3',\n",
       " 'transactionIndex': 1,\n",
       " 'v': 120,\n",
       " 'value': 1000})"
      ]
     },
     "execution_count": 80,
     "metadata": {},
     "output_type": "execute_result"
    }
   ],
   "source": [
    "w1.eth.getTransaction(sent_txn)"
   ]
  },
  {
   "cell_type": "code",
   "execution_count": null,
   "id": "719a23d1-acfa-4ff1-b451-c61f70b7a539",
   "metadata": {},
   "outputs": [],
   "source": [
    "w1.eth.get_transaction_count"
   ]
  },
  {
   "cell_type": "code",
   "execution_count": null,
   "id": "31c88b53-a80b-4099-bf7d-0f245a45aaf0",
   "metadata": {},
   "outputs": [],
   "source": [
    "eth.get_eth_balance(address=account_two.address)"
   ]
  },
  {
   "cell_type": "code",
   "execution_count": null,
   "id": "ffc1f018-58a6-4454-880a-8230ad20f23e",
   "metadata": {},
   "outputs": [],
   "source": [
    "eth.get_eth_balance(address=account_one.address)"
   ]
  },
  {
   "cell_type": "markdown",
   "id": "c4bb02ab-4d41-496f-af9a-bf9adfd08655",
   "metadata": {},
   "source": [
    "## Reporting / Account keeping fromo Etherscan"
   ]
  },
  {
   "cell_type": "markdown",
   "id": "b0cf7539-c0a4-4dc4-9ddc-e9b4fb3ff1e6",
   "metadata": {},
   "source": [
    "### Get transactions at the Sale Token address"
   ]
  },
  {
   "cell_type": "code",
   "execution_count": 98,
   "id": "3e859094-b278-4427-af41-fa8351cdbef0",
   "metadata": {},
   "outputs": [],
   "source": [
    "sale_token_tnxs= eth.get_normal_txs_by_address(address_arc_sale_token,0,99999999,'X')"
   ]
  },
  {
   "cell_type": "code",
   "execution_count": 99,
   "id": "5a45d45a-6e18-4737-93c8-7983de60728e",
   "metadata": {},
   "outputs": [
    {
     "data": {
      "text/plain": [
       "8"
      ]
     },
     "execution_count": 99,
     "metadata": {},
     "output_type": "execute_result"
    }
   ],
   "source": [
    "len(sale_token_tnxs)"
   ]
  },
  {
   "cell_type": "code",
   "execution_count": 100,
   "id": "c74428d1-0c42-4a75-bdaa-0bf5b122211e",
   "metadata": {},
   "outputs": [
    {
     "data": {
      "text/plain": [
       "[{'blockNumber': '27152814',\n",
       "  'timeStamp': '1631386048',\n",
       "  'hash': '0xa59d9ef5e8e9723c899359243379ea7c2645251eb09cd468ba6a1ffb97d09a80',\n",
       "  'nonce': '1',\n",
       "  'blockHash': '0x3bf5c8862518431d9ad335d942b53b60e94f324b29a1e5b53572edc2e81064d8',\n",
       "  'transactionIndex': '6',\n",
       "  'from': '0xab4a0c2ed939f32de20e7118e23fddaf9739ace0',\n",
       "  'to': '0xfa28deb173baa5e285391b94de257f364076fec3',\n",
       "  'value': '5000000',\n",
       "  'gas': '120453',\n",
       "  'gasPrice': '1000000008',\n",
       "  'isError': '0',\n",
       "  'txreceipt_status': '1',\n",
       "  'input': '0xec8ac4d8000000000000000000000000fa28deb173baa5e285391b94de257f364076fec3',\n",
       "  'contractAddress': '',\n",
       "  'cumulativeGasUsed': '1467678',\n",
       "  'gasUsed': '115465',\n",
       "  'confirmations': '16961'},\n",
       " {'blockNumber': '27153417',\n",
       "  'timeStamp': '1631389808',\n",
       "  'hash': '0x61ad2bf9985a7af416f4933a845dc22b2f98fac3b899ad4d83c0882d83aa5af3',\n",
       "  'nonce': '2',\n",
       "  'blockHash': '0x8672ea3d647047149819178c85704e22827a5ddd88dea3f71df3ecd78b3c2a53',\n",
       "  'transactionIndex': '5',\n",
       "  'from': '0xab4a0c2ed939f32de20e7118e23fddaf9739ace0',\n",
       "  'to': '0xfa28deb173baa5e285391b94de257f364076fec3',\n",
       "  'value': '15000000',\n",
       "  'gas': '86253',\n",
       "  'gasPrice': '1000000008',\n",
       "  'isError': '0',\n",
       "  'txreceipt_status': '1',\n",
       "  'input': '0xec8ac4d8000000000000000000000000ab4a0c2ed939f32de20e7118e23fddaf9739ace0',\n",
       "  'contractAddress': '',\n",
       "  'cumulativeGasUsed': '920329',\n",
       "  'gasUsed': '81265',\n",
       "  'confirmations': '16358'},\n",
       " {'blockNumber': '27166394',\n",
       "  'timeStamp': '1631471072',\n",
       "  'hash': '0xc13b28ae7134b884715ede7de3f30d27a38d6ffd4fbcda2502c51c94f500466d',\n",
       "  'nonce': '3',\n",
       "  'blockHash': '0xaa353acb3ea5c0c3527df1d9795d87173ea0ded3525741c46edc599014dec651',\n",
       "  'transactionIndex': '9',\n",
       "  'from': '0xab4a0c2ed939f32de20e7118e23fddaf9739ace0',\n",
       "  'to': '0xfa28deb173baa5e285391b94de257f364076fec3',\n",
       "  'value': '10000000000',\n",
       "  'gas': '69153',\n",
       "  'gasPrice': '1000000008',\n",
       "  'isError': '0',\n",
       "  'txreceipt_status': '1',\n",
       "  'input': '0xec8ac4d8000000000000000000000000fa28deb173baa5e285391b94de257f364076fec3',\n",
       "  'contractAddress': '',\n",
       "  'cumulativeGasUsed': '526999',\n",
       "  'gasUsed': '64165',\n",
       "  'confirmations': '3381'},\n",
       " {'blockNumber': '27166954',\n",
       "  'timeStamp': '1631474632',\n",
       "  'hash': '0x24a2b2d5a58fa381b2fccae4396ac91c9326401464fd2470d46b5f25b07824e7',\n",
       "  'nonce': '3',\n",
       "  'blockHash': '0x1a6c27257b37b4431b5a3c5d20a348b9dd5a3918a995e22f0b31bff364e029ce',\n",
       "  'transactionIndex': '7',\n",
       "  'from': '0x15d5ec9d3f67a42f1d56e205a79ae6931f50a431',\n",
       "  'to': '0xfa28deb173baa5e285391b94de257f364076fec3',\n",
       "  'value': '100000',\n",
       "  'gas': '66653',\n",
       "  'gasPrice': '1000000007',\n",
       "  'isError': '0',\n",
       "  'txreceipt_status': '1',\n",
       "  'input': '0xec8ac4d8000000000000000000000000fa28deb173baa5e285391b94de257f364076fec3',\n",
       "  'contractAddress': '',\n",
       "  'cumulativeGasUsed': '1077930',\n",
       "  'gasUsed': '61665',\n",
       "  'confirmations': '2821'},\n",
       " {'blockNumber': '27167695',\n",
       "  'timeStamp': '1631479204',\n",
       "  'hash': '0x784d1d36b01fd288a8b05cb94eabea961a081f24e7d2cb9803ea2c25e22ceb40',\n",
       "  'nonce': '4',\n",
       "  'blockHash': '0x99669f88aadc6ca4153f41a98cb431e0148733ed74ea6e64c7af2c669dcf125e',\n",
       "  'transactionIndex': '6',\n",
       "  'from': '0xab4a0c2ed939f32de20e7118e23fddaf9739ace0',\n",
       "  'to': '0xfa28deb173baa5e285391b94de257f364076fec3',\n",
       "  'value': '1000',\n",
       "  'gas': '21450',\n",
       "  'gasPrice': '5000000000',\n",
       "  'isError': '1',\n",
       "  'txreceipt_status': '0',\n",
       "  'input': '0xec8ac4d8000000000000000000000000fa28deb173baa5e285391b94de257f364076fec3',\n",
       "  'contractAddress': '',\n",
       "  'cumulativeGasUsed': '456794',\n",
       "  'gasUsed': '21450',\n",
       "  'confirmations': '2080'},\n",
       " {'blockNumber': '27167813',\n",
       "  'timeStamp': '1631479912',\n",
       "  'hash': '0x080a02bfd0a75f41755ac2a0b1650d86581aa9dbfe0c56055ca9e57c95a967f5',\n",
       "  'nonce': '5',\n",
       "  'blockHash': '0xddf3d134aaf58d1945fb4d5c00aaffd6aa087da93f70874580bd56867eaeb35d',\n",
       "  'transactionIndex': '4',\n",
       "  'from': '0xab4a0c2ed939f32de20e7118e23fddaf9739ace0',\n",
       "  'to': '0xfa28deb173baa5e285391b94de257f364076fec3',\n",
       "  'value': '1000',\n",
       "  'gas': '51450',\n",
       "  'gasPrice': '5000000000',\n",
       "  'isError': '1',\n",
       "  'txreceipt_status': '0',\n",
       "  'input': '0xec8ac4d8000000000000000000000000fa28deb173baa5e285391b94de257f364076fec3',\n",
       "  'contractAddress': '',\n",
       "  'cumulativeGasUsed': '464160',\n",
       "  'gasUsed': '51272',\n",
       "  'confirmations': '1962'},\n",
       " {'blockNumber': '27168177',\n",
       "  'timeStamp': '1631482108',\n",
       "  'hash': '0x408f80502d8142dc3e78a4f07a82018b9e04c796e6a06b9daebcc0521f1bb27b',\n",
       "  'nonce': '5',\n",
       "  'blockHash': '0x99f374853dd9b7ff891d579933dedd580c99cde7a6c55a2421c10a4989311112',\n",
       "  'transactionIndex': '1',\n",
       "  'from': '0x15d5ec9d3f67a42f1d56e205a79ae6931f50a431',\n",
       "  'to': '0xfa28deb173baa5e285391b94de257f364076fec3',\n",
       "  'value': '1000',\n",
       "  'gas': '98456',\n",
       "  'gasPrice': '5000000000',\n",
       "  'isError': '0',\n",
       "  'txreceipt_status': '1',\n",
       "  'input': '0xec8ac4d8000000000000000000000000fa28deb173baa5e285391b94de257f364076fec3',\n",
       "  'contractAddress': '',\n",
       "  'cumulativeGasUsed': '82665',\n",
       "  'gasUsed': '61665',\n",
       "  'confirmations': '1598'},\n",
       " {'blockNumber': '27169621',\n",
       "  'timeStamp': '1631490920',\n",
       "  'hash': '0x0e907cb83c7b7dd1beaca28919a6aa16e26656d167fdb00957ef9b84063a1641',\n",
       "  'nonce': '6',\n",
       "  'blockHash': '0xc629b0e573c387094203eea4a80e455d9f324866fa5717d0693b466dde6824a7',\n",
       "  'transactionIndex': '1',\n",
       "  'from': '0xab4a0c2ed939f32de20e7118e23fddaf9739ace0',\n",
       "  'to': '0xfa28deb173baa5e285391b94de257f364076fec3',\n",
       "  'value': '1000',\n",
       "  'gas': '768732',\n",
       "  'gasPrice': '5000000000',\n",
       "  'isError': '0',\n",
       "  'txreceipt_status': '1',\n",
       "  'input': '0xec8ac4d8000000000000000000000000fa28deb173baa5e285391b94de257f364076fec3',\n",
       "  'contractAddress': '',\n",
       "  'cumulativeGasUsed': '110078',\n",
       "  'gasUsed': '64165',\n",
       "  'confirmations': '154'}]"
      ]
     },
     "execution_count": 100,
     "metadata": {},
     "output_type": "execute_result"
    }
   ],
   "source": [
    "sale_token_tnxs"
   ]
  },
  {
   "cell_type": "code",
   "execution_count": null,
   "id": "c3cb8855-f096-4201-92a3-2c7870b186ab",
   "metadata": {},
   "outputs": [],
   "source": [
    "sale_token_tnxs[0]['blockNumber']"
   ]
  },
  {
   "cell_type": "code",
   "execution_count": null,
   "id": "b7ea0005-7e3d-4080-919e-35c6ee5a5be3",
   "metadata": {},
   "outputs": [],
   "source": [
    "sale_token_tnxs[1]['blockNumber']"
   ]
  },
  {
   "cell_type": "code",
   "execution_count": 81,
   "id": "45af4491-f5f4-4cba-863d-b103250e98dc",
   "metadata": {},
   "outputs": [],
   "source": [
    "int_sale_token_tnxs= eth.get_internal_txs_by_address(address_arc_sale_token,0,99999999,'X')"
   ]
  },
  {
   "cell_type": "code",
   "execution_count": 82,
   "id": "a387d6c4-17a8-4f55-b973-2c6dbc6cf254",
   "metadata": {},
   "outputs": [
    {
     "data": {
      "text/plain": [
       "14"
      ]
     },
     "execution_count": 82,
     "metadata": {},
     "output_type": "execute_result"
    }
   ],
   "source": [
    "len(int_sale_token_tnxs)"
   ]
  },
  {
   "cell_type": "code",
   "execution_count": 107,
   "id": "1d41beef-89b2-4f53-a95d-7a2a442311ca",
   "metadata": {},
   "outputs": [],
   "source": [
    "#int_sale_token_tnxs"
   ]
  },
  {
   "cell_type": "markdown",
   "id": "920bc3c0-e94d-4b59-863a-293ecb3eeae5",
   "metadata": {},
   "source": [
    "### Convert transactions to Pandas Dataframe"
   ]
  },
  {
   "cell_type": "code",
   "execution_count": 101,
   "id": "24b18353-5cbd-4c48-a3df-2068591ef914",
   "metadata": {},
   "outputs": [],
   "source": [
    "tx_df = pd.DataFrame(sale_token_tnxs)"
   ]
  },
  {
   "cell_type": "markdown",
   "id": "253236f7-e5fe-4937-9643-7ca5746b133b",
   "metadata": {},
   "source": [
    "#### convert value to int"
   ]
  },
  {
   "cell_type": "code",
   "execution_count": 117,
   "id": "8c913d67-f6d9-49c6-8152-de77275039a8",
   "metadata": {},
   "outputs": [],
   "source": [
    "tx_df['value'] = tx_df['value'].astype(int)"
   ]
  },
  {
   "cell_type": "code",
   "execution_count": 118,
   "id": "37504ac5-4076-43d9-92ba-df5598babdc9",
   "metadata": {},
   "outputs": [
    {
     "data": {
      "text/html": [
       "<div>\n",
       "<style scoped>\n",
       "    .dataframe tbody tr th:only-of-type {\n",
       "        vertical-align: middle;\n",
       "    }\n",
       "\n",
       "    .dataframe tbody tr th {\n",
       "        vertical-align: top;\n",
       "    }\n",
       "\n",
       "    .dataframe thead th {\n",
       "        text-align: right;\n",
       "    }\n",
       "</style>\n",
       "<table border=\"1\" class=\"dataframe\">\n",
       "  <thead>\n",
       "    <tr style=\"text-align: right;\">\n",
       "      <th></th>\n",
       "      <th>blockNumber</th>\n",
       "      <th>timeStamp</th>\n",
       "      <th>hash</th>\n",
       "      <th>nonce</th>\n",
       "      <th>blockHash</th>\n",
       "      <th>transactionIndex</th>\n",
       "      <th>from</th>\n",
       "      <th>to</th>\n",
       "      <th>value</th>\n",
       "      <th>gas</th>\n",
       "      <th>gasPrice</th>\n",
       "      <th>isError</th>\n",
       "      <th>txreceipt_status</th>\n",
       "      <th>input</th>\n",
       "      <th>contractAddress</th>\n",
       "      <th>cumulativeGasUsed</th>\n",
       "      <th>gasUsed</th>\n",
       "      <th>confirmations</th>\n",
       "    </tr>\n",
       "  </thead>\n",
       "  <tbody>\n",
       "    <tr>\n",
       "      <th>0</th>\n",
       "      <td>27152814</td>\n",
       "      <td>1631386048</td>\n",
       "      <td>0xa59d9ef5e8e9723c899359243379ea7c2645251eb09c...</td>\n",
       "      <td>1</td>\n",
       "      <td>0x3bf5c8862518431d9ad335d942b53b60e94f324b29a1...</td>\n",
       "      <td>6</td>\n",
       "      <td>0xab4a0c2ed939f32de20e7118e23fddaf9739ace0</td>\n",
       "      <td>0xfa28deb173baa5e285391b94de257f364076fec3</td>\n",
       "      <td>5000000</td>\n",
       "      <td>120453</td>\n",
       "      <td>1000000008</td>\n",
       "      <td>0</td>\n",
       "      <td>1</td>\n",
       "      <td>0xec8ac4d8000000000000000000000000fa28deb173ba...</td>\n",
       "      <td></td>\n",
       "      <td>1467678</td>\n",
       "      <td>115465</td>\n",
       "      <td>16961</td>\n",
       "    </tr>\n",
       "    <tr>\n",
       "      <th>1</th>\n",
       "      <td>27153417</td>\n",
       "      <td>1631389808</td>\n",
       "      <td>0x61ad2bf9985a7af416f4933a845dc22b2f98fac3b899...</td>\n",
       "      <td>2</td>\n",
       "      <td>0x8672ea3d647047149819178c85704e22827a5ddd88de...</td>\n",
       "      <td>5</td>\n",
       "      <td>0xab4a0c2ed939f32de20e7118e23fddaf9739ace0</td>\n",
       "      <td>0xfa28deb173baa5e285391b94de257f364076fec3</td>\n",
       "      <td>15000000</td>\n",
       "      <td>86253</td>\n",
       "      <td>1000000008</td>\n",
       "      <td>0</td>\n",
       "      <td>1</td>\n",
       "      <td>0xec8ac4d8000000000000000000000000ab4a0c2ed939...</td>\n",
       "      <td></td>\n",
       "      <td>920329</td>\n",
       "      <td>81265</td>\n",
       "      <td>16358</td>\n",
       "    </tr>\n",
       "    <tr>\n",
       "      <th>2</th>\n",
       "      <td>27166394</td>\n",
       "      <td>1631471072</td>\n",
       "      <td>0xc13b28ae7134b884715ede7de3f30d27a38d6ffd4fbc...</td>\n",
       "      <td>3</td>\n",
       "      <td>0xaa353acb3ea5c0c3527df1d9795d87173ea0ded35257...</td>\n",
       "      <td>9</td>\n",
       "      <td>0xab4a0c2ed939f32de20e7118e23fddaf9739ace0</td>\n",
       "      <td>0xfa28deb173baa5e285391b94de257f364076fec3</td>\n",
       "      <td>10000000000</td>\n",
       "      <td>69153</td>\n",
       "      <td>1000000008</td>\n",
       "      <td>0</td>\n",
       "      <td>1</td>\n",
       "      <td>0xec8ac4d8000000000000000000000000fa28deb173ba...</td>\n",
       "      <td></td>\n",
       "      <td>526999</td>\n",
       "      <td>64165</td>\n",
       "      <td>3381</td>\n",
       "    </tr>\n",
       "    <tr>\n",
       "      <th>3</th>\n",
       "      <td>27166954</td>\n",
       "      <td>1631474632</td>\n",
       "      <td>0x24a2b2d5a58fa381b2fccae4396ac91c9326401464fd...</td>\n",
       "      <td>3</td>\n",
       "      <td>0x1a6c27257b37b4431b5a3c5d20a348b9dd5a3918a995...</td>\n",
       "      <td>7</td>\n",
       "      <td>0x15d5ec9d3f67a42f1d56e205a79ae6931f50a431</td>\n",
       "      <td>0xfa28deb173baa5e285391b94de257f364076fec3</td>\n",
       "      <td>100000</td>\n",
       "      <td>66653</td>\n",
       "      <td>1000000007</td>\n",
       "      <td>0</td>\n",
       "      <td>1</td>\n",
       "      <td>0xec8ac4d8000000000000000000000000fa28deb173ba...</td>\n",
       "      <td></td>\n",
       "      <td>1077930</td>\n",
       "      <td>61665</td>\n",
       "      <td>2821</td>\n",
       "    </tr>\n",
       "    <tr>\n",
       "      <th>4</th>\n",
       "      <td>27167695</td>\n",
       "      <td>1631479204</td>\n",
       "      <td>0x784d1d36b01fd288a8b05cb94eabea961a081f24e7d2...</td>\n",
       "      <td>4</td>\n",
       "      <td>0x99669f88aadc6ca4153f41a98cb431e0148733ed74ea...</td>\n",
       "      <td>6</td>\n",
       "      <td>0xab4a0c2ed939f32de20e7118e23fddaf9739ace0</td>\n",
       "      <td>0xfa28deb173baa5e285391b94de257f364076fec3</td>\n",
       "      <td>1000</td>\n",
       "      <td>21450</td>\n",
       "      <td>5000000000</td>\n",
       "      <td>1</td>\n",
       "      <td>0</td>\n",
       "      <td>0xec8ac4d8000000000000000000000000fa28deb173ba...</td>\n",
       "      <td></td>\n",
       "      <td>456794</td>\n",
       "      <td>21450</td>\n",
       "      <td>2080</td>\n",
       "    </tr>\n",
       "    <tr>\n",
       "      <th>5</th>\n",
       "      <td>27167813</td>\n",
       "      <td>1631479912</td>\n",
       "      <td>0x080a02bfd0a75f41755ac2a0b1650d86581aa9dbfe0c...</td>\n",
       "      <td>5</td>\n",
       "      <td>0xddf3d134aaf58d1945fb4d5c00aaffd6aa087da93f70...</td>\n",
       "      <td>4</td>\n",
       "      <td>0xab4a0c2ed939f32de20e7118e23fddaf9739ace0</td>\n",
       "      <td>0xfa28deb173baa5e285391b94de257f364076fec3</td>\n",
       "      <td>1000</td>\n",
       "      <td>51450</td>\n",
       "      <td>5000000000</td>\n",
       "      <td>1</td>\n",
       "      <td>0</td>\n",
       "      <td>0xec8ac4d8000000000000000000000000fa28deb173ba...</td>\n",
       "      <td></td>\n",
       "      <td>464160</td>\n",
       "      <td>51272</td>\n",
       "      <td>1962</td>\n",
       "    </tr>\n",
       "    <tr>\n",
       "      <th>6</th>\n",
       "      <td>27168177</td>\n",
       "      <td>1631482108</td>\n",
       "      <td>0x408f80502d8142dc3e78a4f07a82018b9e04c796e6a0...</td>\n",
       "      <td>5</td>\n",
       "      <td>0x99f374853dd9b7ff891d579933dedd580c99cde7a6c5...</td>\n",
       "      <td>1</td>\n",
       "      <td>0x15d5ec9d3f67a42f1d56e205a79ae6931f50a431</td>\n",
       "      <td>0xfa28deb173baa5e285391b94de257f364076fec3</td>\n",
       "      <td>1000</td>\n",
       "      <td>98456</td>\n",
       "      <td>5000000000</td>\n",
       "      <td>0</td>\n",
       "      <td>1</td>\n",
       "      <td>0xec8ac4d8000000000000000000000000fa28deb173ba...</td>\n",
       "      <td></td>\n",
       "      <td>82665</td>\n",
       "      <td>61665</td>\n",
       "      <td>1598</td>\n",
       "    </tr>\n",
       "    <tr>\n",
       "      <th>7</th>\n",
       "      <td>27169621</td>\n",
       "      <td>1631490920</td>\n",
       "      <td>0x0e907cb83c7b7dd1beaca28919a6aa16e26656d167fd...</td>\n",
       "      <td>6</td>\n",
       "      <td>0xc629b0e573c387094203eea4a80e455d9f324866fa57...</td>\n",
       "      <td>1</td>\n",
       "      <td>0xab4a0c2ed939f32de20e7118e23fddaf9739ace0</td>\n",
       "      <td>0xfa28deb173baa5e285391b94de257f364076fec3</td>\n",
       "      <td>1000</td>\n",
       "      <td>768732</td>\n",
       "      <td>5000000000</td>\n",
       "      <td>0</td>\n",
       "      <td>1</td>\n",
       "      <td>0xec8ac4d8000000000000000000000000fa28deb173ba...</td>\n",
       "      <td></td>\n",
       "      <td>110078</td>\n",
       "      <td>64165</td>\n",
       "      <td>154</td>\n",
       "    </tr>\n",
       "  </tbody>\n",
       "</table>\n",
       "</div>"
      ],
      "text/plain": [
       "  blockNumber   timeStamp                                               hash  \\\n",
       "0    27152814  1631386048  0xa59d9ef5e8e9723c899359243379ea7c2645251eb09c...   \n",
       "1    27153417  1631389808  0x61ad2bf9985a7af416f4933a845dc22b2f98fac3b899...   \n",
       "2    27166394  1631471072  0xc13b28ae7134b884715ede7de3f30d27a38d6ffd4fbc...   \n",
       "3    27166954  1631474632  0x24a2b2d5a58fa381b2fccae4396ac91c9326401464fd...   \n",
       "4    27167695  1631479204  0x784d1d36b01fd288a8b05cb94eabea961a081f24e7d2...   \n",
       "5    27167813  1631479912  0x080a02bfd0a75f41755ac2a0b1650d86581aa9dbfe0c...   \n",
       "6    27168177  1631482108  0x408f80502d8142dc3e78a4f07a82018b9e04c796e6a0...   \n",
       "7    27169621  1631490920  0x0e907cb83c7b7dd1beaca28919a6aa16e26656d167fd...   \n",
       "\n",
       "  nonce                                          blockHash transactionIndex  \\\n",
       "0     1  0x3bf5c8862518431d9ad335d942b53b60e94f324b29a1...                6   \n",
       "1     2  0x8672ea3d647047149819178c85704e22827a5ddd88de...                5   \n",
       "2     3  0xaa353acb3ea5c0c3527df1d9795d87173ea0ded35257...                9   \n",
       "3     3  0x1a6c27257b37b4431b5a3c5d20a348b9dd5a3918a995...                7   \n",
       "4     4  0x99669f88aadc6ca4153f41a98cb431e0148733ed74ea...                6   \n",
       "5     5  0xddf3d134aaf58d1945fb4d5c00aaffd6aa087da93f70...                4   \n",
       "6     5  0x99f374853dd9b7ff891d579933dedd580c99cde7a6c5...                1   \n",
       "7     6  0xc629b0e573c387094203eea4a80e455d9f324866fa57...                1   \n",
       "\n",
       "                                         from  \\\n",
       "0  0xab4a0c2ed939f32de20e7118e23fddaf9739ace0   \n",
       "1  0xab4a0c2ed939f32de20e7118e23fddaf9739ace0   \n",
       "2  0xab4a0c2ed939f32de20e7118e23fddaf9739ace0   \n",
       "3  0x15d5ec9d3f67a42f1d56e205a79ae6931f50a431   \n",
       "4  0xab4a0c2ed939f32de20e7118e23fddaf9739ace0   \n",
       "5  0xab4a0c2ed939f32de20e7118e23fddaf9739ace0   \n",
       "6  0x15d5ec9d3f67a42f1d56e205a79ae6931f50a431   \n",
       "7  0xab4a0c2ed939f32de20e7118e23fddaf9739ace0   \n",
       "\n",
       "                                           to        value     gas  \\\n",
       "0  0xfa28deb173baa5e285391b94de257f364076fec3      5000000  120453   \n",
       "1  0xfa28deb173baa5e285391b94de257f364076fec3     15000000   86253   \n",
       "2  0xfa28deb173baa5e285391b94de257f364076fec3  10000000000   69153   \n",
       "3  0xfa28deb173baa5e285391b94de257f364076fec3       100000   66653   \n",
       "4  0xfa28deb173baa5e285391b94de257f364076fec3         1000   21450   \n",
       "5  0xfa28deb173baa5e285391b94de257f364076fec3         1000   51450   \n",
       "6  0xfa28deb173baa5e285391b94de257f364076fec3         1000   98456   \n",
       "7  0xfa28deb173baa5e285391b94de257f364076fec3         1000  768732   \n",
       "\n",
       "     gasPrice isError txreceipt_status  \\\n",
       "0  1000000008       0                1   \n",
       "1  1000000008       0                1   \n",
       "2  1000000008       0                1   \n",
       "3  1000000007       0                1   \n",
       "4  5000000000       1                0   \n",
       "5  5000000000       1                0   \n",
       "6  5000000000       0                1   \n",
       "7  5000000000       0                1   \n",
       "\n",
       "                                               input contractAddress  \\\n",
       "0  0xec8ac4d8000000000000000000000000fa28deb173ba...                   \n",
       "1  0xec8ac4d8000000000000000000000000ab4a0c2ed939...                   \n",
       "2  0xec8ac4d8000000000000000000000000fa28deb173ba...                   \n",
       "3  0xec8ac4d8000000000000000000000000fa28deb173ba...                   \n",
       "4  0xec8ac4d8000000000000000000000000fa28deb173ba...                   \n",
       "5  0xec8ac4d8000000000000000000000000fa28deb173ba...                   \n",
       "6  0xec8ac4d8000000000000000000000000fa28deb173ba...                   \n",
       "7  0xec8ac4d8000000000000000000000000fa28deb173ba...                   \n",
       "\n",
       "  cumulativeGasUsed gasUsed confirmations  \n",
       "0           1467678  115465         16961  \n",
       "1            920329   81265         16358  \n",
       "2            526999   64165          3381  \n",
       "3           1077930   61665          2821  \n",
       "4            456794   21450          2080  \n",
       "5            464160   51272          1962  \n",
       "6             82665   61665          1598  \n",
       "7            110078   64165           154  "
      ]
     },
     "execution_count": 118,
     "metadata": {},
     "output_type": "execute_result"
    }
   ],
   "source": [
    "tx_df"
   ]
  },
  {
   "cell_type": "code",
   "execution_count": 119,
   "id": "62a83529-040d-485b-b5b3-5d9817cd9990",
   "metadata": {},
   "outputs": [],
   "source": [
    "bought_token_df = tx_df[tx_df['isError']=='0']"
   ]
  },
  {
   "cell_type": "markdown",
   "id": "1d12bfd4-f602-4852-8475-64874c656431",
   "metadata": {},
   "source": [
    "### Add token balances from contract (should match what was bought)"
   ]
  },
  {
   "cell_type": "code",
   "execution_count": 121,
   "id": "6bb00e6c-6089-4b4c-8184-88b0ae9f5a4d",
   "metadata": {},
   "outputs": [
    {
     "data": {
      "text/plain": [
       "10020102000"
      ]
     },
     "execution_count": 121,
     "metadata": {},
     "output_type": "execute_result"
    }
   ],
   "source": [
    "bought_token_df['value'].sum()"
   ]
  },
  {
   "cell_type": "markdown",
   "id": "c7b5d16d-8c3b-491c-99b9-4d7c4dca891a",
   "metadata": {},
   "source": [
    "### Customers who bought Arcade Sale token"
   ]
  },
  {
   "cell_type": "code",
   "execution_count": 123,
   "id": "ffceb576-2007-44f3-801b-6b12e9d4aef2",
   "metadata": {},
   "outputs": [
    {
     "data": {
      "text/plain": [
       "0    0xab4a0c2ed939f32de20e7118e23fddaf9739ace0\n",
       "1    0xab4a0c2ed939f32de20e7118e23fddaf9739ace0\n",
       "2    0xab4a0c2ed939f32de20e7118e23fddaf9739ace0\n",
       "3    0x15d5ec9d3f67a42f1d56e205a79ae6931f50a431\n",
       "6    0x15d5ec9d3f67a42f1d56e205a79ae6931f50a431\n",
       "7    0xab4a0c2ed939f32de20e7118e23fddaf9739ace0\n",
       "Name: from, dtype: object"
      ]
     },
     "execution_count": 123,
     "metadata": {},
     "output_type": "execute_result"
    }
   ],
   "source": [
    "bought_token_df['from']"
   ]
  },
  {
   "cell_type": "code",
   "execution_count": null,
   "id": "b428a498-88d0-441d-8c06-f6cd2c879609",
   "metadata": {},
   "outputs": [],
   "source": [
    "int_sale_token_tnxs[2]"
   ]
  },
  {
   "cell_type": "code",
   "execution_count": null,
   "id": "c4eff31f-1023-4a7b-906a-44504b2958cc",
   "metadata": {},
   "outputs": [],
   "source": [
    "int_sale_token_tnxs"
   ]
  },
  {
   "cell_type": "code",
   "execution_count": null,
   "id": "61178b53-1dac-411c-b624-13d1a5efa78e",
   "metadata": {},
   "outputs": [],
   "source": [
    "eth.get_normal_txs_by_address(account_one.address,0,99999999,'X')"
   ]
  },
  {
   "cell_type": "markdown",
   "id": "38eb4f8a-6fed-4164-988f-393e3748a32a",
   "metadata": {},
   "source": [
    "### Links with info for code\n",
    "https://stackoverflow.com/questions/67562453/transfer-erc20-token-failed-web3-exceptions-contractlogicerror-execution-rever"
   ]
  },
  {
   "cell_type": "markdown",
   "id": "811bd019-57ed-42aa-b42e-ebfff6f2d180",
   "metadata": {},
   "source": [
    "### https://web3py.readthedocs.io/en/stable/web3.eth.account.html#sign-a-contract-transaction"
   ]
  },
  {
   "cell_type": "markdown",
   "id": "cc8f7f9b-c267-41ae-93a0-4701ca9d7a5f",
   "metadata": {
    "tags": []
   },
   "source": [
    "### https://help.tokensets.com/en/articles/4089766-how-to-push-through-a-stuck-transaction"
   ]
  },
  {
   "cell_type": "markdown",
   "id": "d17f3b6a-7c39-4bd4-954c-4544d218525f",
   "metadata": {},
   "source": [
    "### https://github.com/pcko1/etherscan-python"
   ]
  },
  {
   "cell_type": "markdown",
   "id": "9b8399bc-05fa-40b5-8700-1c9253b81cc1",
   "metadata": {},
   "source": [
    "*** Purchase NFT \n",
    "*** https://medium.com/coinmonks/building-a-non-fungible-token-sales-smart-contract-6573350d5a33"
   ]
  },
  {
   "cell_type": "code",
   "execution_count": null,
   "id": "befbc519-1066-4c7d-88ee-2d6b1194173a",
   "metadata": {},
   "outputs": [],
   "source": []
  }
 ],
 "metadata": {
  "kernelspec": {
   "display_name": "smartcontracts",
   "language": "python",
   "name": "smartcontracts"
  },
  "language_info": {
   "codemirror_mode": {
    "name": "ipython",
    "version": 3
   },
   "file_extension": ".py",
   "mimetype": "text/x-python",
   "name": "python",
   "nbconvert_exporter": "python",
   "pygments_lexer": "ipython3",
   "version": "3.8.8"
  }
 },
 "nbformat": 4,
 "nbformat_minor": 5
}
