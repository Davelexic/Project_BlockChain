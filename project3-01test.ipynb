{
 "cells": [
  {
   "cell_type": "code",
   "execution_count": 1,
   "id": "3cb5d9ea-aa92-432a-8cf0-433c71f78d87",
   "metadata": {},
   "outputs": [],
   "source": [
    "import os\n",
    "from web3 import Web3\n",
    "from dotenv import load_dotenv\n",
    "from web3.middleware import geth_poa_middleware\n",
    "from eth_account import Account\n",
    "\n",
    "from pathlib import Path\n",
    "from getpass import getpass"
   ]
  },
  {
   "cell_type": "code",
   "execution_count": 2,
   "id": "ca7b59b0-7a5f-40be-9d33-cfc23234a5e9",
   "metadata": {},
   "outputs": [],
   "source": [
    "import json"
   ]
  },
  {
   "cell_type": "code",
   "execution_count": 3,
   "id": "63ab254d-59f9-4774-8c7e-d37b5ab21de0",
   "metadata": {},
   "outputs": [
    {
     "data": {
      "text/plain": [
       "True"
      ]
     },
     "execution_count": 3,
     "metadata": {},
     "output_type": "execute_result"
    }
   ],
   "source": [
    "load_dotenv()"
   ]
  },
  {
   "cell_type": "code",
   "execution_count": 4,
   "id": "4363818f-0c3f-4c39-bf03-cd303d64ad2c",
   "metadata": {},
   "outputs": [],
   "source": [
    "WEB3_INFURA_API_KEY =  os.getenv(\"WEB3_INFURA_API_KEY\")"
   ]
  },
  {
   "cell_type": "code",
   "execution_count": 5,
   "id": "82cc3af5-a0b0-4e72-8b9d-d2c25fe61590",
   "metadata": {},
   "outputs": [],
   "source": [
    "WEB3_INFURA_PROJECT_ID = os.getenv(\"WEB3_INFURA_PROJECT_ID\")"
   ]
  },
  {
   "cell_type": "code",
   "execution_count": 6,
   "id": "85c18e66-2459-48cf-8b53-424ac317ab51",
   "metadata": {},
   "outputs": [],
   "source": [
    "mnemonic=os.getenv(\"mnemonic\")"
   ]
  },
  {
   "cell_type": "code",
   "execution_count": 7,
   "id": "eddab63a-49b7-49ae-b49f-9b6f92b5b577",
   "metadata": {},
   "outputs": [],
   "source": [
    "#mnemonic"
   ]
  },
  {
   "cell_type": "code",
   "execution_count": 8,
   "id": "9e7a196b-56dd-46c0-8ff8-38efd7bc09d9",
   "metadata": {},
   "outputs": [],
   "source": [
    "private_key2 = os.getenv(\"PRIVATE_KEY2\")"
   ]
  },
  {
   "cell_type": "code",
   "execution_count": 9,
   "id": "b56a6ba2-de72-4112-bf1c-c30f973365a2",
   "metadata": {},
   "outputs": [],
   "source": [
    "private_key1 = os.getenv(\"PRIVATE_KEY1\")"
   ]
  },
  {
   "cell_type": "code",
   "execution_count": 87,
   "id": "f62aa8f2-72d7-4cfe-93c4-0cf609475815",
   "metadata": {},
   "outputs": [],
   "source": [
    "ETHERSCAN_API = os.getenv(\"ETHERSCAN_API\")"
   ]
  },
  {
   "cell_type": "code",
   "execution_count": 10,
   "id": "83e26cd9-d38a-4b43-8c50-d3d7b57f5146",
   "metadata": {},
   "outputs": [],
   "source": [
    "#private_key2"
   ]
  },
  {
   "cell_type": "markdown",
   "id": "0a82c63c-054e-4a41-bc1e-ba93f9ff3f16",
   "metadata": {},
   "source": [
    "#### flag to enable unaudited HD Wallet features. only then we can get addresses from Mnemonic"
   ]
  },
  {
   "cell_type": "code",
   "execution_count": 11,
   "id": "fa58391e-9646-4e6a-8586-40cba2574777",
   "metadata": {},
   "outputs": [],
   "source": [
    "Account.enable_unaudited_hdwallet_features()"
   ]
  },
  {
   "cell_type": "code",
   "execution_count": 12,
   "id": "a1efc402-9b96-48c3-b285-5c5d34009092",
   "metadata": {},
   "outputs": [],
   "source": [
    "account_mnem1 = Account.from_mnemonic(mnemonic, account_path=\"m/44'/60'/0'/0/0\")"
   ]
  },
  {
   "cell_type": "code",
   "execution_count": 13,
   "id": "0e7b3d71-f641-4acb-be3a-a21c3747c817",
   "metadata": {},
   "outputs": [],
   "source": [
    "my_addr1= account_mnem1.address"
   ]
  },
  {
   "cell_type": "code",
   "execution_count": 14,
   "id": "f89b2d7b-85b9-4082-a660-fc122569bed2",
   "metadata": {},
   "outputs": [],
   "source": [
    "account_one = Account.from_key(private_key1)"
   ]
  },
  {
   "cell_type": "code",
   "execution_count": 15,
   "id": "47c515e3-f561-4521-aa85-aaaf3cf8c721",
   "metadata": {},
   "outputs": [],
   "source": [
    "account_two = Account.from_key(private_key2)"
   ]
  },
  {
   "cell_type": "code",
   "execution_count": 16,
   "id": "0d623f30-3454-47d5-b8ec-baeaef7fd43a",
   "metadata": {},
   "outputs": [
    {
     "data": {
      "text/plain": [
       "'0x15D5eC9D3F67A42f1D56E205a79ae6931F50A431'"
      ]
     },
     "execution_count": 16,
     "metadata": {},
     "output_type": "execute_result"
    }
   ],
   "source": [
    "account_one.address"
   ]
  },
  {
   "cell_type": "code",
   "execution_count": 17,
   "id": "d1287011-bc9d-4aeb-97a7-d680e2006e1c",
   "metadata": {},
   "outputs": [
    {
     "data": {
      "text/plain": [
       "'0xAB4A0C2ed939f32DE20E7118E23fddaF9739aCe0'"
      ]
     },
     "execution_count": 17,
     "metadata": {},
     "output_type": "execute_result"
    }
   ],
   "source": [
    "account_two.address"
   ]
  },
  {
   "cell_type": "code",
   "execution_count": 18,
   "id": "bd082edc-c439-4d90-b021-8ca61dc951d0",
   "metadata": {},
   "outputs": [
    {
     "data": {
      "text/plain": [
       "'0x15D5eC9D3F67A42f1D56E205a79ae6931F50A431'"
      ]
     },
     "execution_count": 18,
     "metadata": {},
     "output_type": "execute_result"
    }
   ],
   "source": [
    "my_addr1"
   ]
  },
  {
   "cell_type": "code",
   "execution_count": 19,
   "id": "8773b53e-2faa-416d-a0ae-b833c24d46bc",
   "metadata": {},
   "outputs": [],
   "source": [
    "#mnemonic"
   ]
  },
  {
   "cell_type": "code",
   "execution_count": 20,
   "id": "5e012fb4-9d36-432c-95d5-c6fb54858122",
   "metadata": {},
   "outputs": [],
   "source": [
    "#WEB3_INFURA_PROJECT_ID"
   ]
  },
  {
   "cell_type": "code",
   "execution_count": 21,
   "id": "4ac93947-ac2d-4ecb-a9bc-a4c8f98d304c",
   "metadata": {},
   "outputs": [],
   "source": [
    "from web3.auto.infura import w3"
   ]
  },
  {
   "cell_type": "code",
   "execution_count": 22,
   "id": "e06e24c3-4259-42ce-8c30-47258840fc84",
   "metadata": {},
   "outputs": [],
   "source": [
    "https_str = f'https://kovan.infura.io/v3/{WEB3_INFURA_PROJECT_ID}'"
   ]
  },
  {
   "cell_type": "code",
   "execution_count": 23,
   "id": "6bd255de-ce8e-490e-9e98-acd35d181518",
   "metadata": {},
   "outputs": [],
   "source": [
    "#https_str"
   ]
  },
  {
   "cell_type": "code",
   "execution_count": 24,
   "id": "d0a0f0ea-6447-48e9-8721-429f8f1ea314",
   "metadata": {},
   "outputs": [],
   "source": [
    "#w1 = Web3(Web3.HTTPProvider('https://kovan.infura.io/v3/WEB3_INFURA_API_KEY'))\n",
    "w1 = Web3(Web3.HTTPProvider(https_str))"
   ]
  },
  {
   "cell_type": "code",
   "execution_count": 25,
   "id": "472225ba-59f8-442c-8243-f523abb8212d",
   "metadata": {},
   "outputs": [],
   "source": [
    "w1.middleware_onion.inject(geth_poa_middleware, layer=0)"
   ]
  },
  {
   "cell_type": "markdown",
   "id": "d1c5371b-2615-4b11-ae13-05152692c826",
   "metadata": {},
   "source": [
    "#### Getting contract from Etherscan works. But not from conrtact i had stored."
   ]
  },
  {
   "cell_type": "code",
   "execution_count": 26,
   "id": "d14f759a-24d6-49ec-9a36-d41dc543c243",
   "metadata": {},
   "outputs": [],
   "source": [
    "address = '0x21bAA019d8929cC4AA844968C399cAB225c4c2D1'"
   ]
  },
  {
   "cell_type": "code",
   "execution_count": 27,
   "id": "e737f242-e72a-44c9-9fe9-770e2283b51b",
   "metadata": {},
   "outputs": [],
   "source": [
    "address_arc_sale_token = '0xfa28DeB173bAA5e285391b94de257f364076Fec3'"
   ]
  },
  {
   "cell_type": "code",
   "execution_count": 28,
   "id": "60713444-e02b-4437-930a-5d78eb97203c",
   "metadata": {},
   "outputs": [],
   "source": [
    "address_arc_token = '0x50640afBA61b8b7f4089Fc3E17e447D77498e5bb'"
   ]
  },
  {
   "cell_type": "code",
   "execution_count": 29,
   "id": "3825a233-2729-4573-8ff1-a5dec9d88843",
   "metadata": {},
   "outputs": [],
   "source": [
    "with open(\"ArcadeTokenSaleContract.txt\") as f:\n",
    "    token_sale_json = json.load(f)\n",
    "#abi = info_json[\"abi\"]"
   ]
  },
  {
   "cell_type": "code",
   "execution_count": 30,
   "id": "846fae47-724d-427b-8943-e48cac85d4ba",
   "metadata": {},
   "outputs": [],
   "source": [
    "with open(\"ArcadeTokenContract.txt\") as f:\n",
    "    token_json = json.load(f)\n",
    "#abi = info_json[\"abi\"]"
   ]
  },
  {
   "cell_type": "code",
   "execution_count": 31,
   "id": "d057b8ef-d3c2-4a0e-8094-2d6d1e9c3641",
   "metadata": {},
   "outputs": [],
   "source": [
    "#info_json"
   ]
  },
  {
   "cell_type": "code",
   "execution_count": 32,
   "id": "794bd022-a439-4b26-b801-311680803c25",
   "metadata": {},
   "outputs": [],
   "source": [
    "contract_instance = w1.eth.contract(address=address, abi=token_sale_json)\n",
    "#contract_instance = w3.eth.contract(address=address, abi=token_sale_json)"
   ]
  },
  {
   "cell_type": "code",
   "execution_count": 33,
   "id": "9c3de7ae-133d-4552-bb72-409a480fa544",
   "metadata": {},
   "outputs": [],
   "source": [
    "contract_instance_token = w1.eth.contract(address=address_arc_sale_token, abi=token_sale_json)\n",
    "#contract_instance_token = w3.eth.contract(address=address_arc_sale_token, abi=token_sale_json)"
   ]
  },
  {
   "cell_type": "code",
   "execution_count": 34,
   "id": "6954a09d-0f74-419a-b562-52f95d3a84ab",
   "metadata": {},
   "outputs": [],
   "source": [
    "token_instance = w1.eth.contract(address=address_arc_token, abi=token_json)\n",
    "#token_instance = w3.eth.contract(address=address_arc_token, abi=token_json)"
   ]
  },
  {
   "cell_type": "code",
   "execution_count": 35,
   "id": "df557e7f-58fa-45ff-9774-debc2049ba4d",
   "metadata": {},
   "outputs": [
    {
     "data": {
      "text/plain": [
       "[<Function addMinter(address)>,\n",
       " <Function allowance(address,address)>,\n",
       " <Function approve(address,uint256)>,\n",
       " <Function balanceOf(address)>,\n",
       " <Function decimals()>,\n",
       " <Function decreaseAllowance(address,uint256)>,\n",
       " <Function increaseAllowance(address,uint256)>,\n",
       " <Function isMinter(address)>,\n",
       " <Function mint(address,uint256)>,\n",
       " <Function name()>,\n",
       " <Function renounceMinter()>,\n",
       " <Function symbol()>,\n",
       " <Function totalSupply()>,\n",
       " <Function transfer(address,uint256)>,\n",
       " <Function transferFrom(address,address,uint256)>]"
      ]
     },
     "execution_count": 35,
     "metadata": {},
     "output_type": "execute_result"
    }
   ],
   "source": [
    "token_instance.all_functions()"
   ]
  },
  {
   "cell_type": "code",
   "execution_count": 36,
   "id": "d83b6f81-f1fa-43cb-8e6b-6ff0366c0d7c",
   "metadata": {},
   "outputs": [
    {
     "data": {
      "text/plain": [
       "10020100000"
      ]
     },
     "execution_count": 36,
     "metadata": {},
     "output_type": "execute_result"
    }
   ],
   "source": [
    "token_instance.functions.totalSupply().call()"
   ]
  },
  {
   "cell_type": "code",
   "execution_count": 37,
   "id": "ccc17bc9-d214-45cb-9b60-29d39a487d73",
   "metadata": {},
   "outputs": [
    {
     "data": {
      "text/plain": [
       "0"
      ]
     },
     "execution_count": 37,
     "metadata": {},
     "output_type": "execute_result"
    }
   ],
   "source": [
    "token_instance.functions.balanceOf(account_mnem1.address).call()"
   ]
  },
  {
   "cell_type": "code",
   "execution_count": 38,
   "id": "2fa01cce-6b43-4533-ba9f-8d4c9eeacafd",
   "metadata": {},
   "outputs": [
    {
     "data": {
      "text/plain": [
       "10005100000"
      ]
     },
     "execution_count": 38,
     "metadata": {},
     "output_type": "execute_result"
    }
   ],
   "source": [
    "token_instance.functions.balanceOf(address_arc_sale_token).call()"
   ]
  },
  {
   "cell_type": "code",
   "execution_count": 39,
   "id": "8980d298-082b-4da1-9ab7-78118437a83b",
   "metadata": {},
   "outputs": [
    {
     "data": {
      "text/plain": [
       "[<Function buyTokens(address)>,\n",
       " <Function rate()>,\n",
       " <Function token()>,\n",
       " <Function wallet()>,\n",
       " <Function weiRaised()>]"
      ]
     },
     "execution_count": 39,
     "metadata": {},
     "output_type": "execute_result"
    }
   ],
   "source": [
    "contract_instance.all_functions()"
   ]
  },
  {
   "cell_type": "code",
   "execution_count": 40,
   "id": "4ead84a6-d83d-46d9-9126-69e0bdfd79dd",
   "metadata": {},
   "outputs": [
    {
     "data": {
      "text/plain": [
       "[<Function buyTokens(address)>,\n",
       " <Function rate()>,\n",
       " <Function token()>,\n",
       " <Function wallet()>,\n",
       " <Function weiRaised()>]"
      ]
     },
     "execution_count": 40,
     "metadata": {},
     "output_type": "execute_result"
    }
   ],
   "source": [
    "contract_instance_token.all_functions()"
   ]
  },
  {
   "cell_type": "code",
   "execution_count": 41,
   "id": "0abde334-3b8f-417c-b2ec-9b122ba84eba",
   "metadata": {},
   "outputs": [
    {
     "data": {
      "text/plain": [
       "10020100000"
      ]
     },
     "execution_count": 41,
     "metadata": {},
     "output_type": "execute_result"
    }
   ],
   "source": [
    "contract_instance_token.functions.weiRaised().call()"
   ]
  },
  {
   "cell_type": "code",
   "execution_count": 42,
   "id": "b4e28870-3163-4d3b-a211-0b0ba87115d5",
   "metadata": {},
   "outputs": [
    {
     "data": {
      "text/plain": [
       "'0x50640afBA61b8b7f4089Fc3E17e447D77498e5bb'"
      ]
     },
     "execution_count": 42,
     "metadata": {},
     "output_type": "execute_result"
    }
   ],
   "source": [
    "contract_instance_token.functions.token().call()"
   ]
  },
  {
   "cell_type": "code",
   "execution_count": 43,
   "id": "25afb963-0319-4bd1-b776-b686605a197c",
   "metadata": {},
   "outputs": [],
   "source": [
    "#contract_instance_token.functions.buyTokens(address_arc_sale_token).call()"
   ]
  },
  {
   "cell_type": "code",
   "execution_count": 44,
   "id": "7236581e-ae52-4f31-ad86-761e8292e86f",
   "metadata": {},
   "outputs": [],
   "source": [
    "nonce = w1.eth.get_transaction_count(account_one.address)"
   ]
  },
  {
   "cell_type": "code",
   "execution_count": 45,
   "id": "4ca1ab2f-9e8a-49ff-a6df-0ff9ff5cb052",
   "metadata": {},
   "outputs": [],
   "source": [
    "nonce = 6"
   ]
  },
  {
   "cell_type": "code",
   "execution_count": 46,
   "id": "058dbd9e-9122-4f57-8cd0-ab0fc5a1c7c9",
   "metadata": {},
   "outputs": [
    {
     "data": {
      "text/plain": [
       "6"
      ]
     },
     "execution_count": 46,
     "metadata": {},
     "output_type": "execute_result"
    }
   ],
   "source": [
    "nonce"
   ]
  },
  {
   "cell_type": "code",
   "execution_count": 47,
   "id": "bc9d96ea-aa6c-47c5-a0d0-3bb8a73d751e",
   "metadata": {},
   "outputs": [],
   "source": [
    "chain_id = w1.eth.chain_id"
   ]
  },
  {
   "cell_type": "code",
   "execution_count": 48,
   "id": "4bb243b1-1b7c-4ea1-83df-dd1f388b402d",
   "metadata": {},
   "outputs": [
    {
     "data": {
      "text/plain": [
       "42"
      ]
     },
     "execution_count": 48,
     "metadata": {},
     "output_type": "execute_result"
    }
   ],
   "source": [
    "chain_id"
   ]
  },
  {
   "cell_type": "code",
   "execution_count": 49,
   "id": "db84c99b-9285-4411-8022-52eedd59985e",
   "metadata": {},
   "outputs": [],
   "source": [
    "buy_token_amount = 10"
   ]
  },
  {
   "cell_type": "code",
   "execution_count": 50,
   "id": "e040dbcd-b7e9-40bc-a00f-ec440fb228d3",
   "metadata": {},
   "outputs": [
    {
     "data": {
      "text/plain": [
       "1000000000"
      ]
     },
     "execution_count": 50,
     "metadata": {},
     "output_type": "execute_result"
    }
   ],
   "source": [
    "w1.toWei('1', 'gwei')"
   ]
  },
  {
   "cell_type": "code",
   "execution_count": 51,
   "id": "122ad4c7-5c61-432f-b147-9544f7764562",
   "metadata": {},
   "outputs": [
    {
     "data": {
      "text/plain": [
       "1000000000000000000"
      ]
     },
     "execution_count": 51,
     "metadata": {},
     "output_type": "execute_result"
    }
   ],
   "source": [
    "w1.toWei('1', 'ether')"
   ]
  },
  {
   "cell_type": "code",
   "execution_count": 52,
   "id": "b63ebf7f-363a-4cb2-ad56-5d7232412d3a",
   "metadata": {},
   "outputs": [
    {
     "data": {
      "text/plain": [
       "'0xfa28DeB173bAA5e285391b94de257f364076Fec3'"
      ]
     },
     "execution_count": 52,
     "metadata": {},
     "output_type": "execute_result"
    }
   ],
   "source": [
    "address_arc_sale_token"
   ]
  },
  {
   "cell_type": "code",
   "execution_count": 53,
   "id": "9963a7e4-e520-4ab3-bb83-81d4fc6b9bbc",
   "metadata": {},
   "outputs": [],
   "source": [
    "gasEstimate = w1.eth.estimateGas({\"from\": account_two.address, \"to\": account_one.address, \"value\": 10})"
   ]
  },
  {
   "cell_type": "code",
   "execution_count": 54,
   "id": "6ddff229-cb98-4a5b-86de-c6d3ead41d4c",
   "metadata": {},
   "outputs": [
    {
     "data": {
      "text/plain": [
       "21000"
      ]
     },
     "execution_count": 54,
     "metadata": {},
     "output_type": "execute_result"
    }
   ],
   "source": [
    "gasEstimate"
   ]
  },
  {
   "cell_type": "code",
   "execution_count": 55,
   "id": "b19d2799-bcaa-47b6-8383-bb4055030f45",
   "metadata": {},
   "outputs": [],
   "source": [
    "gasEstimate = 98456"
   ]
  },
  {
   "cell_type": "code",
   "execution_count": 56,
   "id": "a50fabff-ae15-4ec4-a212-ee9628174942",
   "metadata": {},
   "outputs": [
    {
     "data": {
      "text/plain": [
       "98456"
      ]
     },
     "execution_count": 56,
     "metadata": {},
     "output_type": "execute_result"
    }
   ],
   "source": [
    "gasEstimate"
   ]
  },
  {
   "cell_type": "code",
   "execution_count": 57,
   "id": "2f7bfb81-bc68-4683-a92a-fcfd4fb9203b",
   "metadata": {},
   "outputs": [],
   "source": [
    "gas_price = w1.eth.gasPrice"
   ]
  },
  {
   "cell_type": "code",
   "execution_count": 58,
   "id": "796c45b6-1825-4c09-bb7b-4406f98bae85",
   "metadata": {},
   "outputs": [
    {
     "data": {
      "text/plain": [
       "5000000000"
      ]
     },
     "execution_count": 58,
     "metadata": {},
     "output_type": "execute_result"
    }
   ],
   "source": [
    "gas_price"
   ]
  },
  {
   "cell_type": "code",
   "execution_count": 59,
   "id": "436a21d3-c24c-4ea6-b565-cb04cdb016a0",
   "metadata": {},
   "outputs": [
    {
     "data": {
      "text/plain": [
       "AttributeDict({'author': '0x596e8221a30bfe6e7eff67fee664a01c73ba3c56',\n",
       " 'baseFeePerGas': 7,\n",
       " 'difficulty': 340282366920938463463374607431768211454,\n",
       " 'proofOfAuthorityData': HexBytes('0xdb830303008c4f70656e457468657265756d86312e35322e31826c69'),\n",
       " 'gasLimit': 12500000,\n",
       " 'gasUsed': 773182,\n",
       " 'hash': HexBytes('0x8984053794bfaca4b5655c19cbdffe407a04dd73671f406d9246902fabc49007'),\n",
       " 'logsBloom': HexBytes('0x0000000000000002000400000000006001000000000000c080010000000000000000000000000010000000000000020000000000000000200000080002218000000000000000082000000008000000000000000000000000000000000800800000000800020000100000001000100800000800000000001008000010000200800000020420200000404040002000030000000000000000040000020000000000020000200000000000000000102000400000040100000000000020000000000800000002020000000000000000000000080000000000000000000000000020000010000008008000400000000000000008000000000001040010000000000000'),\n",
       " 'miner': '0x596e8221A30bFe6e7eFF67Fee664A01C73BA3C56',\n",
       " 'number': 27168051,\n",
       " 'parentHash': HexBytes('0xeac81cb3523d51e0f5e78c66c4136ccc35ced7050095cbdb433e9e5d700474e0'),\n",
       " 'receiptsRoot': HexBytes('0xc8a6405812aced4a2f3bbd3cf20391a7e6a0edbecd31397ce5c34ae74696b616'),\n",
       " 'sealFields': ['0x84184f9b80',\n",
       "  '0xb84164feafda7689e8d71d3c3d781df07fa485dbfe62490618b089a5da076f2f51756ebb5c5c351e56e34938e7ea3252d9074a31333ba21fc93ed6e3daced6752b4900'],\n",
       " 'sha3Uncles': HexBytes('0x1dcc4de8dec75d7aab85b567b6ccd41ad312451b948a7413f0a142fd40d49347'),\n",
       " 'signature': '64feafda7689e8d71d3c3d781df07fa485dbfe62490618b089a5da076f2f51756ebb5c5c351e56e34938e7ea3252d9074a31333ba21fc93ed6e3daced6752b4900',\n",
       " 'size': 1628,\n",
       " 'stateRoot': HexBytes('0xe41941956a7d7222ce0afea45eb793bf5db9909c95d6c704ae53cfdeb3b650d0'),\n",
       " 'step': '407870336',\n",
       " 'timestamp': 1631481344,\n",
       " 'totalDifficulty': 9194365581118776146349250778380179920485140598,\n",
       " 'transactions': [HexBytes('0x6d3d4f2d1dc04108309289f2b27c8b9b8cd7b002af41443c1a881c3e27c68492'),\n",
       "  HexBytes('0xb4980a9bf0a68f94ee54e8f0cb951ef0864d96cd2fa6e5872c4cb558ecd35320'),\n",
       "  HexBytes('0x04a21e606725d04a9f1aa8ef3a16f95d3337121da198ed19a912272e6bc0251e'),\n",
       "  HexBytes('0x65576a50403a8ef13cce0268af6ce9e0410b92a40f8584a7246b96007296708f')],\n",
       " 'transactionsRoot': HexBytes('0x758ce9e1d1fb46f9a79dbd7fdf640062b397ccbbd25bdaca11cb93841af2900f'),\n",
       " 'uncles': []})"
      ]
     },
     "execution_count": 59,
     "metadata": {},
     "output_type": "execute_result"
    }
   ],
   "source": [
    "w1.eth.getBlock(\"latest\")"
   ]
  },
  {
   "cell_type": "code",
   "execution_count": 60,
   "id": "7e01afff-f484-45d8-8a5c-68f4c2d5f68a",
   "metadata": {},
   "outputs": [],
   "source": [
    "dict1 = w1.eth.getBlock(\"latest\")"
   ]
  },
  {
   "cell_type": "code",
   "execution_count": 61,
   "id": "ad946c78-f73e-49af-98a1-9a4b99b60076",
   "metadata": {},
   "outputs": [
    {
     "data": {
      "text/plain": [
       "773182"
      ]
     },
     "execution_count": 61,
     "metadata": {},
     "output_type": "execute_result"
    }
   ],
   "source": [
    "dict1['gasUsed']"
   ]
  },
  {
   "cell_type": "code",
   "execution_count": 62,
   "id": "27dc9a69-cfe0-4d54-94e9-63ad7328b835",
   "metadata": {},
   "outputs": [],
   "source": [
    "gasEstimate = dict1['gasUsed']"
   ]
  },
  {
   "cell_type": "code",
   "execution_count": 63,
   "id": "a0f697fb-42b6-43ec-ae13-b795b806d7b4",
   "metadata": {},
   "outputs": [
    {
     "data": {
      "text/plain": [
       "773182"
      ]
     },
     "execution_count": 63,
     "metadata": {},
     "output_type": "execute_result"
    }
   ],
   "source": [
    "gasEstimate"
   ]
  },
  {
   "cell_type": "code",
   "execution_count": 64,
   "id": "c5258428-3df9-4ef2-85ad-5fa2b9bf1471",
   "metadata": {},
   "outputs": [],
   "source": [
    "#buy_token_txn = contract_instance_token.functions.buyTokens(address_arc_sale_token).buildTransaction({'chainId':chain_id, 'gas': 10000000, 'gasPrice': 80000000, 'nonce': nonce, 'value': 1, 'from': account_one.address})"
   ]
  },
  {
   "cell_type": "markdown",
   "id": "9ed2de34-6f6c-46b6-84d4-49b3df8f381f",
   "metadata": {},
   "source": [
    "#### below address w/o from"
   ]
  },
  {
   "cell_type": "code",
   "execution_count": 65,
   "id": "78ecb976-6c6c-4bbe-9385-993c418f6921",
   "metadata": {},
   "outputs": [],
   "source": [
    "buy_token_txn = contract_instance_token.functions.buyTokens(address_arc_sale_token).buildTransaction({'chainId':chain_id, 'gas': gasEstimate, 'gasPrice': gas_price, 'nonce': nonce, 'value': 1000})"
   ]
  },
  {
   "cell_type": "code",
   "execution_count": 66,
   "id": "f8561e94-babe-4efa-aef1-c786d3563cb0",
   "metadata": {},
   "outputs": [],
   "source": [
    "# w1.toWei(buy_token_amount, 'wei')"
   ]
  },
  {
   "cell_type": "code",
   "execution_count": 67,
   "id": "537de03e-6448-4093-924c-2355ae42dab4",
   "metadata": {},
   "outputs": [
    {
     "data": {
      "text/plain": [
       "{'chainId': 42,\n",
       " 'gas': 773182,\n",
       " 'gasPrice': 5000000000,\n",
       " 'nonce': 6,\n",
       " 'value': 1000,\n",
       " 'to': '0xfa28DeB173bAA5e285391b94de257f364076Fec3',\n",
       " 'data': '0xec8ac4d8000000000000000000000000fa28deb173baa5e285391b94de257f364076fec3'}"
      ]
     },
     "execution_count": 67,
     "metadata": {},
     "output_type": "execute_result"
    }
   ],
   "source": [
    "buy_token_txn"
   ]
  },
  {
   "cell_type": "code",
   "execution_count": 68,
   "id": "826d7cef-0074-4342-9101-b0bfaede0941",
   "metadata": {},
   "outputs": [],
   "source": [
    "#signed_txn = w3.eth.account.sign_transaction(buy_token_txn, private_key=private_key1)"
   ]
  },
  {
   "cell_type": "code",
   "execution_count": 69,
   "id": "4e6d15f9-ad6e-48cf-8f22-dc15f3e4c71a",
   "metadata": {},
   "outputs": [],
   "source": [
    "signed_txn = w3.eth.account.sign_transaction(buy_token_txn, private_key=private_key1)"
   ]
  },
  {
   "cell_type": "code",
   "execution_count": 70,
   "id": "33f31af8-5b4b-41ec-90c6-54f890dc0a3c",
   "metadata": {},
   "outputs": [
    {
     "data": {
      "text/plain": [
       "HexBytes('0x82856f0e7a0a59c162f190a7d6e82381c86e8e5ecba62e17ab68204414cd87d6')"
      ]
     },
     "execution_count": 70,
     "metadata": {},
     "output_type": "execute_result"
    }
   ],
   "source": [
    "signed_txn.hash"
   ]
  },
  {
   "cell_type": "markdown",
   "id": "6e7969e6-4bbd-46e0-8eac-6a96a344cfe4",
   "metadata": {},
   "source": [
    "HexBytes('0xc7ce9eb297de8ddf930c0f65a50f65eeb21f3d04c16918e82017ac27e8fc53a3')"
   ]
  },
  {
   "cell_type": "code",
   "execution_count": 71,
   "id": "36b5fee2-2c39-4345-80a7-7b89236b09e0",
   "metadata": {},
   "outputs": [
    {
     "data": {
      "text/plain": [
       "HexBytes('0xf88b0685012a05f200830bcc3e94fa28deb173baa5e285391b94de257f364076fec38203e8a4ec8ac4d8000000000000000000000000fa28deb173baa5e285391b94de257f364076fec378a0f9b93eaa3653b8c61f0b36c97ff77845c6e891ea4673c7195f057ddd68c35161a02a526a0ef9064c68b2de8b6133b84d74918425123a85589bac9f4c44d03d88fc')"
      ]
     },
     "execution_count": 71,
     "metadata": {},
     "output_type": "execute_result"
    }
   ],
   "source": [
    "signed_txn.rawTransaction"
   ]
  },
  {
   "cell_type": "code",
   "execution_count": 72,
   "id": "a977639d-a7db-4968-9ad8-e3f5a9448d3e",
   "metadata": {},
   "outputs": [
    {
     "data": {
      "text/plain": [
       "112953198501403071126388194218330694160644193291210410269371681477289627046241"
      ]
     },
     "execution_count": 72,
     "metadata": {},
     "output_type": "execute_result"
    }
   ],
   "source": [
    "signed_txn.r"
   ]
  },
  {
   "cell_type": "code",
   "execution_count": 73,
   "id": "a4753e20-a119-49a7-80dd-eee4bb452f96",
   "metadata": {},
   "outputs": [
    {
     "data": {
      "text/plain": [
       "19142753088586380633378398616979709652698701179572586291055063308686061308156"
      ]
     },
     "execution_count": 73,
     "metadata": {},
     "output_type": "execute_result"
    }
   ],
   "source": [
    "signed_txn.s"
   ]
  },
  {
   "cell_type": "code",
   "execution_count": 74,
   "id": "3548b52f-2d0d-4a21-9c04-9a484924d9bc",
   "metadata": {},
   "outputs": [
    {
     "data": {
      "text/plain": [
       "120"
      ]
     },
     "execution_count": 74,
     "metadata": {},
     "output_type": "execute_result"
    }
   ],
   "source": [
    "signed_txn.v"
   ]
  },
  {
   "cell_type": "code",
   "execution_count": 75,
   "id": "d86bd8b1-3788-465c-a9b0-235615f3205e",
   "metadata": {},
   "outputs": [
    {
     "data": {
      "text/plain": [
       "HexBytes('0x82856f0e7a0a59c162f190a7d6e82381c86e8e5ecba62e17ab68204414cd87d6')"
      ]
     },
     "execution_count": 75,
     "metadata": {},
     "output_type": "execute_result"
    }
   ],
   "source": [
    "w1.eth.send_raw_transaction(signed_txn.rawTransaction) "
   ]
  },
  {
   "cell_type": "code",
   "execution_count": 80,
   "id": "1e5ad8e1-7590-4121-bdc0-2de0cf2b681f",
   "metadata": {},
   "outputs": [
    {
     "data": {
      "text/plain": [
       "AttributeDict({'blockHash': None,\n",
       " 'blockNumber': None,\n",
       " 'chainId': '0x2a',\n",
       " 'condition': None,\n",
       " 'creates': None,\n",
       " 'from': '0x15D5eC9D3F67A42f1D56E205a79ae6931F50A431',\n",
       " 'gas': 773182,\n",
       " 'gasPrice': 5000000000,\n",
       " 'hash': HexBytes('0x82856f0e7a0a59c162f190a7d6e82381c86e8e5ecba62e17ab68204414cd87d6'),\n",
       " 'input': '0xec8ac4d8000000000000000000000000fa28deb173baa5e285391b94de257f364076fec3',\n",
       " 'nonce': 6,\n",
       " 'publicKey': HexBytes('0x3c9fcd2ad22987bf2dbbb7213bab8190974ba7a9bd3b0f15cdf8e64bc2f189ec8c0392db2108f269b296f2e4fa65f90777318f68d0d3146910d129a2c3d536ad'),\n",
       " 'r': HexBytes('0xf9b93eaa3653b8c61f0b36c97ff77845c6e891ea4673c7195f057ddd68c35161'),\n",
       " 'raw': HexBytes('0xf88b0685012a05f200830bcc3e94fa28deb173baa5e285391b94de257f364076fec38203e8a4ec8ac4d8000000000000000000000000fa28deb173baa5e285391b94de257f364076fec378a0f9b93eaa3653b8c61f0b36c97ff77845c6e891ea4673c7195f057ddd68c35161a02a526a0ef9064c68b2de8b6133b84d74918425123a85589bac9f4c44d03d88fc'),\n",
       " 's': HexBytes('0x2a526a0ef9064c68b2de8b6133b84d74918425123a85589bac9f4c44d03d88fc'),\n",
       " 'standardV': 1,\n",
       " 'to': '0xfa28DeB173bAA5e285391b94de257f364076Fec3',\n",
       " 'transactionIndex': None,\n",
       " 'v': 120,\n",
       " 'value': 1000})"
      ]
     },
     "execution_count": 80,
     "metadata": {},
     "output_type": "execute_result"
    }
   ],
   "source": [
    "w1.eth.getTransaction('0x82856f0e7a0a59c162f190a7d6e82381c86e8e5ecba62e17ab68204414cd87d6')"
   ]
  },
  {
   "cell_type": "code",
   "execution_count": 86,
   "id": "719a23d1-acfa-4ff1-b451-c61f70b7a539",
   "metadata": {},
   "outputs": [
    {
     "data": {
      "text/plain": [
       "<function web3.module.retrieve_blocking_method_call_fn.<locals>.caller(*args: Any, **kwargs: Any) -> Union[~TReturn, web3._utils.filters.LogFilter]>"
      ]
     },
     "execution_count": 86,
     "metadata": {},
     "output_type": "execute_result"
    }
   ],
   "source": [
    "w1.eth.get_transaction_count"
   ]
  },
  {
   "cell_type": "code",
   "execution_count": null,
   "id": "31c88b53-a80b-4099-bf7d-0f245a45aaf0",
   "metadata": {},
   "outputs": [],
   "source": []
  },
  {
   "cell_type": "markdown",
   "id": "38eb4f8a-6fed-4164-988f-393e3748a32a",
   "metadata": {},
   "source": [
    "### Links with info for code\n",
    "https://stackoverflow.com/questions/67562453/transfer-erc20-token-failed-web3-exceptions-contractlogicerror-execution-rever"
   ]
  },
  {
   "cell_type": "markdown",
   "id": "811bd019-57ed-42aa-b42e-ebfff6f2d180",
   "metadata": {},
   "source": [
    "### https://web3py.readthedocs.io/en/stable/web3.eth.account.html#sign-a-contract-transaction"
   ]
  },
  {
   "cell_type": "markdown",
   "id": "cc8f7f9b-c267-41ae-93a0-4701ca9d7a5f",
   "metadata": {
    "tags": []
   },
   "source": [
    "### https://help.tokensets.com/en/articles/4089766-how-to-push-through-a-stuck-transaction"
   ]
  },
  {
   "cell_type": "markdown",
   "id": "d17f3b6a-7c39-4bd4-954c-4544d218525f",
   "metadata": {},
   "source": [
    "### https://github.com/pcko1/etherscan-python"
   ]
  },
  {
   "cell_type": "code",
   "execution_count": null,
   "id": "f5b59338-4e40-4681-815c-76f2e25d85e4",
   "metadata": {},
   "outputs": [],
   "source": []
  }
 ],
 "metadata": {
  "kernelspec": {
   "display_name": "blockchain",
   "language": "python",
   "name": "blockchain"
  },
  "language_info": {
   "codemirror_mode": {
    "name": "ipython",
    "version": 3
   },
   "file_extension": ".py",
   "mimetype": "text/x-python",
   "name": "python",
   "nbconvert_exporter": "python",
   "pygments_lexer": "ipython3",
   "version": "3.8.8"
  }
 },
 "nbformat": 4,
 "nbformat_minor": 5
}
