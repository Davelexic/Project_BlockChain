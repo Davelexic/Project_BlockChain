{
 "cells": [
  {
   "cell_type": "code",
   "execution_count": 17,
   "id": "3cb5d9ea-aa92-432a-8cf0-433c71f78d87",
   "metadata": {},
   "outputs": [],
   "source": [
    "import os\n",
    "from web3 import Web3\n",
    "from dotenv import load_dotenv\n",
    "from web3.middleware import geth_poa_middleware\n",
    "from eth_account import Account\n",
    "\n",
    "from pathlib import Path\n",
    "from getpass import getpass\n",
    "import pandas as pd"
   ]
  },
  {
   "cell_type": "markdown",
   "id": "3b8e1b58-a7b5-44d0-943c-feebfa3c1dd6",
   "metadata": {},
   "source": [
    "#### Use - Python API for Etherscan.io\n",
    "https://github.com/pcko1/etherscan-python"
   ]
  },
  {
   "cell_type": "code",
   "execution_count": 18,
   "id": "ae8ab56b-9a3f-49ab-8084-2c437e0c320f",
   "metadata": {},
   "outputs": [],
   "source": [
    "from etherscan import Etherscan"
   ]
  },
  {
   "cell_type": "code",
   "execution_count": 19,
   "id": "ca7b59b0-7a5f-40be-9d33-cfc23234a5e9",
   "metadata": {},
   "outputs": [],
   "source": [
    "import json"
   ]
  },
  {
   "cell_type": "code",
   "execution_count": 20,
   "id": "63ab254d-59f9-4774-8c7e-d37b5ab21de0",
   "metadata": {},
   "outputs": [
    {
     "data": {
      "text/plain": [
       "True"
      ]
     },
     "execution_count": 20,
     "metadata": {},
     "output_type": "execute_result"
    }
   ],
   "source": [
    "load_dotenv()"
   ]
  },
  {
   "cell_type": "markdown",
   "id": "c11895dc-3cc4-40e7-8fd2-e29d8e1b0c2f",
   "metadata": {},
   "source": [
    "#### Infura API suite provides instant access over HTTPS and WebSockets to the Ethereum network."
   ]
  },
  {
   "cell_type": "code",
   "execution_count": 21,
   "id": "4363818f-0c3f-4c39-bf03-cd303d64ad2c",
   "metadata": {},
   "outputs": [],
   "source": [
    "WEB3_INFURA_API_KEY =  os.getenv(\"WEB3_INFURA_API_KEY\")"
   ]
  },
  {
   "cell_type": "code",
   "execution_count": 22,
   "id": "82cc3af5-a0b0-4e72-8b9d-d2c25fe61590",
   "metadata": {},
   "outputs": [],
   "source": [
    "WEB3_INFURA_PROJECT_ID = os.getenv(\"WEB3_INFURA_PROJECT_ID\")"
   ]
  },
  {
   "cell_type": "code",
   "execution_count": 23,
   "id": "85c18e66-2459-48cf-8b53-424ac317ab51",
   "metadata": {},
   "outputs": [],
   "source": [
    "mnemonic=os.getenv(\"mnemonic\")"
   ]
  },
  {
   "cell_type": "markdown",
   "id": "45887255-4bd7-4133-b451-0753f84392bb",
   "metadata": {},
   "source": [
    "### Contract NFT Art Musuem owner private key - later can take as input"
   ]
  },
  {
   "cell_type": "code",
   "execution_count": 24,
   "id": "9e7a196b-56dd-46c0-8ff8-38efd7bc09d9",
   "metadata": {},
   "outputs": [],
   "source": [
    "private_key1 = os.getenv(\"PRIVATE_KEY1\")"
   ]
  },
  {
   "cell_type": "markdown",
   "id": "ef1ead45-8d4a-4045-a9d4-98c3d121b1dc",
   "metadata": {},
   "source": [
    "### Artist private key - need to approve transfer"
   ]
  },
  {
   "cell_type": "code",
   "execution_count": 25,
   "id": "b56a6ba2-de72-4112-bf1c-c30f973365a2",
   "metadata": {},
   "outputs": [],
   "source": [
    "private_key2 = os.getenv(\"PRIVATE_KEY2\")"
   ]
  },
  {
   "cell_type": "markdown",
   "id": "d045bf88-9f10-4fae-813e-580cd703dd24",
   "metadata": {},
   "source": [
    "### Buyer private key - later can take as input"
   ]
  },
  {
   "cell_type": "code",
   "execution_count": 26,
   "id": "0d981af6-76b1-452c-ad75-fe28d1b7b414",
   "metadata": {},
   "outputs": [],
   "source": [
    "private_key3 = os.getenv(\"PRIVATE_KEY3\")      "
   ]
  },
  {
   "cell_type": "code",
   "execution_count": 27,
   "id": "f62aa8f2-72d7-4cfe-93c4-0cf609475815",
   "metadata": {},
   "outputs": [],
   "source": [
    "ETHERSCAN_API = os.getenv(\"ETHERSCAN_API\")"
   ]
  },
  {
   "cell_type": "markdown",
   "id": "3604d9f3-cb49-4e94-a39d-ba4bf07bd6ef",
   "metadata": {},
   "source": [
    "#### project is deployed on Kovan Ethereum testnet"
   ]
  },
  {
   "cell_type": "code",
   "execution_count": 28,
   "id": "20045002-0652-42ea-b5ef-a14d62810728",
   "metadata": {},
   "outputs": [],
   "source": [
    "eth = Etherscan(ETHERSCAN_API, net= \"KOVAN\")"
   ]
  },
  {
   "cell_type": "code",
   "execution_count": 29,
   "id": "83e26cd9-d38a-4b43-8c50-d3d7b57f5146",
   "metadata": {},
   "outputs": [],
   "source": [
    "#private_key2"
   ]
  },
  {
   "cell_type": "markdown",
   "id": "0a82c63c-054e-4a41-bc1e-ba93f9ff3f16",
   "metadata": {},
   "source": [
    "#### flag to enable unaudited HD Wallet features. only then we can get addresses from Mnemonic"
   ]
  },
  {
   "cell_type": "code",
   "execution_count": 30,
   "id": "fa58391e-9646-4e6a-8586-40cba2574777",
   "metadata": {},
   "outputs": [],
   "source": [
    "Account.enable_unaudited_hdwallet_features()"
   ]
  },
  {
   "cell_type": "code",
   "execution_count": 31,
   "id": "a1efc402-9b96-48c3-b285-5c5d34009092",
   "metadata": {},
   "outputs": [],
   "source": [
    "account_mnem1 = Account.from_mnemonic(mnemonic, account_path=\"m/44'/60'/0'/0/0\")"
   ]
  },
  {
   "cell_type": "code",
   "execution_count": 32,
   "id": "0e7b3d71-f641-4acb-be3a-a21c3747c817",
   "metadata": {},
   "outputs": [],
   "source": [
    "my_addr1= account_mnem1.address"
   ]
  },
  {
   "cell_type": "markdown",
   "id": "4c11e617-7299-4263-9a83-9ce4dbb23016",
   "metadata": {},
   "source": [
    "## get private keys of Contract Owner, Artist and Buyer"
   ]
  },
  {
   "cell_type": "code",
   "execution_count": 33,
   "id": "f89b2d7b-85b9-4082-a660-fc122569bed2",
   "metadata": {},
   "outputs": [],
   "source": [
    "account_contract_owner = Account.from_key(private_key1)"
   ]
  },
  {
   "cell_type": "code",
   "execution_count": 34,
   "id": "47c515e3-f561-4521-aa85-aaaf3cf8c721",
   "metadata": {},
   "outputs": [],
   "source": [
    "account_artist = Account.from_key(private_key2)"
   ]
  },
  {
   "cell_type": "code",
   "execution_count": 35,
   "id": "1fa5d8d4-2800-4b12-9a0a-96c7ecc88c04",
   "metadata": {},
   "outputs": [],
   "source": [
    "account_buyer = Account.from_key(private_key3)"
   ]
  },
  {
   "cell_type": "markdown",
   "id": "bd165937-21de-4f78-ac68-243b6d6e1a01",
   "metadata": {},
   "source": [
    "## Set Addresses Contract Owner, Artist and Buyer"
   ]
  },
  {
   "cell_type": "code",
   "execution_count": 36,
   "id": "0d623f30-3454-47d5-b8ec-baeaef7fd43a",
   "metadata": {},
   "outputs": [
    {
     "data": {
      "text/plain": [
       "'0x15D5eC9D3F67A42f1D56E205a79ae6931F50A431'"
      ]
     },
     "execution_count": 36,
     "metadata": {},
     "output_type": "execute_result"
    }
   ],
   "source": [
    "account_contract_owner.address"
   ]
  },
  {
   "cell_type": "code",
   "execution_count": 37,
   "id": "d1287011-bc9d-4aeb-97a7-d680e2006e1c",
   "metadata": {},
   "outputs": [
    {
     "data": {
      "text/plain": [
       "'0xAB4A0C2ed939f32DE20E7118E23fddaF9739aCe0'"
      ]
     },
     "execution_count": 37,
     "metadata": {},
     "output_type": "execute_result"
    }
   ],
   "source": [
    "account_artist.address"
   ]
  },
  {
   "cell_type": "code",
   "execution_count": 38,
   "id": "4a3341cf-de4c-49c7-b25f-b6a2b769d130",
   "metadata": {},
   "outputs": [
    {
     "data": {
      "text/plain": [
       "'0xbBdBA51a140fcBA90a41e9A5ca290B98e7087104'"
      ]
     },
     "execution_count": 38,
     "metadata": {},
     "output_type": "execute_result"
    }
   ],
   "source": [
    "account_buyer.address"
   ]
  },
  {
   "cell_type": "markdown",
   "id": "f9059234-3bff-4ee8-b179-0be0371f876e",
   "metadata": {},
   "source": [
    "## For now get Artist NFT info - Name of NFT, Artist name, Price and Token URI # later will taken as input"
   ]
  },
  {
   "cell_type": "code",
   "execution_count": 88,
   "id": "f214dde3-5627-4c25-a4c5-ac07bf97d2a2",
   "metadata": {},
   "outputs": [],
   "source": [
    "nft_name = 'PinkMooon'\n",
    "artist_name = 'Chuck'\n",
    "price = 500\n",
    "token_uri = \"ipfs://bafybeid4ku24x5yblyj6llev4cyfk3ooov2qx7oym5scsm75pavhs3qjuu\""
   ]
  },
  {
   "cell_type": "markdown",
   "id": "7cf2dc33-3cfb-4bf4-b674-438b7545fb4f",
   "metadata": {},
   "source": [
    "## get Buyer's info of which NFT they want to buy - this will be Token ID - # later this will be taken as Input"
   ]
  },
  {
   "cell_type": "code",
   "execution_count": 89,
   "id": "24de322b-6c90-467e-8804-85c393bd75c8",
   "metadata": {},
   "outputs": [],
   "source": [
    "buy_token_id = 1"
   ]
  },
  {
   "cell_type": "code",
   "execution_count": 39,
   "id": "bd082edc-c439-4d90-b021-8ca61dc951d0",
   "metadata": {},
   "outputs": [
    {
     "data": {
      "text/plain": [
       "'0x15D5eC9D3F67A42f1D56E205a79ae6931F50A431'"
      ]
     },
     "execution_count": 39,
     "metadata": {},
     "output_type": "execute_result"
    }
   ],
   "source": [
    "my_addr1"
   ]
  },
  {
   "cell_type": "code",
   "execution_count": 40,
   "id": "4ac93947-ac2d-4ecb-a9bc-a4c8f98d304c",
   "metadata": {},
   "outputs": [],
   "source": [
    "from web3.auto.infura import w3"
   ]
  },
  {
   "cell_type": "code",
   "execution_count": 41,
   "id": "e06e24c3-4259-42ce-8c30-47258840fc84",
   "metadata": {},
   "outputs": [],
   "source": [
    "https_str = f'https://kovan.infura.io/v3/{WEB3_INFURA_PROJECT_ID}'"
   ]
  },
  {
   "cell_type": "markdown",
   "id": "8f8cfe2e-1232-466a-bea2-bd505d06c44c",
   "metadata": {},
   "source": [
    "#### Connect to infura kovan"
   ]
  },
  {
   "cell_type": "code",
   "execution_count": 42,
   "id": "d0a0f0ea-6447-48e9-8721-429f8f1ea314",
   "metadata": {},
   "outputs": [],
   "source": [
    "#w1 = Web3(Web3.HTTPProvider('https://kovan.infura.io/v3/WEB3_INFURA_API_KEY'))\n",
    "w1 = Web3(Web3.HTTPProvider(https_str))"
   ]
  },
  {
   "cell_type": "code",
   "execution_count": 43,
   "id": "472225ba-59f8-442c-8243-f523abb8212d",
   "metadata": {},
   "outputs": [],
   "source": [
    "w1.middleware_onion.inject(geth_poa_middleware, layer=0)"
   ]
  },
  {
   "cell_type": "markdown",
   "id": "d1c5371b-2615-4b11-ae13-05152692c826",
   "metadata": {},
   "source": [
    "##### note- Getting contract from Etherscan works. But not from conrtact i had stored. need to check web3.utils.toChecksumAddress"
   ]
  },
  {
   "cell_type": "markdown",
   "id": "7adda93c-5261-4c47-a0e1-91e1a92af2ef",
   "metadata": {},
   "source": [
    "## NFT Art Museum Contract Address"
   ]
  },
  {
   "cell_type": "code",
   "execution_count": 44,
   "id": "d14f759a-24d6-49ec-9a36-d41dc543c243",
   "metadata": {},
   "outputs": [],
   "source": [
    "nft_museum_address = '0x52e95CF058c086D845B6938Ccd1120C2FCF19a58'"
   ]
  },
  {
   "cell_type": "markdown",
   "id": "e23e022e-ea17-4fd1-8852-47e28cc9ad7d",
   "metadata": {},
   "source": [
    "## read NFTArtMuseum contract ABI"
   ]
  },
  {
   "cell_type": "code",
   "execution_count": 45,
   "id": "d2a913d7-99c3-44dd-9b1a-a9ccb1664dfa",
   "metadata": {},
   "outputs": [],
   "source": [
    "with open(\"NFTArtMuseumABI.txt\") as f:\n",
    "    nftArtMuseum_json = json.load(f)"
   ]
  },
  {
   "cell_type": "markdown",
   "id": "a912a5d3-437c-4e96-aa1d-07402558f17a",
   "metadata": {},
   "source": [
    "## Create Contract NFT Art Museum instance"
   ]
  },
  {
   "cell_type": "code",
   "execution_count": 46,
   "id": "3f079968-e163-4b1e-9110-bc6a2748d207",
   "metadata": {},
   "outputs": [],
   "source": [
    "contract_NFTArtMuseuminstance = w1.eth.contract(address=nft_museum_address, abi=nftArtMuseum_json)"
   ]
  },
  {
   "cell_type": "markdown",
   "id": "0c04928b-2d38-4471-9141-1f2e8644ce73",
   "metadata": {},
   "source": [
    "## Get contract Functions"
   ]
  },
  {
   "cell_type": "code",
   "execution_count": 47,
   "id": "3aed536b-0cd1-435d-92ea-ea3e394dc5fe",
   "metadata": {},
   "outputs": [
    {
     "data": {
      "text/plain": [
       "[<Function approve(address,uint256)>,\n",
       " <Function art_collection(uint256)>,\n",
       " <Function balanceOf(address)>,\n",
       " <Function baseURI()>,\n",
       " <Function buyNFT(address,uint256,uint256)>,\n",
       " <Function getApproved(uint256)>,\n",
       " <Function isApprovedForAll(address,address)>,\n",
       " <Function name()>,\n",
       " <Function newAppraisal(uint256,uint256,string)>,\n",
       " <Function ownerOf(uint256)>,\n",
       " <Function registerArtwork(address,string,string,uint256,string)>,\n",
       " <Function safeTransferFrom(address,address,uint256)>,\n",
       " <Function safeTransferFrom(address,address,uint256,bytes)>,\n",
       " <Function setApprovalForAll(address,bool)>,\n",
       " <Function supportsInterface(bytes4)>,\n",
       " <Function symbol()>,\n",
       " <Function tokenByIndex(uint256)>,\n",
       " <Function tokenOfOwnerByIndex(address,uint256)>,\n",
       " <Function tokenURI(uint256)>,\n",
       " <Function totalSupply()>,\n",
       " <Function transferFrom(address,address,uint256)>]"
      ]
     },
     "execution_count": 47,
     "metadata": {},
     "output_type": "execute_result"
    }
   ],
   "source": [
    "contract_NFTArtMuseuminstance.all_functions()"
   ]
  },
  {
   "cell_type": "markdown",
   "id": "f5a34cb7-870f-43cd-8ea0-ac5bcabd6061",
   "metadata": {},
   "source": [
    "## Check some Contract attributes"
   ]
  },
  {
   "cell_type": "code",
   "execution_count": 48,
   "id": "21d03e03-c61e-4783-8965-2fa184280822",
   "metadata": {},
   "outputs": [
    {
     "data": {
      "text/plain": [
       "'KNTG'"
      ]
     },
     "execution_count": 48,
     "metadata": {},
     "output_type": "execute_result"
    }
   ],
   "source": [
    "contract_NFTArtMuseuminstance.functions.symbol().call()"
   ]
  },
  {
   "cell_type": "code",
   "execution_count": 49,
   "id": "14a2117c-9733-4a9a-869f-8a56a38aec70",
   "metadata": {},
   "outputs": [
    {
     "data": {
      "text/plain": [
       "'Kintsugi'"
      ]
     },
     "execution_count": 49,
     "metadata": {},
     "output_type": "execute_result"
    }
   ],
   "source": [
    "contract_NFTArtMuseuminstance.functions.name().call()"
   ]
  },
  {
   "cell_type": "code",
   "execution_count": 50,
   "id": "594bd744-95ef-4e84-8687-5d0be4cd3633",
   "metadata": {},
   "outputs": [
    {
     "data": {
      "text/plain": [
       "['', '', 0]"
      ]
     },
     "execution_count": 50,
     "metadata": {},
     "output_type": "execute_result"
    }
   ],
   "source": [
    "contract_NFTArtMuseuminstance.functions.art_collection(1).call()"
   ]
  },
  {
   "cell_type": "code",
   "execution_count": 51,
   "id": "da1a52f0-e31e-4923-99a4-e3d293445ee6",
   "metadata": {},
   "outputs": [
    {
     "data": {
      "text/plain": [
       "0"
      ]
     },
     "execution_count": 51,
     "metadata": {},
     "output_type": "execute_result"
    }
   ],
   "source": [
    "contract_NFTArtMuseuminstance.functions.totalSupply().call()"
   ]
  },
  {
   "cell_type": "markdown",
   "id": "4e1303df-32a2-4542-b6be-e6a200b79eb9",
   "metadata": {},
   "source": [
    "### Nonce"
   ]
  },
  {
   "cell_type": "code",
   "execution_count": 52,
   "id": "7236581e-ae52-4f31-ad86-761e8292e86f",
   "metadata": {},
   "outputs": [],
   "source": [
    "nonce = w1.eth.get_transaction_count(account_contract_owner.address)"
   ]
  },
  {
   "cell_type": "code",
   "execution_count": 53,
   "id": "058dbd9e-9122-4f57-8cd0-ab0fc5a1c7c9",
   "metadata": {},
   "outputs": [
    {
     "data": {
      "text/plain": [
       "24"
      ]
     },
     "execution_count": 53,
     "metadata": {},
     "output_type": "execute_result"
    }
   ],
   "source": [
    "nonce"
   ]
  },
  {
   "cell_type": "code",
   "execution_count": 54,
   "id": "bc9d96ea-aa6c-47c5-a0d0-3bb8a73d751e",
   "metadata": {},
   "outputs": [],
   "source": [
    "chain_id = w1.eth.chain_id"
   ]
  },
  {
   "cell_type": "code",
   "execution_count": 55,
   "id": "4bb243b1-1b7c-4ea1-83df-dd1f388b402d",
   "metadata": {},
   "outputs": [
    {
     "data": {
      "text/plain": [
       "42"
      ]
     },
     "execution_count": 55,
     "metadata": {},
     "output_type": "execute_result"
    }
   ],
   "source": [
    "chain_id"
   ]
  },
  {
   "cell_type": "code",
   "execution_count": 56,
   "id": "db84c99b-9285-4411-8022-52eedd59985e",
   "metadata": {},
   "outputs": [],
   "source": [
    "buy_token_amount = 10"
   ]
  },
  {
   "cell_type": "code",
   "execution_count": 57,
   "id": "e040dbcd-b7e9-40bc-a00f-ec440fb228d3",
   "metadata": {},
   "outputs": [
    {
     "data": {
      "text/plain": [
       "1000000000"
      ]
     },
     "execution_count": 57,
     "metadata": {},
     "output_type": "execute_result"
    }
   ],
   "source": [
    "w1.toWei('1', 'gwei')"
   ]
  },
  {
   "cell_type": "code",
   "execution_count": 58,
   "id": "122ad4c7-5c61-432f-b147-9544f7764562",
   "metadata": {},
   "outputs": [
    {
     "data": {
      "text/plain": [
       "1000000000000000000"
      ]
     },
     "execution_count": 58,
     "metadata": {},
     "output_type": "execute_result"
    }
   ],
   "source": [
    "w1.toWei('1', 'ether')"
   ]
  },
  {
   "cell_type": "code",
   "execution_count": 61,
   "id": "9963a7e4-e520-4ab3-bb83-81d4fc6b9bbc",
   "metadata": {},
   "outputs": [],
   "source": [
    "gasEstimate = w1.eth.estimateGas({\"from\": account_buyer.address, \"to\": account_artist.address, \"value\": 10})"
   ]
  },
  {
   "cell_type": "code",
   "execution_count": 62,
   "id": "6ddff229-cb98-4a5b-86de-c6d3ead41d4c",
   "metadata": {},
   "outputs": [
    {
     "data": {
      "text/plain": [
       "21000"
      ]
     },
     "execution_count": 62,
     "metadata": {},
     "output_type": "execute_result"
    }
   ],
   "source": [
    "gasEstimate"
   ]
  },
  {
   "cell_type": "code",
   "execution_count": 63,
   "id": "b19d2799-bcaa-47b6-8383-bb4055030f45",
   "metadata": {},
   "outputs": [],
   "source": [
    "gasEstimate = 98456"
   ]
  },
  {
   "cell_type": "code",
   "execution_count": 64,
   "id": "a50fabff-ae15-4ec4-a212-ee9628174942",
   "metadata": {},
   "outputs": [
    {
     "data": {
      "text/plain": [
       "98456"
      ]
     },
     "execution_count": 64,
     "metadata": {},
     "output_type": "execute_result"
    }
   ],
   "source": [
    "gasEstimate"
   ]
  },
  {
   "cell_type": "code",
   "execution_count": 65,
   "id": "2f7bfb81-bc68-4683-a92a-fcfd4fb9203b",
   "metadata": {},
   "outputs": [],
   "source": [
    "gas_price = w1.eth.gasPrice"
   ]
  },
  {
   "cell_type": "code",
   "execution_count": 66,
   "id": "796c45b6-1825-4c09-bb7b-4406f98bae85",
   "metadata": {},
   "outputs": [
    {
     "data": {
      "text/plain": [
       "1000000007"
      ]
     },
     "execution_count": 66,
     "metadata": {},
     "output_type": "execute_result"
    }
   ],
   "source": [
    "gas_price"
   ]
  },
  {
   "cell_type": "markdown",
   "id": "4258e55b-07da-433b-8947-022dc5afb68e",
   "metadata": {},
   "source": [
    "### For Gas get latest block for better estimation"
   ]
  },
  {
   "cell_type": "code",
   "execution_count": 67,
   "id": "436a21d3-c24c-4ea6-b565-cb04cdb016a0",
   "metadata": {},
   "outputs": [
    {
     "data": {
      "text/plain": [
       "AttributeDict({'author': '0x596e8221a30bfe6e7eff67fee664a01c73ba3c56',\n",
       " 'baseFeePerGas': 7,\n",
       " 'difficulty': 340282366920938463463374607431768211454,\n",
       " 'proofOfAuthorityData': HexBytes('0xdb830303008c4f70656e457468657265756d86312e35322e31826c69'),\n",
       " 'gasLimit': 12500000,\n",
       " 'gasUsed': 321133,\n",
       " 'hash': HexBytes('0x6bed52a4b1a5e61c6f7754d790cc9ee0d136f81f0832748a21b32f010351dca4'),\n",
       " 'logsBloom': HexBytes('0x40000000000000000000000000000000000001000000400000020100200000010000004000000000000008000400601800000000002004010000004000a080000040000040000000000000080000000000020001000000000000004000000000010200008200080000000000000008000000000004000200100000120000000c0000000800000000000110010000000002000180004000000010000800000001020000000000000000010200000010000000000100100000000200080100000000000802000800800080000808000000004000002020000000000002000020100010000100000000000000000000000000000000020800000000000280000000'),\n",
       " 'miner': '0x596e8221A30bFe6e7eFF67Fee664A01C73BA3C56',\n",
       " 'number': 27251359,\n",
       " 'parentHash': HexBytes('0x3ae8d6cbb97429b15b67ed71a33cf15562c62d37d50e2cc9060a8918bdd61453'),\n",
       " 'receiptsRoot': HexBytes('0x9259aaa1055796858115934bdd4752e0b8757beb9a9ef2cd23af1572c0327b4c'),\n",
       " 'sealFields': ['0x841851970a',\n",
       "  '0xb841df48159ebd930bbe8430f57e2e6c5ca3a550c0f2e57762bfdd8f9ad223bc9708087e5160bf828d6009c17c3fac46c082bdfc3060117390b1f59845aca62bc38600'],\n",
       " 'sha3Uncles': HexBytes('0x1dcc4de8dec75d7aab85b567b6ccd41ad312451b948a7413f0a142fd40d49347'),\n",
       " 'signature': 'df48159ebd930bbe8430f57e2e6c5ca3a550c0f2e57762bfdd8f9ad223bc9708087e5160bf828d6009c17c3fac46c082bdfc3060117390b1f59845aca62bc38600',\n",
       " 'size': 969,\n",
       " 'stateRoot': HexBytes('0xd51e24c249b7676a24363fea7c8e09ce676919037a2748591bf84c89ddf95bec'),\n",
       " 'step': '408000266',\n",
       " 'timestamp': 1632001064,\n",
       " 'totalDifficulty': 9222713824542225687863457590176105666644903808,\n",
       " 'transactions': [HexBytes('0x350fe3b9394f13a59111b8901dced50d40b92308b0f75a04c74a8067788b07c2'),\n",
       "  HexBytes('0x9d349794d69e308c6373a218d55fe048c2cc0e8104ec26f8936e201b3becd6ef')],\n",
       " 'transactionsRoot': HexBytes('0x75754dfbe8ee6d42d1d385e09a5349a885959fbf315e5f745b967bba56daa9d4'),\n",
       " 'uncles': []})"
      ]
     },
     "execution_count": 67,
     "metadata": {},
     "output_type": "execute_result"
    }
   ],
   "source": [
    "w1.eth.getBlock(\"latest\")"
   ]
  },
  {
   "cell_type": "code",
   "execution_count": 68,
   "id": "7e01afff-f484-45d8-8a5c-68f4c2d5f68a",
   "metadata": {},
   "outputs": [],
   "source": [
    "dict1 = w1.eth.getBlock(\"latest\")"
   ]
  },
  {
   "cell_type": "code",
   "execution_count": 69,
   "id": "ad946c78-f73e-49af-98a1-9a4b99b60076",
   "metadata": {},
   "outputs": [
    {
     "data": {
      "text/plain": [
       "882884"
      ]
     },
     "execution_count": 69,
     "metadata": {},
     "output_type": "execute_result"
    }
   ],
   "source": [
    "dict1['gasUsed']"
   ]
  },
  {
   "cell_type": "code",
   "execution_count": 70,
   "id": "27dc9a69-cfe0-4d54-94e9-63ad7328b835",
   "metadata": {},
   "outputs": [],
   "source": [
    "gasEstimate = dict1['gasUsed']"
   ]
  },
  {
   "cell_type": "code",
   "execution_count": 71,
   "id": "a0f697fb-42b6-43ec-ae13-b795b806d7b4",
   "metadata": {},
   "outputs": [
    {
     "data": {
      "text/plain": [
       "882884"
      ]
     },
     "execution_count": 71,
     "metadata": {},
     "output_type": "execute_result"
    }
   ],
   "source": [
    "gasEstimate"
   ]
  },
  {
   "cell_type": "code",
   "execution_count": 67,
   "id": "c5258428-3df9-4ef2-85ad-5fa2b9bf1471",
   "metadata": {},
   "outputs": [],
   "source": [
    "#buy_token_txn = contract_instance_token.functions.buyTokens(address_arc_sale_token).buildTransaction({'chainId':chain_id, 'gas': 10000000, 'gasPrice': 80000000, 'nonce': nonce, 'value': 1, 'from': account_one.address})"
   ]
  },
  {
   "cell_type": "markdown",
   "id": "9ed2de34-6f6c-46b6-84d4-49b3df8f381f",
   "metadata": {},
   "source": [
    "#### below address w/o from"
   ]
  },
  {
   "cell_type": "markdown",
   "id": "10065896-263d-4629-8271-782734492e90",
   "metadata": {},
   "source": [
    "### Build transaction for Registering Art"
   ]
  },
  {
   "cell_type": "code",
   "execution_count": 73,
   "id": "12a45dc6-ca87-4e87-9f8c-8116ea850bf0",
   "metadata": {},
   "outputs": [],
   "source": [
    "register_nft_txn = contract_NFTArtMuseuminstance.functions.registerArtwork(account_artist.address,nft_name,artist_name,price,token_uri).buildTransaction({'chainId':chain_id, 'gas': gasEstimate, 'gasPrice': gas_price, 'nonce': nonce})"
   ]
  },
  {
   "cell_type": "code",
   "execution_count": 74,
   "id": "537de03e-6448-4093-924c-2355ae42dab4",
   "metadata": {},
   "outputs": [
    {
     "data": {
      "text/plain": [
       "{'value': 0,\n",
       " 'chainId': 42,\n",
       " 'gas': 882884,\n",
       " 'gasPrice': 1000000007,\n",
       " 'nonce': 24,\n",
       " 'to': '0x52e95CF058c086D845B6938Ccd1120C2FCF19a58',\n",
       " 'data': '0xe8829703000000000000000000000000ab4a0c2ed939f32de20e7118e23fddaf9739ace000000000000000000000000000000000000000000000000000000000000000a000000000000000000000000000000000000000000000000000000000000000e000000000000000000000000000000000000000000000000000000000000001f40000000000000000000000000000000000000000000000000000000000000120000000000000000000000000000000000000000000000000000000000000000950696e6b4d6f6f6f6e00000000000000000000000000000000000000000000000000000000000000000000000000000000000000000000000000000000000005436875636b0000000000000000000000000000000000000000000000000000000000000000000000000000000000000000000000000000000000000000000042697066733a2f2f6261667962656964346b753234783579626c796a366c6c6576346379666b336f6f6f76327178376f796d357363736d3735706176687333716a7575000000000000000000000000000000000000000000000000000000000000'}"
      ]
     },
     "execution_count": 74,
     "metadata": {},
     "output_type": "execute_result"
    }
   ],
   "source": [
    "register_nft_txn"
   ]
  },
  {
   "cell_type": "code",
   "execution_count": 71,
   "id": "826d7cef-0074-4342-9101-b0bfaede0941",
   "metadata": {},
   "outputs": [],
   "source": [
    "#signed_txn = w3.eth.account.sign_transaction(buy_token_txn, private_key=private_key1)"
   ]
  },
  {
   "cell_type": "markdown",
   "id": "583c3a5d-a987-45d4-949f-8761c26b049a",
   "metadata": {},
   "source": [
    "### Register Art Sign transaction w Contract owner credentials"
   ]
  },
  {
   "cell_type": "code",
   "execution_count": 76,
   "id": "4e6d15f9-ad6e-48cf-8f22-dc15f3e4c71a",
   "metadata": {},
   "outputs": [],
   "source": [
    "register_signed_txn = w1.eth.account.sign_transaction(register_nft_txn, private_key=private_key1)"
   ]
  },
  {
   "cell_type": "code",
   "execution_count": 77,
   "id": "33f31af8-5b4b-41ec-90c6-54f890dc0a3c",
   "metadata": {},
   "outputs": [
    {
     "data": {
      "text/plain": [
       "HexBytes('0xe1c59c3cb7f387f5351a258bc69d770dda7fbb71895a4190c3fd198d40393fd8')"
      ]
     },
     "execution_count": 77,
     "metadata": {},
     "output_type": "execute_result"
    }
   ],
   "source": [
    "register_signed_txn.hash"
   ]
  },
  {
   "cell_type": "markdown",
   "id": "6e7969e6-4bbd-46e0-8eac-6a96a344cfe4",
   "metadata": {},
   "source": [
    "HexBytes('0xc7ce9eb297de8ddf930c0f65a50f65eeb21f3d04c16918e82017ac27e8fc53a3')"
   ]
  },
  {
   "cell_type": "code",
   "execution_count": 78,
   "id": "36b5fee2-2c39-4345-80a7-7b89236b09e0",
   "metadata": {},
   "outputs": [
    {
     "data": {
      "text/plain": [
       "HexBytes('0xf9020a18843b9aca07830d78c49452e95cf058c086d845b6938ccd1120c2fcf19a5880b901a4e8829703000000000000000000000000ab4a0c2ed939f32de20e7118e23fddaf9739ace000000000000000000000000000000000000000000000000000000000000000a000000000000000000000000000000000000000000000000000000000000000e000000000000000000000000000000000000000000000000000000000000001f40000000000000000000000000000000000000000000000000000000000000120000000000000000000000000000000000000000000000000000000000000000950696e6b4d6f6f6f6e00000000000000000000000000000000000000000000000000000000000000000000000000000000000000000000000000000000000005436875636b0000000000000000000000000000000000000000000000000000000000000000000000000000000000000000000000000000000000000000000042697066733a2f2f6261667962656964346b753234783579626c796a366c6c6576346379666b336f6f6f76327178376f796d357363736d3735706176687333716a757500000000000000000000000000000000000000000000000000000000000078a062f678bb14c78b9e90029a30c647e36cfd6e2f1057bf1f10e23f4a7f6fb880a1a01fbd305d7455b82ac16c2f0da8fe65217d9c0c7e7df4e31e9d08d77400c1d245')"
      ]
     },
     "execution_count": 78,
     "metadata": {},
     "output_type": "execute_result"
    }
   ],
   "source": [
    "register_signed_txn.rawTransaction"
   ]
  },
  {
   "cell_type": "code",
   "execution_count": 79,
   "id": "a977639d-a7db-4968-9ad8-e3f5a9448d3e",
   "metadata": {},
   "outputs": [
    {
     "data": {
      "text/plain": [
       "44762136792355564275286611560178051713263306776098493746672231815978268786849"
      ]
     },
     "execution_count": 79,
     "metadata": {},
     "output_type": "execute_result"
    }
   ],
   "source": [
    "register_signed_txn.r"
   ]
  },
  {
   "cell_type": "code",
   "execution_count": 80,
   "id": "a4753e20-a119-49a7-80dd-eee4bb452f96",
   "metadata": {},
   "outputs": [
    {
     "data": {
      "text/plain": [
       "14355966204675547420312423971502296283355074370838986850183665810675469505093"
      ]
     },
     "execution_count": 80,
     "metadata": {},
     "output_type": "execute_result"
    }
   ],
   "source": [
    "register_signed_txn.s"
   ]
  },
  {
   "cell_type": "code",
   "execution_count": 81,
   "id": "3548b52f-2d0d-4a21-9c04-9a484924d9bc",
   "metadata": {},
   "outputs": [
    {
     "data": {
      "text/plain": [
       "120"
      ]
     },
     "execution_count": 81,
     "metadata": {},
     "output_type": "execute_result"
    }
   ],
   "source": [
    "register_signed_txn.v"
   ]
  },
  {
   "cell_type": "markdown",
   "id": "efcba4b5-18f9-4f46-abb0-45d29d5e1883",
   "metadata": {},
   "source": [
    "### Send transaction for Registering"
   ]
  },
  {
   "cell_type": "code",
   "execution_count": 82,
   "id": "d86bd8b1-3788-465c-a9b0-235615f3205e",
   "metadata": {},
   "outputs": [],
   "source": [
    "register_sent_txn = w1.eth.send_raw_transaction(register_signed_txn.rawTransaction) "
   ]
  },
  {
   "cell_type": "code",
   "execution_count": 83,
   "id": "1e5ad8e1-7590-4121-bdc0-2de0cf2b681f",
   "metadata": {},
   "outputs": [
    {
     "data": {
      "text/plain": [
       "AttributeDict({'blockHash': HexBytes('0xf7a33e5129804bc97ec70db77e54af8fc0f6b3237be517f4961cb4aff986b73b'),\n",
       " 'blockNumber': 27251468,\n",
       " 'chainId': '0x2a',\n",
       " 'condition': None,\n",
       " 'creates': None,\n",
       " 'from': '0x15D5eC9D3F67A42f1D56E205a79ae6931F50A431',\n",
       " 'gas': 882884,\n",
       " 'gasPrice': 1000000007,\n",
       " 'hash': HexBytes('0xe1c59c3cb7f387f5351a258bc69d770dda7fbb71895a4190c3fd198d40393fd8'),\n",
       " 'input': '0xe8829703000000000000000000000000ab4a0c2ed939f32de20e7118e23fddaf9739ace000000000000000000000000000000000000000000000000000000000000000a000000000000000000000000000000000000000000000000000000000000000e000000000000000000000000000000000000000000000000000000000000001f40000000000000000000000000000000000000000000000000000000000000120000000000000000000000000000000000000000000000000000000000000000950696e6b4d6f6f6f6e00000000000000000000000000000000000000000000000000000000000000000000000000000000000000000000000000000000000005436875636b0000000000000000000000000000000000000000000000000000000000000000000000000000000000000000000000000000000000000000000042697066733a2f2f6261667962656964346b753234783579626c796a366c6c6576346379666b336f6f6f76327178376f796d357363736d3735706176687333716a7575000000000000000000000000000000000000000000000000000000000000',\n",
       " 'nonce': 24,\n",
       " 'publicKey': HexBytes('0x3c9fcd2ad22987bf2dbbb7213bab8190974ba7a9bd3b0f15cdf8e64bc2f189ec8c0392db2108f269b296f2e4fa65f90777318f68d0d3146910d129a2c3d536ad'),\n",
       " 'r': HexBytes('0x62f678bb14c78b9e90029a30c647e36cfd6e2f1057bf1f10e23f4a7f6fb880a1'),\n",
       " 'raw': HexBytes('0xf9020a18843b9aca07830d78c49452e95cf058c086d845b6938ccd1120c2fcf19a5880b901a4e8829703000000000000000000000000ab4a0c2ed939f32de20e7118e23fddaf9739ace000000000000000000000000000000000000000000000000000000000000000a000000000000000000000000000000000000000000000000000000000000000e000000000000000000000000000000000000000000000000000000000000001f40000000000000000000000000000000000000000000000000000000000000120000000000000000000000000000000000000000000000000000000000000000950696e6b4d6f6f6f6e00000000000000000000000000000000000000000000000000000000000000000000000000000000000000000000000000000000000005436875636b0000000000000000000000000000000000000000000000000000000000000000000000000000000000000000000000000000000000000000000042697066733a2f2f6261667962656964346b753234783579626c796a366c6c6576346379666b336f6f6f76327178376f796d357363736d3735706176687333716a757500000000000000000000000000000000000000000000000000000000000078a062f678bb14c78b9e90029a30c647e36cfd6e2f1057bf1f10e23f4a7f6fb880a1a01fbd305d7455b82ac16c2f0da8fe65217d9c0c7e7df4e31e9d08d77400c1d245'),\n",
       " 's': HexBytes('0x1fbd305d7455b82ac16c2f0da8fe65217d9c0c7e7df4e31e9d08d77400c1d245'),\n",
       " 'standardV': 1,\n",
       " 'to': '0x52e95CF058c086D845B6938Ccd1120C2FCF19a58',\n",
       " 'transactionIndex': 2,\n",
       " 'v': 120,\n",
       " 'value': 0})"
      ]
     },
     "execution_count": 83,
     "metadata": {},
     "output_type": "execute_result"
    }
   ],
   "source": [
    "w1.eth.getTransaction(register_sent_txn)"
   ]
  },
  {
   "cell_type": "code",
   "execution_count": 84,
   "id": "719a23d1-acfa-4ff1-b451-c61f70b7a539",
   "metadata": {},
   "outputs": [
    {
     "data": {
      "text/plain": [
       "<function web3.module.retrieve_blocking_method_call_fn.<locals>.caller(*args: Any, **kwargs: Any) -> Union[~TReturn, web3._utils.filters.LogFilter]>"
      ]
     },
     "execution_count": 84,
     "metadata": {},
     "output_type": "execute_result"
    }
   ],
   "source": [
    "w1.eth.get_transaction_count"
   ]
  },
  {
   "cell_type": "markdown",
   "id": "239eeacc-5fd2-4d40-89c3-c7aa884b2934",
   "metadata": {},
   "source": [
    "### Build transaction for Approval of transfer from Owner for Buying art"
   ]
  },
  {
   "cell_type": "markdown",
   "id": "78b721a6-82d8-4e0d-a4fe-5f97e5170c26",
   "metadata": {},
   "source": [
    "### Get Nonce for Artist address"
   ]
  },
  {
   "cell_type": "code",
   "execution_count": 91,
   "id": "0e3abea6-29f0-4c72-9b08-21813cc3cac7",
   "metadata": {},
   "outputs": [],
   "source": [
    "nonce = w1.eth.get_transaction_count(account_artist.address)"
   ]
  },
  {
   "cell_type": "code",
   "execution_count": 92,
   "id": "37f502f8-c242-4a9f-9405-461690dc83a5",
   "metadata": {},
   "outputs": [
    {
     "data": {
      "text/plain": [
       "9"
      ]
     },
     "execution_count": 92,
     "metadata": {},
     "output_type": "execute_result"
    }
   ],
   "source": [
    "nonce"
   ]
  },
  {
   "cell_type": "code",
   "execution_count": 100,
   "id": "997b2e7c-8c7a-4cfa-b6af-977d0285e1f8",
   "metadata": {},
   "outputs": [],
   "source": [
    "approve_nft_txn = contract_NFTArtMuseuminstance.functions.approve(account_buyer.address,buy_token_id).buildTransaction({'chainId':chain_id, 'gas': gasEstimate, 'gasPrice': gas_price, 'nonce': nonce})"
   ]
  },
  {
   "cell_type": "code",
   "execution_count": 101,
   "id": "bd59caa7-e45b-4aaa-9995-9af8b1ba8cd4",
   "metadata": {},
   "outputs": [
    {
     "data": {
      "text/plain": [
       "{'value': 0,\n",
       " 'chainId': 42,\n",
       " 'gas': 882884,\n",
       " 'gasPrice': 1000000007,\n",
       " 'nonce': 9,\n",
       " 'to': '0x52e95CF058c086D845B6938Ccd1120C2FCF19a58',\n",
       " 'data': '0x095ea7b3000000000000000000000000bbdba51a140fcba90a41e9a5ca290b98e70871040000000000000000000000000000000000000000000000000000000000000001'}"
      ]
     },
     "execution_count": 101,
     "metadata": {},
     "output_type": "execute_result"
    }
   ],
   "source": [
    "approve_nft_txn"
   ]
  },
  {
   "cell_type": "markdown",
   "id": "0bd5bd78-3ec4-43c5-b8fb-64a9fad74f6b",
   "metadata": {},
   "source": [
    "### Approval Sign transaction w Artist credentials"
   ]
  },
  {
   "cell_type": "code",
   "execution_count": 102,
   "id": "2fc81dae-1f25-45d7-8244-effd20dfae93",
   "metadata": {},
   "outputs": [],
   "source": [
    "approve_signed_nft_txn = w1.eth.account.sign_transaction(approve_nft_txn, private_key=private_key2)"
   ]
  },
  {
   "cell_type": "code",
   "execution_count": 103,
   "id": "c90b342c-8cbc-4a90-8d56-ceec520ec562",
   "metadata": {},
   "outputs": [
    {
     "data": {
      "text/plain": [
       "HexBytes('0xde2a7bd0fae36f36ad5a834caa0e7fa511ae14e3e561211bfa0560295909f7f9')"
      ]
     },
     "execution_count": 103,
     "metadata": {},
     "output_type": "execute_result"
    }
   ],
   "source": [
    "approve_signed_nft_txn.hash"
   ]
  },
  {
   "cell_type": "code",
   "execution_count": 105,
   "id": "ab86ba71-1290-40d4-993b-8d18afdbde98",
   "metadata": {},
   "outputs": [
    {
     "data": {
      "text/plain": [
       "HexBytes('0xf8a909843b9aca07830d78c49452e95cf058c086d845b6938ccd1120c2fcf19a5880b844095ea7b3000000000000000000000000bbdba51a140fcba90a41e9a5ca290b98e7087104000000000000000000000000000000000000000000000000000000000000000178a0bb743128d1f6f45efddcf865c889ca84027e759d0b0ae82ed23d43fde0464457a0663910b2dfdda04282864c18501379bdc5853fd34d2fe13fea844fbc38384ed0')"
      ]
     },
     "execution_count": 105,
     "metadata": {},
     "output_type": "execute_result"
    }
   ],
   "source": [
    "approve_signed_nft_txn.rawTransaction"
   ]
  },
  {
   "cell_type": "code",
   "execution_count": 106,
   "id": "2c5b75ef-7c31-4478-bd88-2807cbb8ba74",
   "metadata": {},
   "outputs": [
    {
     "data": {
      "text/plain": [
       "84787796230665826809853231766486162525572822740867010307778209543475102630999"
      ]
     },
     "execution_count": 106,
     "metadata": {},
     "output_type": "execute_result"
    }
   ],
   "source": [
    "approve_signed_nft_txn.r"
   ]
  },
  {
   "cell_type": "code",
   "execution_count": 107,
   "id": "08db34f5-e5dc-4c2f-82ac-5f6c3bae62be",
   "metadata": {},
   "outputs": [
    {
     "data": {
      "text/plain": [
       "46236736088573407619156293790858565342032755463345395787680859369871706181328"
      ]
     },
     "execution_count": 107,
     "metadata": {},
     "output_type": "execute_result"
    }
   ],
   "source": [
    "approve_signed_nft_txn.s"
   ]
  },
  {
   "cell_type": "code",
   "execution_count": 108,
   "id": "dc1bdff0-9c11-4157-9cd7-9fd14d0def54",
   "metadata": {},
   "outputs": [
    {
     "data": {
      "text/plain": [
       "120"
      ]
     },
     "execution_count": 108,
     "metadata": {},
     "output_type": "execute_result"
    }
   ],
   "source": [
    "approve_signed_nft_txn.v"
   ]
  },
  {
   "cell_type": "markdown",
   "id": "0c4a01ae-dd84-4083-8783-7669c5e202e1",
   "metadata": {},
   "source": [
    "### Send transaction for Approval"
   ]
  },
  {
   "cell_type": "code",
   "execution_count": 109,
   "id": "a9eb754c-262d-469f-9552-3a0042f69487",
   "metadata": {},
   "outputs": [],
   "source": [
    "approve_sent_txn = w1.eth.send_raw_transaction(approve_signed_nft_txn.rawTransaction) "
   ]
  },
  {
   "cell_type": "code",
   "execution_count": 112,
   "id": "aaf270e9-e67a-4d40-8003-b499c50d30da",
   "metadata": {},
   "outputs": [],
   "source": [
    "approve_get_txn = w1.eth.getTransaction(approve_sent_txn)"
   ]
  },
  {
   "cell_type": "code",
   "execution_count": 113,
   "id": "f3328795-8b24-405f-839e-ed822026b451",
   "metadata": {},
   "outputs": [
    {
     "data": {
      "text/plain": [
       "AttributeDict({'blockHash': HexBytes('0x9ab04f41d5a76a4fb57ba6c679e9d6c065b15d5f1a3524953f346de771a9a60a'),\n",
       " 'blockNumber': 27251640,\n",
       " 'chainId': '0x2a',\n",
       " 'condition': None,\n",
       " 'creates': None,\n",
       " 'from': '0xAB4A0C2ed939f32DE20E7118E23fddaF9739aCe0',\n",
       " 'gas': 882884,\n",
       " 'gasPrice': 1000000007,\n",
       " 'hash': HexBytes('0xde2a7bd0fae36f36ad5a834caa0e7fa511ae14e3e561211bfa0560295909f7f9'),\n",
       " 'input': '0x095ea7b3000000000000000000000000bbdba51a140fcba90a41e9a5ca290b98e70871040000000000000000000000000000000000000000000000000000000000000001',\n",
       " 'nonce': 9,\n",
       " 'publicKey': HexBytes('0x3bf756064667cedf3eaeba7fc5bac8dcf7ea6ee377a69afc46bacddf92a16c48eb94448aaadfeb1c84301d0b0330262146b7ffc62fd76a096a4d221f9c3a3555'),\n",
       " 'r': HexBytes('0xbb743128d1f6f45efddcf865c889ca84027e759d0b0ae82ed23d43fde0464457'),\n",
       " 'raw': HexBytes('0xf8a909843b9aca07830d78c49452e95cf058c086d845b6938ccd1120c2fcf19a5880b844095ea7b3000000000000000000000000bbdba51a140fcba90a41e9a5ca290b98e7087104000000000000000000000000000000000000000000000000000000000000000178a0bb743128d1f6f45efddcf865c889ca84027e759d0b0ae82ed23d43fde0464457a0663910b2dfdda04282864c18501379bdc5853fd34d2fe13fea844fbc38384ed0'),\n",
       " 's': HexBytes('0x663910b2dfdda04282864c18501379bdc5853fd34d2fe13fea844fbc38384ed0'),\n",
       " 'standardV': 1,\n",
       " 'to': '0x52e95CF058c086D845B6938Ccd1120C2FCF19a58',\n",
       " 'transactionIndex': 2,\n",
       " 'v': 120,\n",
       " 'value': 0})"
      ]
     },
     "execution_count": 113,
     "metadata": {},
     "output_type": "execute_result"
    }
   ],
   "source": [
    "approve_get_txn"
   ]
  },
  {
   "cell_type": "markdown",
   "id": "e6862f42-c9b3-4098-899b-f24b0ab142c2",
   "metadata": {},
   "source": [
    "## validate who is the approver now that Buyer was approved"
   ]
  },
  {
   "cell_type": "code",
   "execution_count": 114,
   "id": "d965691c-b8d4-40d1-9032-bfbb8c3b6914",
   "metadata": {},
   "outputs": [
    {
     "data": {
      "text/plain": [
       "'0xbBdBA51a140fcBA90a41e9A5ca290B98e7087104'"
      ]
     },
     "execution_count": 114,
     "metadata": {},
     "output_type": "execute_result"
    }
   ],
   "source": [
    "contract_NFTArtMuseuminstance.functions.getApproved(buy_token_id).call()"
   ]
  },
  {
   "cell_type": "code",
   "execution_count": null,
   "id": "6b1fca0c-9f77-448f-95a1-9e72d1594059",
   "metadata": {},
   "outputs": [],
   "source": []
  },
  {
   "cell_type": "markdown",
   "id": "3f2535c8-42af-4693-a551-06d3a236ddbb",
   "metadata": {},
   "source": [
    "### Build transaction for Actual buy - Buyer will pay Owner and can tranfer since Buyer has approval"
   ]
  },
  {
   "cell_type": "markdown",
   "id": "9b823678-a740-4bb6-a053-3ac815cf4d89",
   "metadata": {},
   "source": [
    "### Get Nonce for Buyer address"
   ]
  },
  {
   "cell_type": "code",
   "execution_count": 115,
   "id": "90bf3a89-bfba-4ee0-b1a7-2bae6d8ec832",
   "metadata": {},
   "outputs": [],
   "source": [
    "nonce = w1.eth.get_transaction_count(account_buyer.address)"
   ]
  },
  {
   "cell_type": "code",
   "execution_count": 116,
   "id": "69b56bd9-683a-4a0e-aaa0-bfa30b94b6ce",
   "metadata": {},
   "outputs": [
    {
     "data": {
      "text/plain": [
       "8"
      ]
     },
     "execution_count": 116,
     "metadata": {},
     "output_type": "execute_result"
    }
   ],
   "source": [
    "nonce"
   ]
  },
  {
   "cell_type": "markdown",
   "id": "29af61f9-581b-4765-8deb-4ed440076535",
   "metadata": {},
   "source": [
    "### later check if Buyer address has enough balance even before the Approval"
   ]
  },
  {
   "cell_type": "code",
   "execution_count": 117,
   "id": "95460ad1-3563-4245-89e9-ec7975dc661e",
   "metadata": {},
   "outputs": [],
   "source": [
    "buy_nft_txn = contract_NFTArtMuseuminstance.functions.buyNFT(account_artist.address,price, buy_token_id).buildTransaction({'chainId':chain_id, 'gas': gasEstimate, 'gasPrice': gas_price, 'nonce': nonce, 'value': price})"
   ]
  },
  {
   "cell_type": "code",
   "execution_count": 118,
   "id": "3c4972c7-4cce-48f0-ad98-309ae0155786",
   "metadata": {},
   "outputs": [
    {
     "data": {
      "text/plain": [
       "{'chainId': 42,\n",
       " 'gas': 882884,\n",
       " 'gasPrice': 1000000007,\n",
       " 'nonce': 8,\n",
       " 'value': 500,\n",
       " 'to': '0x52e95CF058c086D845B6938Ccd1120C2FCF19a58',\n",
       " 'data': '0x53da6f01000000000000000000000000ab4a0c2ed939f32de20e7118e23fddaf9739ace000000000000000000000000000000000000000000000000000000000000001f40000000000000000000000000000000000000000000000000000000000000001'}"
      ]
     },
     "execution_count": 118,
     "metadata": {},
     "output_type": "execute_result"
    }
   ],
   "source": [
    "buy_nft_txn"
   ]
  },
  {
   "cell_type": "markdown",
   "id": "24adfef8-14bc-4a93-b11c-2e6225830432",
   "metadata": {},
   "source": [
    "### Approval Sign transaction w Buyer's credentials"
   ]
  },
  {
   "cell_type": "code",
   "execution_count": 119,
   "id": "d3a8c418-7113-4971-9ef3-3bca5729ae66",
   "metadata": {},
   "outputs": [],
   "source": [
    "buyNft_signed_txn = w1.eth.account.sign_transaction(buy_nft_txn, private_key=private_key3)"
   ]
  },
  {
   "cell_type": "code",
   "execution_count": 120,
   "id": "1b1e9426-3a30-4fc4-94b7-67a11a7e801b",
   "metadata": {},
   "outputs": [
    {
     "data": {
      "text/plain": [
       "HexBytes('0x5fce6a20d8e92441aed3b4c688392f1dd5bea579b1cbb7fc7a3e0a75fb4535bd')"
      ]
     },
     "execution_count": 120,
     "metadata": {},
     "output_type": "execute_result"
    }
   ],
   "source": [
    "buyNft_signed_txn.hash"
   ]
  },
  {
   "cell_type": "code",
   "execution_count": 121,
   "id": "fc8e963d-5210-4c8a-9d06-c1aeda9b7adb",
   "metadata": {},
   "outputs": [
    {
     "data": {
      "text/plain": [
       "HexBytes('0xf8cb08843b9aca07830d78c49452e95cf058c086d845b6938ccd1120c2fcf19a588201f4b86453da6f01000000000000000000000000ab4a0c2ed939f32de20e7118e23fddaf9739ace000000000000000000000000000000000000000000000000000000000000001f4000000000000000000000000000000000000000000000000000000000000000177a010837e0f9fe6700805ae039faf3dd8e42712e0b4b0856fb9692decd29b55e187a07c35ff18ad3a95055a6c944acf7264a57aa2bd4d9ab1846875e6b0ea241cc3a7')"
      ]
     },
     "execution_count": 121,
     "metadata": {},
     "output_type": "execute_result"
    }
   ],
   "source": [
    "buyNft_signed_txn.rawTransaction"
   ]
  },
  {
   "cell_type": "code",
   "execution_count": 122,
   "id": "23c0cf06-fc55-401d-8d1d-5f403dd8f6cc",
   "metadata": {},
   "outputs": [
    {
     "data": {
      "text/plain": [
       "7469332584096577094209012045370031797037228439596862405154436652740908540295"
      ]
     },
     "execution_count": 122,
     "metadata": {},
     "output_type": "execute_result"
    }
   ],
   "source": [
    "buyNft_signed_txn.r"
   ]
  },
  {
   "cell_type": "code",
   "execution_count": 123,
   "id": "68a497bf-ca1f-4c42-a4a7-292012831a1e",
   "metadata": {},
   "outputs": [
    {
     "data": {
      "text/plain": [
       "56182196729358563875254109025168541395298670199238572318409022002473188770727"
      ]
     },
     "execution_count": 123,
     "metadata": {},
     "output_type": "execute_result"
    }
   ],
   "source": [
    "buyNft_signed_txn.s"
   ]
  },
  {
   "cell_type": "code",
   "execution_count": 124,
   "id": "5bd8624a-5af9-4662-8d12-c25b236fe9f8",
   "metadata": {},
   "outputs": [
    {
     "data": {
      "text/plain": [
       "119"
      ]
     },
     "execution_count": 124,
     "metadata": {},
     "output_type": "execute_result"
    }
   ],
   "source": [
    "buyNft_signed_txn.v"
   ]
  },
  {
   "cell_type": "markdown",
   "id": "b8363f08-5309-43f2-933e-4fdf5f229116",
   "metadata": {},
   "source": [
    "### Send transaction for Buying NFT"
   ]
  },
  {
   "cell_type": "code",
   "execution_count": 126,
   "id": "5b3afde9-9147-44e9-8e34-d17b10e5cf04",
   "metadata": {},
   "outputs": [],
   "source": [
    "buyNft_sent_txn = w1.eth.send_raw_transaction(buyNft_signed_txn.rawTransaction) "
   ]
  },
  {
   "cell_type": "code",
   "execution_count": 127,
   "id": "610a7717-aad8-41a7-acef-bd0df5da4b0d",
   "metadata": {},
   "outputs": [],
   "source": [
    "buyNft_get_txn = w1.eth.getTransaction(buyNft_sent_txn)"
   ]
  },
  {
   "cell_type": "code",
   "execution_count": 128,
   "id": "db338d3a-c0ca-4517-a281-d9c513bdb29a",
   "metadata": {},
   "outputs": [
    {
     "data": {
      "text/plain": [
       "AttributeDict({'blockHash': HexBytes('0x9c68bd994e23b2f7b67c7963730870a55f4283a15f2b3066bbe36862e962a664'),\n",
       " 'blockNumber': 27251803,\n",
       " 'chainId': '0x2a',\n",
       " 'condition': None,\n",
       " 'creates': None,\n",
       " 'from': '0xbBdBA51a140fcBA90a41e9A5ca290B98e7087104',\n",
       " 'gas': 882884,\n",
       " 'gasPrice': 1000000007,\n",
       " 'hash': HexBytes('0x5fce6a20d8e92441aed3b4c688392f1dd5bea579b1cbb7fc7a3e0a75fb4535bd'),\n",
       " 'input': '0x53da6f01000000000000000000000000ab4a0c2ed939f32de20e7118e23fddaf9739ace000000000000000000000000000000000000000000000000000000000000001f40000000000000000000000000000000000000000000000000000000000000001',\n",
       " 'nonce': 8,\n",
       " 'publicKey': HexBytes('0x7c7b3b8de29706dd39a8d464b6ae61b4c13d3142e8752193c15fbf8178023772742415aeb5da7e122f8045e4619e795cd2ed7c5ba768d68ee4e1a589bcfc8343'),\n",
       " 'r': HexBytes('0x10837e0f9fe6700805ae039faf3dd8e42712e0b4b0856fb9692decd29b55e187'),\n",
       " 'raw': HexBytes('0xf8cb08843b9aca07830d78c49452e95cf058c086d845b6938ccd1120c2fcf19a588201f4b86453da6f01000000000000000000000000ab4a0c2ed939f32de20e7118e23fddaf9739ace000000000000000000000000000000000000000000000000000000000000001f4000000000000000000000000000000000000000000000000000000000000000177a010837e0f9fe6700805ae039faf3dd8e42712e0b4b0856fb9692decd29b55e187a07c35ff18ad3a95055a6c944acf7264a57aa2bd4d9ab1846875e6b0ea241cc3a7'),\n",
       " 's': HexBytes('0x7c35ff18ad3a95055a6c944acf7264a57aa2bd4d9ab1846875e6b0ea241cc3a7'),\n",
       " 'standardV': 0,\n",
       " 'to': '0x52e95CF058c086D845B6938Ccd1120C2FCF19a58',\n",
       " 'transactionIndex': 1,\n",
       " 'v': 119,\n",
       " 'value': 500})"
      ]
     },
     "execution_count": 128,
     "metadata": {},
     "output_type": "execute_result"
    }
   ],
   "source": [
    "buyNft_get_txn"
   ]
  },
  {
   "cell_type": "markdown",
   "id": "aeedac57-62b8-472e-b356-3dc6be78fcbe",
   "metadata": {},
   "source": [
    "## validate who is the Owner now that Buyer has paid and got token id"
   ]
  },
  {
   "cell_type": "code",
   "execution_count": 130,
   "id": "ab6ebe95-dc9e-406c-82f5-1f86c99137eb",
   "metadata": {},
   "outputs": [
    {
     "data": {
      "text/plain": [
       "'0xbBdBA51a140fcBA90a41e9A5ca290B98e7087104'"
      ]
     },
     "execution_count": 130,
     "metadata": {},
     "output_type": "execute_result"
    }
   ],
   "source": [
    "contract_NFTArtMuseuminstance.functions.ownerOf(buy_token_id).call()"
   ]
  },
  {
   "cell_type": "code",
   "execution_count": null,
   "id": "5dc8e072-48b8-4cd9-8315-33c65b266076",
   "metadata": {},
   "outputs": [],
   "source": []
  },
  {
   "cell_type": "code",
   "execution_count": null,
   "id": "5ae2b8d9-3514-41ad-828a-cd8ce95cdcf8",
   "metadata": {},
   "outputs": [],
   "source": []
  },
  {
   "cell_type": "code",
   "execution_count": null,
   "id": "76e5bade-a0ea-40a5-a9ef-18622c8ab612",
   "metadata": {},
   "outputs": [],
   "source": []
  },
  {
   "cell_type": "code",
   "execution_count": 85,
   "id": "31c88b53-a80b-4099-bf7d-0f245a45aaf0",
   "metadata": {},
   "outputs": [
    {
     "data": {
      "text/plain": [
       "'308634834130063441'"
      ]
     },
     "execution_count": 85,
     "metadata": {},
     "output_type": "execute_result"
    }
   ],
   "source": [
    "eth.get_eth_balance(address=account_artist.address)"
   ]
  },
  {
   "cell_type": "code",
   "execution_count": 86,
   "id": "ffc1f018-58a6-4454-880a-8230ad20f23e",
   "metadata": {},
   "outputs": [
    {
     "data": {
      "text/plain": [
       "'1196488508258965717'"
      ]
     },
     "execution_count": 86,
     "metadata": {},
     "output_type": "execute_result"
    }
   ],
   "source": [
    "eth.get_eth_balance(address=account_buyer.address)"
   ]
  },
  {
   "cell_type": "markdown",
   "id": "c4bb02ab-4d41-496f-af9a-bf9adfd08655",
   "metadata": {},
   "source": [
    "## Reporting / Account keeping fromo Etherscan"
   ]
  },
  {
   "cell_type": "markdown",
   "id": "b0cf7539-c0a4-4dc4-9ddc-e9b4fb3ff1e6",
   "metadata": {},
   "source": [
    "### Get transactions at the Sale Token address"
   ]
  },
  {
   "cell_type": "code",
   "execution_count": 98,
   "id": "3e859094-b278-4427-af41-fa8351cdbef0",
   "metadata": {},
   "outputs": [],
   "source": [
    "sale_token_tnxs= eth.get_normal_txs_by_address(address_arc_sale_token,0,99999999,'X')"
   ]
  },
  {
   "cell_type": "code",
   "execution_count": 99,
   "id": "5a45d45a-6e18-4737-93c8-7983de60728e",
   "metadata": {},
   "outputs": [
    {
     "data": {
      "text/plain": [
       "8"
      ]
     },
     "execution_count": 99,
     "metadata": {},
     "output_type": "execute_result"
    }
   ],
   "source": [
    "len(sale_token_tnxs)"
   ]
  },
  {
   "cell_type": "code",
   "execution_count": 100,
   "id": "c74428d1-0c42-4a75-bdaa-0bf5b122211e",
   "metadata": {},
   "outputs": [
    {
     "data": {
      "text/plain": [
       "[{'blockNumber': '27152814',\n",
       "  'timeStamp': '1631386048',\n",
       "  'hash': '0xa59d9ef5e8e9723c899359243379ea7c2645251eb09cd468ba6a1ffb97d09a80',\n",
       "  'nonce': '1',\n",
       "  'blockHash': '0x3bf5c8862518431d9ad335d942b53b60e94f324b29a1e5b53572edc2e81064d8',\n",
       "  'transactionIndex': '6',\n",
       "  'from': '0xab4a0c2ed939f32de20e7118e23fddaf9739ace0',\n",
       "  'to': '0xfa28deb173baa5e285391b94de257f364076fec3',\n",
       "  'value': '5000000',\n",
       "  'gas': '120453',\n",
       "  'gasPrice': '1000000008',\n",
       "  'isError': '0',\n",
       "  'txreceipt_status': '1',\n",
       "  'input': '0xec8ac4d8000000000000000000000000fa28deb173baa5e285391b94de257f364076fec3',\n",
       "  'contractAddress': '',\n",
       "  'cumulativeGasUsed': '1467678',\n",
       "  'gasUsed': '115465',\n",
       "  'confirmations': '16961'},\n",
       " {'blockNumber': '27153417',\n",
       "  'timeStamp': '1631389808',\n",
       "  'hash': '0x61ad2bf9985a7af416f4933a845dc22b2f98fac3b899ad4d83c0882d83aa5af3',\n",
       "  'nonce': '2',\n",
       "  'blockHash': '0x8672ea3d647047149819178c85704e22827a5ddd88dea3f71df3ecd78b3c2a53',\n",
       "  'transactionIndex': '5',\n",
       "  'from': '0xab4a0c2ed939f32de20e7118e23fddaf9739ace0',\n",
       "  'to': '0xfa28deb173baa5e285391b94de257f364076fec3',\n",
       "  'value': '15000000',\n",
       "  'gas': '86253',\n",
       "  'gasPrice': '1000000008',\n",
       "  'isError': '0',\n",
       "  'txreceipt_status': '1',\n",
       "  'input': '0xec8ac4d8000000000000000000000000ab4a0c2ed939f32de20e7118e23fddaf9739ace0',\n",
       "  'contractAddress': '',\n",
       "  'cumulativeGasUsed': '920329',\n",
       "  'gasUsed': '81265',\n",
       "  'confirmations': '16358'},\n",
       " {'blockNumber': '27166394',\n",
       "  'timeStamp': '1631471072',\n",
       "  'hash': '0xc13b28ae7134b884715ede7de3f30d27a38d6ffd4fbcda2502c51c94f500466d',\n",
       "  'nonce': '3',\n",
       "  'blockHash': '0xaa353acb3ea5c0c3527df1d9795d87173ea0ded3525741c46edc599014dec651',\n",
       "  'transactionIndex': '9',\n",
       "  'from': '0xab4a0c2ed939f32de20e7118e23fddaf9739ace0',\n",
       "  'to': '0xfa28deb173baa5e285391b94de257f364076fec3',\n",
       "  'value': '10000000000',\n",
       "  'gas': '69153',\n",
       "  'gasPrice': '1000000008',\n",
       "  'isError': '0',\n",
       "  'txreceipt_status': '1',\n",
       "  'input': '0xec8ac4d8000000000000000000000000fa28deb173baa5e285391b94de257f364076fec3',\n",
       "  'contractAddress': '',\n",
       "  'cumulativeGasUsed': '526999',\n",
       "  'gasUsed': '64165',\n",
       "  'confirmations': '3381'},\n",
       " {'blockNumber': '27166954',\n",
       "  'timeStamp': '1631474632',\n",
       "  'hash': '0x24a2b2d5a58fa381b2fccae4396ac91c9326401464fd2470d46b5f25b07824e7',\n",
       "  'nonce': '3',\n",
       "  'blockHash': '0x1a6c27257b37b4431b5a3c5d20a348b9dd5a3918a995e22f0b31bff364e029ce',\n",
       "  'transactionIndex': '7',\n",
       "  'from': '0x15d5ec9d3f67a42f1d56e205a79ae6931f50a431',\n",
       "  'to': '0xfa28deb173baa5e285391b94de257f364076fec3',\n",
       "  'value': '100000',\n",
       "  'gas': '66653',\n",
       "  'gasPrice': '1000000007',\n",
       "  'isError': '0',\n",
       "  'txreceipt_status': '1',\n",
       "  'input': '0xec8ac4d8000000000000000000000000fa28deb173baa5e285391b94de257f364076fec3',\n",
       "  'contractAddress': '',\n",
       "  'cumulativeGasUsed': '1077930',\n",
       "  'gasUsed': '61665',\n",
       "  'confirmations': '2821'},\n",
       " {'blockNumber': '27167695',\n",
       "  'timeStamp': '1631479204',\n",
       "  'hash': '0x784d1d36b01fd288a8b05cb94eabea961a081f24e7d2cb9803ea2c25e22ceb40',\n",
       "  'nonce': '4',\n",
       "  'blockHash': '0x99669f88aadc6ca4153f41a98cb431e0148733ed74ea6e64c7af2c669dcf125e',\n",
       "  'transactionIndex': '6',\n",
       "  'from': '0xab4a0c2ed939f32de20e7118e23fddaf9739ace0',\n",
       "  'to': '0xfa28deb173baa5e285391b94de257f364076fec3',\n",
       "  'value': '1000',\n",
       "  'gas': '21450',\n",
       "  'gasPrice': '5000000000',\n",
       "  'isError': '1',\n",
       "  'txreceipt_status': '0',\n",
       "  'input': '0xec8ac4d8000000000000000000000000fa28deb173baa5e285391b94de257f364076fec3',\n",
       "  'contractAddress': '',\n",
       "  'cumulativeGasUsed': '456794',\n",
       "  'gasUsed': '21450',\n",
       "  'confirmations': '2080'},\n",
       " {'blockNumber': '27167813',\n",
       "  'timeStamp': '1631479912',\n",
       "  'hash': '0x080a02bfd0a75f41755ac2a0b1650d86581aa9dbfe0c56055ca9e57c95a967f5',\n",
       "  'nonce': '5',\n",
       "  'blockHash': '0xddf3d134aaf58d1945fb4d5c00aaffd6aa087da93f70874580bd56867eaeb35d',\n",
       "  'transactionIndex': '4',\n",
       "  'from': '0xab4a0c2ed939f32de20e7118e23fddaf9739ace0',\n",
       "  'to': '0xfa28deb173baa5e285391b94de257f364076fec3',\n",
       "  'value': '1000',\n",
       "  'gas': '51450',\n",
       "  'gasPrice': '5000000000',\n",
       "  'isError': '1',\n",
       "  'txreceipt_status': '0',\n",
       "  'input': '0xec8ac4d8000000000000000000000000fa28deb173baa5e285391b94de257f364076fec3',\n",
       "  'contractAddress': '',\n",
       "  'cumulativeGasUsed': '464160',\n",
       "  'gasUsed': '51272',\n",
       "  'confirmations': '1962'},\n",
       " {'blockNumber': '27168177',\n",
       "  'timeStamp': '1631482108',\n",
       "  'hash': '0x408f80502d8142dc3e78a4f07a82018b9e04c796e6a06b9daebcc0521f1bb27b',\n",
       "  'nonce': '5',\n",
       "  'blockHash': '0x99f374853dd9b7ff891d579933dedd580c99cde7a6c55a2421c10a4989311112',\n",
       "  'transactionIndex': '1',\n",
       "  'from': '0x15d5ec9d3f67a42f1d56e205a79ae6931f50a431',\n",
       "  'to': '0xfa28deb173baa5e285391b94de257f364076fec3',\n",
       "  'value': '1000',\n",
       "  'gas': '98456',\n",
       "  'gasPrice': '5000000000',\n",
       "  'isError': '0',\n",
       "  'txreceipt_status': '1',\n",
       "  'input': '0xec8ac4d8000000000000000000000000fa28deb173baa5e285391b94de257f364076fec3',\n",
       "  'contractAddress': '',\n",
       "  'cumulativeGasUsed': '82665',\n",
       "  'gasUsed': '61665',\n",
       "  'confirmations': '1598'},\n",
       " {'blockNumber': '27169621',\n",
       "  'timeStamp': '1631490920',\n",
       "  'hash': '0x0e907cb83c7b7dd1beaca28919a6aa16e26656d167fdb00957ef9b84063a1641',\n",
       "  'nonce': '6',\n",
       "  'blockHash': '0xc629b0e573c387094203eea4a80e455d9f324866fa5717d0693b466dde6824a7',\n",
       "  'transactionIndex': '1',\n",
       "  'from': '0xab4a0c2ed939f32de20e7118e23fddaf9739ace0',\n",
       "  'to': '0xfa28deb173baa5e285391b94de257f364076fec3',\n",
       "  'value': '1000',\n",
       "  'gas': '768732',\n",
       "  'gasPrice': '5000000000',\n",
       "  'isError': '0',\n",
       "  'txreceipt_status': '1',\n",
       "  'input': '0xec8ac4d8000000000000000000000000fa28deb173baa5e285391b94de257f364076fec3',\n",
       "  'contractAddress': '',\n",
       "  'cumulativeGasUsed': '110078',\n",
       "  'gasUsed': '64165',\n",
       "  'confirmations': '154'}]"
      ]
     },
     "execution_count": 100,
     "metadata": {},
     "output_type": "execute_result"
    }
   ],
   "source": [
    "sale_token_tnxs"
   ]
  },
  {
   "cell_type": "code",
   "execution_count": null,
   "id": "c3cb8855-f096-4201-92a3-2c7870b186ab",
   "metadata": {},
   "outputs": [],
   "source": [
    "sale_token_tnxs[0]['blockNumber']"
   ]
  },
  {
   "cell_type": "code",
   "execution_count": null,
   "id": "b7ea0005-7e3d-4080-919e-35c6ee5a5be3",
   "metadata": {},
   "outputs": [],
   "source": [
    "sale_token_tnxs[1]['blockNumber']"
   ]
  },
  {
   "cell_type": "code",
   "execution_count": 81,
   "id": "45af4491-f5f4-4cba-863d-b103250e98dc",
   "metadata": {},
   "outputs": [],
   "source": [
    "int_sale_token_tnxs= eth.get_internal_txs_by_address(address_arc_sale_token,0,99999999,'X')"
   ]
  },
  {
   "cell_type": "code",
   "execution_count": 82,
   "id": "a387d6c4-17a8-4f55-b973-2c6dbc6cf254",
   "metadata": {},
   "outputs": [
    {
     "data": {
      "text/plain": [
       "14"
      ]
     },
     "execution_count": 82,
     "metadata": {},
     "output_type": "execute_result"
    }
   ],
   "source": [
    "len(int_sale_token_tnxs)"
   ]
  },
  {
   "cell_type": "code",
   "execution_count": 107,
   "id": "1d41beef-89b2-4f53-a95d-7a2a442311ca",
   "metadata": {},
   "outputs": [],
   "source": [
    "#int_sale_token_tnxs"
   ]
  },
  {
   "cell_type": "markdown",
   "id": "920bc3c0-e94d-4b59-863a-293ecb3eeae5",
   "metadata": {},
   "source": [
    "### Convert transactions to Pandas Dataframe"
   ]
  },
  {
   "cell_type": "code",
   "execution_count": 101,
   "id": "24b18353-5cbd-4c48-a3df-2068591ef914",
   "metadata": {},
   "outputs": [],
   "source": [
    "tx_df = pd.DataFrame(sale_token_tnxs)"
   ]
  },
  {
   "cell_type": "markdown",
   "id": "253236f7-e5fe-4937-9643-7ca5746b133b",
   "metadata": {},
   "source": [
    "#### convert value to int"
   ]
  },
  {
   "cell_type": "code",
   "execution_count": 117,
   "id": "8c913d67-f6d9-49c6-8152-de77275039a8",
   "metadata": {},
   "outputs": [],
   "source": [
    "tx_df['value'] = tx_df['value'].astype(int)"
   ]
  },
  {
   "cell_type": "code",
   "execution_count": 118,
   "id": "37504ac5-4076-43d9-92ba-df5598babdc9",
   "metadata": {},
   "outputs": [
    {
     "data": {
      "text/html": [
       "<div>\n",
       "<style scoped>\n",
       "    .dataframe tbody tr th:only-of-type {\n",
       "        vertical-align: middle;\n",
       "    }\n",
       "\n",
       "    .dataframe tbody tr th {\n",
       "        vertical-align: top;\n",
       "    }\n",
       "\n",
       "    .dataframe thead th {\n",
       "        text-align: right;\n",
       "    }\n",
       "</style>\n",
       "<table border=\"1\" class=\"dataframe\">\n",
       "  <thead>\n",
       "    <tr style=\"text-align: right;\">\n",
       "      <th></th>\n",
       "      <th>blockNumber</th>\n",
       "      <th>timeStamp</th>\n",
       "      <th>hash</th>\n",
       "      <th>nonce</th>\n",
       "      <th>blockHash</th>\n",
       "      <th>transactionIndex</th>\n",
       "      <th>from</th>\n",
       "      <th>to</th>\n",
       "      <th>value</th>\n",
       "      <th>gas</th>\n",
       "      <th>gasPrice</th>\n",
       "      <th>isError</th>\n",
       "      <th>txreceipt_status</th>\n",
       "      <th>input</th>\n",
       "      <th>contractAddress</th>\n",
       "      <th>cumulativeGasUsed</th>\n",
       "      <th>gasUsed</th>\n",
       "      <th>confirmations</th>\n",
       "    </tr>\n",
       "  </thead>\n",
       "  <tbody>\n",
       "    <tr>\n",
       "      <th>0</th>\n",
       "      <td>27152814</td>\n",
       "      <td>1631386048</td>\n",
       "      <td>0xa59d9ef5e8e9723c899359243379ea7c2645251eb09c...</td>\n",
       "      <td>1</td>\n",
       "      <td>0x3bf5c8862518431d9ad335d942b53b60e94f324b29a1...</td>\n",
       "      <td>6</td>\n",
       "      <td>0xab4a0c2ed939f32de20e7118e23fddaf9739ace0</td>\n",
       "      <td>0xfa28deb173baa5e285391b94de257f364076fec3</td>\n",
       "      <td>5000000</td>\n",
       "      <td>120453</td>\n",
       "      <td>1000000008</td>\n",
       "      <td>0</td>\n",
       "      <td>1</td>\n",
       "      <td>0xec8ac4d8000000000000000000000000fa28deb173ba...</td>\n",
       "      <td></td>\n",
       "      <td>1467678</td>\n",
       "      <td>115465</td>\n",
       "      <td>16961</td>\n",
       "    </tr>\n",
       "    <tr>\n",
       "      <th>1</th>\n",
       "      <td>27153417</td>\n",
       "      <td>1631389808</td>\n",
       "      <td>0x61ad2bf9985a7af416f4933a845dc22b2f98fac3b899...</td>\n",
       "      <td>2</td>\n",
       "      <td>0x8672ea3d647047149819178c85704e22827a5ddd88de...</td>\n",
       "      <td>5</td>\n",
       "      <td>0xab4a0c2ed939f32de20e7118e23fddaf9739ace0</td>\n",
       "      <td>0xfa28deb173baa5e285391b94de257f364076fec3</td>\n",
       "      <td>15000000</td>\n",
       "      <td>86253</td>\n",
       "      <td>1000000008</td>\n",
       "      <td>0</td>\n",
       "      <td>1</td>\n",
       "      <td>0xec8ac4d8000000000000000000000000ab4a0c2ed939...</td>\n",
       "      <td></td>\n",
       "      <td>920329</td>\n",
       "      <td>81265</td>\n",
       "      <td>16358</td>\n",
       "    </tr>\n",
       "    <tr>\n",
       "      <th>2</th>\n",
       "      <td>27166394</td>\n",
       "      <td>1631471072</td>\n",
       "      <td>0xc13b28ae7134b884715ede7de3f30d27a38d6ffd4fbc...</td>\n",
       "      <td>3</td>\n",
       "      <td>0xaa353acb3ea5c0c3527df1d9795d87173ea0ded35257...</td>\n",
       "      <td>9</td>\n",
       "      <td>0xab4a0c2ed939f32de20e7118e23fddaf9739ace0</td>\n",
       "      <td>0xfa28deb173baa5e285391b94de257f364076fec3</td>\n",
       "      <td>10000000000</td>\n",
       "      <td>69153</td>\n",
       "      <td>1000000008</td>\n",
       "      <td>0</td>\n",
       "      <td>1</td>\n",
       "      <td>0xec8ac4d8000000000000000000000000fa28deb173ba...</td>\n",
       "      <td></td>\n",
       "      <td>526999</td>\n",
       "      <td>64165</td>\n",
       "      <td>3381</td>\n",
       "    </tr>\n",
       "    <tr>\n",
       "      <th>3</th>\n",
       "      <td>27166954</td>\n",
       "      <td>1631474632</td>\n",
       "      <td>0x24a2b2d5a58fa381b2fccae4396ac91c9326401464fd...</td>\n",
       "      <td>3</td>\n",
       "      <td>0x1a6c27257b37b4431b5a3c5d20a348b9dd5a3918a995...</td>\n",
       "      <td>7</td>\n",
       "      <td>0x15d5ec9d3f67a42f1d56e205a79ae6931f50a431</td>\n",
       "      <td>0xfa28deb173baa5e285391b94de257f364076fec3</td>\n",
       "      <td>100000</td>\n",
       "      <td>66653</td>\n",
       "      <td>1000000007</td>\n",
       "      <td>0</td>\n",
       "      <td>1</td>\n",
       "      <td>0xec8ac4d8000000000000000000000000fa28deb173ba...</td>\n",
       "      <td></td>\n",
       "      <td>1077930</td>\n",
       "      <td>61665</td>\n",
       "      <td>2821</td>\n",
       "    </tr>\n",
       "    <tr>\n",
       "      <th>4</th>\n",
       "      <td>27167695</td>\n",
       "      <td>1631479204</td>\n",
       "      <td>0x784d1d36b01fd288a8b05cb94eabea961a081f24e7d2...</td>\n",
       "      <td>4</td>\n",
       "      <td>0x99669f88aadc6ca4153f41a98cb431e0148733ed74ea...</td>\n",
       "      <td>6</td>\n",
       "      <td>0xab4a0c2ed939f32de20e7118e23fddaf9739ace0</td>\n",
       "      <td>0xfa28deb173baa5e285391b94de257f364076fec3</td>\n",
       "      <td>1000</td>\n",
       "      <td>21450</td>\n",
       "      <td>5000000000</td>\n",
       "      <td>1</td>\n",
       "      <td>0</td>\n",
       "      <td>0xec8ac4d8000000000000000000000000fa28deb173ba...</td>\n",
       "      <td></td>\n",
       "      <td>456794</td>\n",
       "      <td>21450</td>\n",
       "      <td>2080</td>\n",
       "    </tr>\n",
       "    <tr>\n",
       "      <th>5</th>\n",
       "      <td>27167813</td>\n",
       "      <td>1631479912</td>\n",
       "      <td>0x080a02bfd0a75f41755ac2a0b1650d86581aa9dbfe0c...</td>\n",
       "      <td>5</td>\n",
       "      <td>0xddf3d134aaf58d1945fb4d5c00aaffd6aa087da93f70...</td>\n",
       "      <td>4</td>\n",
       "      <td>0xab4a0c2ed939f32de20e7118e23fddaf9739ace0</td>\n",
       "      <td>0xfa28deb173baa5e285391b94de257f364076fec3</td>\n",
       "      <td>1000</td>\n",
       "      <td>51450</td>\n",
       "      <td>5000000000</td>\n",
       "      <td>1</td>\n",
       "      <td>0</td>\n",
       "      <td>0xec8ac4d8000000000000000000000000fa28deb173ba...</td>\n",
       "      <td></td>\n",
       "      <td>464160</td>\n",
       "      <td>51272</td>\n",
       "      <td>1962</td>\n",
       "    </tr>\n",
       "    <tr>\n",
       "      <th>6</th>\n",
       "      <td>27168177</td>\n",
       "      <td>1631482108</td>\n",
       "      <td>0x408f80502d8142dc3e78a4f07a82018b9e04c796e6a0...</td>\n",
       "      <td>5</td>\n",
       "      <td>0x99f374853dd9b7ff891d579933dedd580c99cde7a6c5...</td>\n",
       "      <td>1</td>\n",
       "      <td>0x15d5ec9d3f67a42f1d56e205a79ae6931f50a431</td>\n",
       "      <td>0xfa28deb173baa5e285391b94de257f364076fec3</td>\n",
       "      <td>1000</td>\n",
       "      <td>98456</td>\n",
       "      <td>5000000000</td>\n",
       "      <td>0</td>\n",
       "      <td>1</td>\n",
       "      <td>0xec8ac4d8000000000000000000000000fa28deb173ba...</td>\n",
       "      <td></td>\n",
       "      <td>82665</td>\n",
       "      <td>61665</td>\n",
       "      <td>1598</td>\n",
       "    </tr>\n",
       "    <tr>\n",
       "      <th>7</th>\n",
       "      <td>27169621</td>\n",
       "      <td>1631490920</td>\n",
       "      <td>0x0e907cb83c7b7dd1beaca28919a6aa16e26656d167fd...</td>\n",
       "      <td>6</td>\n",
       "      <td>0xc629b0e573c387094203eea4a80e455d9f324866fa57...</td>\n",
       "      <td>1</td>\n",
       "      <td>0xab4a0c2ed939f32de20e7118e23fddaf9739ace0</td>\n",
       "      <td>0xfa28deb173baa5e285391b94de257f364076fec3</td>\n",
       "      <td>1000</td>\n",
       "      <td>768732</td>\n",
       "      <td>5000000000</td>\n",
       "      <td>0</td>\n",
       "      <td>1</td>\n",
       "      <td>0xec8ac4d8000000000000000000000000fa28deb173ba...</td>\n",
       "      <td></td>\n",
       "      <td>110078</td>\n",
       "      <td>64165</td>\n",
       "      <td>154</td>\n",
       "    </tr>\n",
       "  </tbody>\n",
       "</table>\n",
       "</div>"
      ],
      "text/plain": [
       "  blockNumber   timeStamp                                               hash  \\\n",
       "0    27152814  1631386048  0xa59d9ef5e8e9723c899359243379ea7c2645251eb09c...   \n",
       "1    27153417  1631389808  0x61ad2bf9985a7af416f4933a845dc22b2f98fac3b899...   \n",
       "2    27166394  1631471072  0xc13b28ae7134b884715ede7de3f30d27a38d6ffd4fbc...   \n",
       "3    27166954  1631474632  0x24a2b2d5a58fa381b2fccae4396ac91c9326401464fd...   \n",
       "4    27167695  1631479204  0x784d1d36b01fd288a8b05cb94eabea961a081f24e7d2...   \n",
       "5    27167813  1631479912  0x080a02bfd0a75f41755ac2a0b1650d86581aa9dbfe0c...   \n",
       "6    27168177  1631482108  0x408f80502d8142dc3e78a4f07a82018b9e04c796e6a0...   \n",
       "7    27169621  1631490920  0x0e907cb83c7b7dd1beaca28919a6aa16e26656d167fd...   \n",
       "\n",
       "  nonce                                          blockHash transactionIndex  \\\n",
       "0     1  0x3bf5c8862518431d9ad335d942b53b60e94f324b29a1...                6   \n",
       "1     2  0x8672ea3d647047149819178c85704e22827a5ddd88de...                5   \n",
       "2     3  0xaa353acb3ea5c0c3527df1d9795d87173ea0ded35257...                9   \n",
       "3     3  0x1a6c27257b37b4431b5a3c5d20a348b9dd5a3918a995...                7   \n",
       "4     4  0x99669f88aadc6ca4153f41a98cb431e0148733ed74ea...                6   \n",
       "5     5  0xddf3d134aaf58d1945fb4d5c00aaffd6aa087da93f70...                4   \n",
       "6     5  0x99f374853dd9b7ff891d579933dedd580c99cde7a6c5...                1   \n",
       "7     6  0xc629b0e573c387094203eea4a80e455d9f324866fa57...                1   \n",
       "\n",
       "                                         from  \\\n",
       "0  0xab4a0c2ed939f32de20e7118e23fddaf9739ace0   \n",
       "1  0xab4a0c2ed939f32de20e7118e23fddaf9739ace0   \n",
       "2  0xab4a0c2ed939f32de20e7118e23fddaf9739ace0   \n",
       "3  0x15d5ec9d3f67a42f1d56e205a79ae6931f50a431   \n",
       "4  0xab4a0c2ed939f32de20e7118e23fddaf9739ace0   \n",
       "5  0xab4a0c2ed939f32de20e7118e23fddaf9739ace0   \n",
       "6  0x15d5ec9d3f67a42f1d56e205a79ae6931f50a431   \n",
       "7  0xab4a0c2ed939f32de20e7118e23fddaf9739ace0   \n",
       "\n",
       "                                           to        value     gas  \\\n",
       "0  0xfa28deb173baa5e285391b94de257f364076fec3      5000000  120453   \n",
       "1  0xfa28deb173baa5e285391b94de257f364076fec3     15000000   86253   \n",
       "2  0xfa28deb173baa5e285391b94de257f364076fec3  10000000000   69153   \n",
       "3  0xfa28deb173baa5e285391b94de257f364076fec3       100000   66653   \n",
       "4  0xfa28deb173baa5e285391b94de257f364076fec3         1000   21450   \n",
       "5  0xfa28deb173baa5e285391b94de257f364076fec3         1000   51450   \n",
       "6  0xfa28deb173baa5e285391b94de257f364076fec3         1000   98456   \n",
       "7  0xfa28deb173baa5e285391b94de257f364076fec3         1000  768732   \n",
       "\n",
       "     gasPrice isError txreceipt_status  \\\n",
       "0  1000000008       0                1   \n",
       "1  1000000008       0                1   \n",
       "2  1000000008       0                1   \n",
       "3  1000000007       0                1   \n",
       "4  5000000000       1                0   \n",
       "5  5000000000       1                0   \n",
       "6  5000000000       0                1   \n",
       "7  5000000000       0                1   \n",
       "\n",
       "                                               input contractAddress  \\\n",
       "0  0xec8ac4d8000000000000000000000000fa28deb173ba...                   \n",
       "1  0xec8ac4d8000000000000000000000000ab4a0c2ed939...                   \n",
       "2  0xec8ac4d8000000000000000000000000fa28deb173ba...                   \n",
       "3  0xec8ac4d8000000000000000000000000fa28deb173ba...                   \n",
       "4  0xec8ac4d8000000000000000000000000fa28deb173ba...                   \n",
       "5  0xec8ac4d8000000000000000000000000fa28deb173ba...                   \n",
       "6  0xec8ac4d8000000000000000000000000fa28deb173ba...                   \n",
       "7  0xec8ac4d8000000000000000000000000fa28deb173ba...                   \n",
       "\n",
       "  cumulativeGasUsed gasUsed confirmations  \n",
       "0           1467678  115465         16961  \n",
       "1            920329   81265         16358  \n",
       "2            526999   64165          3381  \n",
       "3           1077930   61665          2821  \n",
       "4            456794   21450          2080  \n",
       "5            464160   51272          1962  \n",
       "6             82665   61665          1598  \n",
       "7            110078   64165           154  "
      ]
     },
     "execution_count": 118,
     "metadata": {},
     "output_type": "execute_result"
    }
   ],
   "source": [
    "tx_df"
   ]
  },
  {
   "cell_type": "code",
   "execution_count": 119,
   "id": "62a83529-040d-485b-b5b3-5d9817cd9990",
   "metadata": {},
   "outputs": [],
   "source": [
    "bought_token_df = tx_df[tx_df['isError']=='0']"
   ]
  },
  {
   "cell_type": "markdown",
   "id": "1d12bfd4-f602-4852-8475-64874c656431",
   "metadata": {},
   "source": [
    "### Add token balances from contract (should match what was bought)"
   ]
  },
  {
   "cell_type": "code",
   "execution_count": 121,
   "id": "6bb00e6c-6089-4b4c-8184-88b0ae9f5a4d",
   "metadata": {},
   "outputs": [
    {
     "data": {
      "text/plain": [
       "10020102000"
      ]
     },
     "execution_count": 121,
     "metadata": {},
     "output_type": "execute_result"
    }
   ],
   "source": [
    "bought_token_df['value'].sum()"
   ]
  },
  {
   "cell_type": "markdown",
   "id": "c7b5d16d-8c3b-491c-99b9-4d7c4dca891a",
   "metadata": {},
   "source": [
    "### Customers who bought Arcade Sale token"
   ]
  },
  {
   "cell_type": "code",
   "execution_count": 123,
   "id": "ffceb576-2007-44f3-801b-6b12e9d4aef2",
   "metadata": {},
   "outputs": [
    {
     "data": {
      "text/plain": [
       "0    0xab4a0c2ed939f32de20e7118e23fddaf9739ace0\n",
       "1    0xab4a0c2ed939f32de20e7118e23fddaf9739ace0\n",
       "2    0xab4a0c2ed939f32de20e7118e23fddaf9739ace0\n",
       "3    0x15d5ec9d3f67a42f1d56e205a79ae6931f50a431\n",
       "6    0x15d5ec9d3f67a42f1d56e205a79ae6931f50a431\n",
       "7    0xab4a0c2ed939f32de20e7118e23fddaf9739ace0\n",
       "Name: from, dtype: object"
      ]
     },
     "execution_count": 123,
     "metadata": {},
     "output_type": "execute_result"
    }
   ],
   "source": [
    "bought_token_df['from']"
   ]
  },
  {
   "cell_type": "code",
   "execution_count": null,
   "id": "b428a498-88d0-441d-8c06-f6cd2c879609",
   "metadata": {},
   "outputs": [],
   "source": [
    "int_sale_token_tnxs[2]"
   ]
  },
  {
   "cell_type": "code",
   "execution_count": null,
   "id": "c4eff31f-1023-4a7b-906a-44504b2958cc",
   "metadata": {},
   "outputs": [],
   "source": [
    "int_sale_token_tnxs"
   ]
  },
  {
   "cell_type": "code",
   "execution_count": null,
   "id": "61178b53-1dac-411c-b624-13d1a5efa78e",
   "metadata": {},
   "outputs": [],
   "source": [
    "eth.get_normal_txs_by_address(account_one.address,0,99999999,'X')"
   ]
  },
  {
   "cell_type": "markdown",
   "id": "38eb4f8a-6fed-4164-988f-393e3748a32a",
   "metadata": {},
   "source": [
    "### Links with info for code\n",
    "https://stackoverflow.com/questions/67562453/transfer-erc20-token-failed-web3-exceptions-contractlogicerror-execution-rever"
   ]
  },
  {
   "cell_type": "markdown",
   "id": "811bd019-57ed-42aa-b42e-ebfff6f2d180",
   "metadata": {},
   "source": [
    "### https://web3py.readthedocs.io/en/stable/web3.eth.account.html#sign-a-contract-transaction"
   ]
  },
  {
   "cell_type": "markdown",
   "id": "cc8f7f9b-c267-41ae-93a0-4701ca9d7a5f",
   "metadata": {
    "tags": []
   },
   "source": [
    "### https://help.tokensets.com/en/articles/4089766-how-to-push-through-a-stuck-transaction"
   ]
  },
  {
   "cell_type": "markdown",
   "id": "d17f3b6a-7c39-4bd4-954c-4544d218525f",
   "metadata": {},
   "source": [
    "### https://github.com/pcko1/etherscan-python"
   ]
  },
  {
   "cell_type": "markdown",
   "id": "9b8399bc-05fa-40b5-8700-1c9253b81cc1",
   "metadata": {},
   "source": [
    "*** Purchase NFT \n",
    "*** https://medium.com/coinmonks/building-a-non-fungible-token-sales-smart-contract-6573350d5a33"
   ]
  },
  {
   "cell_type": "markdown",
   "id": "df312690-cafd-4e0c-8cea-e07b97005ab8",
   "metadata": {},
   "source": [
    "*** great one to solve how to Buy at the same transfer the NFT too \n",
    "https://medium.com/coinmonks/guide-to-creating-your-own-nft-with-javascript-solidity-part-1-of-3-7909b80fae94"
   ]
  },
  {
   "cell_type": "code",
   "execution_count": null,
   "id": "eb12ccf1-8e7b-480a-abe1-33ba1f057eed",
   "metadata": {},
   "outputs": [],
   "source": []
  }
 ],
 "metadata": {
  "kernelspec": {
   "display_name": "smartcontracts",
   "language": "python",
   "name": "smartcontracts"
  },
  "language_info": {
   "codemirror_mode": {
    "name": "ipython",
    "version": 3
   },
   "file_extension": ".py",
   "mimetype": "text/x-python",
   "name": "python",
   "nbconvert_exporter": "python",
   "pygments_lexer": "ipython3",
   "version": "3.8.8"
  }
 },
 "nbformat": 4,
 "nbformat_minor": 5
}
