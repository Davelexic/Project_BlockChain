{
 "cells": [
  {
   "cell_type": "code",
   "execution_count": 1,
   "id": "3cb5d9ea-aa92-432a-8cf0-433c71f78d87",
   "metadata": {},
   "outputs": [],
   "source": [
    "import os\n",
    "from web3 import Web3\n",
    "from dotenv import load_dotenv\n",
    "from web3.middleware import geth_poa_middleware\n",
    "from eth_account import Account\n",
    "\n",
    "from pathlib import Path\n",
    "from getpass import getpass\n",
    "import pandas as pd\n",
    "import getpass"
   ]
  },
  {
   "cell_type": "markdown",
   "id": "3b8e1b58-a7b5-44d0-943c-feebfa3c1dd6",
   "metadata": {},
   "source": [
    "#### Use - Python API for Etherscan.io\n",
    "https://github.com/pcko1/etherscan-python"
   ]
  },
  {
   "cell_type": "code",
   "execution_count": 2,
   "id": "ae8ab56b-9a3f-49ab-8084-2c437e0c320f",
   "metadata": {},
   "outputs": [],
   "source": [
    "from etherscan import Etherscan"
   ]
  },
  {
   "cell_type": "code",
   "execution_count": 3,
   "id": "ca7b59b0-7a5f-40be-9d33-cfc23234a5e9",
   "metadata": {},
   "outputs": [],
   "source": [
    "import json"
   ]
  },
  {
   "cell_type": "code",
   "execution_count": 4,
   "id": "f866f4de-9866-4d5e-93aa-6b07ec3d3b8a",
   "metadata": {},
   "outputs": [],
   "source": [
    "def admin():\n",
    "    load_dotenv()\n",
    "    #### Infura API suite provides instant access over HTTPS and WebSockets to the Ethereum network.\n",
    "    WEB3_INFURA_API_KEY =  os.getenv(\"WEB3_INFURA_API_KEY\")\n",
    "    WEB3_INFURA_PROJECT_ID = os.getenv(\"WEB3_INFURA_PROJECT_ID\")\n",
    "    # read contract for NFT musuem\n",
    "    nft_museum_address = os.getenv(\"nft_museum_address\")\n",
    "    ### Contract NFT Art Musuem owner private key\n",
    "    museum_private_key = os.getenv(\"PRIVATE_KEY1\")\n",
    "    #### project is deployed on Kovan Ethereum testnet\n",
    "    ETHERSCAN_API = os.getenv(\"ETHERSCAN_API\")\n",
    "    eth = Etherscan(ETHERSCAN_API, net= \"KOVAN\")\n",
    "    #### Connect to infura kovan\n",
    "    https_str = f'https://kovan.infura.io/v3/{WEB3_INFURA_PROJECT_ID}'\n",
    "    w1 = Web3(Web3.HTTPProvider(https_str))\n",
    "    w1.middleware_onion.inject(geth_poa_middleware, layer=0)\n",
    "    account_contract_owner = Account.from_key(museum_private_key)\n",
    "    from web3.auto.infura import w3\n",
    "    return WEB3_INFURA_API_KEY, WEB3_INFURA_PROJECT_ID, nft_museum_address, museum_private_key, eth, w1, account_contract_owner, w3"
   ]
  },
  {
   "cell_type": "markdown",
   "id": "81c8c711-4bd4-4809-950c-0b6b43c0a157",
   "metadata": {},
   "source": [
    "## Infura API suite provides instant access over HTTPS and WebSockets to the Ethereum network."
   ]
  },
  {
   "cell_type": "markdown",
   "id": "2488ab1f-fe54-43be-ac58-5371f99b8f22",
   "metadata": {},
   "source": [
    "### Zero address - when buy token has exception to roll back the approval"
   ]
  },
  {
   "cell_type": "code",
   "execution_count": 5,
   "id": "34c2f395-6054-49b0-b9eb-6cbe3177fb66",
   "metadata": {},
   "outputs": [],
   "source": [
    "zero_address = '0x0000000000000000000000000000000000000000'"
   ]
  },
  {
   "cell_type": "markdown",
   "id": "d045bf88-9f10-4fae-813e-580cd703dd24",
   "metadata": {},
   "source": [
    "##### Buyer private key - in input now"
   ]
  },
  {
   "cell_type": "code",
   "execution_count": 6,
   "id": "0d981af6-76b1-452c-ad75-fe28d1b7b414",
   "metadata": {},
   "outputs": [],
   "source": [
    "#buyer_private_key = os.getenv(\"PRIVATE_KEY3\")      "
   ]
  },
  {
   "cell_type": "markdown",
   "id": "d1c5371b-2615-4b11-ae13-05152692c826",
   "metadata": {},
   "source": [
    "##### note- Getting contract from Etherscan works. But not from conrtact i had stored. need to check web3.utils.toChecksumAddress"
   ]
  },
  {
   "cell_type": "code",
   "execution_count": 7,
   "id": "8bc47543-60e8-4c38-b85a-fe04d37de4e9",
   "metadata": {},
   "outputs": [],
   "source": [
    "WEB3_INFURA_API_KEY, WEB3_INFURA_PROJECT_ID, nft_museum_address, museum_private_key, eth, w1, account_contract_owner, w3 = admin()"
   ]
  },
  {
   "cell_type": "markdown",
   "id": "e23e022e-ea17-4fd1-8852-47e28cc9ad7d",
   "metadata": {},
   "source": [
    "## read NFTArtMuseum contract ABI"
   ]
  },
  {
   "cell_type": "code",
   "execution_count": 8,
   "id": "d2a913d7-99c3-44dd-9b1a-a9ccb1664dfa",
   "metadata": {},
   "outputs": [],
   "source": [
    "with open(\"NFTArtMuseumABI.txt\") as f:\n",
    "    nftArtMuseum_json = json.load(f)"
   ]
  },
  {
   "cell_type": "markdown",
   "id": "a912a5d3-437c-4e96-aa1d-07402558f17a",
   "metadata": {},
   "source": [
    "## Create Contract NFT Art Museum instance"
   ]
  },
  {
   "cell_type": "code",
   "execution_count": 9,
   "id": "3f079968-e163-4b1e-9110-bc6a2748d207",
   "metadata": {},
   "outputs": [],
   "source": [
    "contract_NFTArtMuseuminstance = w1.eth.contract(address=nft_museum_address, abi=nftArtMuseum_json)"
   ]
  },
  {
   "cell_type": "markdown",
   "id": "efb87101-45cb-490b-ade7-4f4cdba57650",
   "metadata": {},
   "source": [
    "## Get contract Functions & Check some Contract attributes --- only for testing"
   ]
  },
  {
   "cell_type": "code",
   "execution_count": 10,
   "id": "e9782380-25f0-47a3-8a59-a14bc7e9667d",
   "metadata": {},
   "outputs": [],
   "source": [
    "def contract_testing(contract_NFTArtMuseuminstance):\n",
    "    l_all_funcs = contract_NFTArtMuseuminstance.all_functions()\n",
    "    #print(l_all_funcs)\n",
    "    for l_func in l_all_funcs:\n",
    "        print(l_func)\n",
    "    l_symbol = contract_NFTArtMuseuminstance.functions.symbol().call()\n",
    "    print('Symbol: ', l_symbol)\n",
    "    l_name = contract_NFTArtMuseuminstance.functions.name().call()\n",
    "    print('Name: , ',l_name)\n",
    "    l_art_collection = contract_NFTArtMuseuminstance.functions.art_collection(1).call()\n",
    "    print('Art collection: ', l_art_collection)\n",
    "    l_total_supply = contract_NFTArtMuseuminstance.functions.totalSupply().call()\n",
    "    print('Total NFT art in Museum: ', l_total_supply)\n",
    "    return l_all_funcs, l_symbol, l_name, l_art_collection, l_total_supply"
   ]
  },
  {
   "cell_type": "code",
   "execution_count": 11,
   "id": "6c4de792-92ae-427b-af37-e9936a4ef251",
   "metadata": {},
   "outputs": [],
   "source": [
    "#l_all_funcs, l_symbol, l_name, l_art_collection, l_total_supply =  contract_testing(contract_NFTArtMuseuminstance)"
   ]
  },
  {
   "cell_type": "markdown",
   "id": "0c4fde79-54c3-43f6-b213-aedc108221fe",
   "metadata": {},
   "source": [
    "## INPUT Function to Get Artist Registry info and for now maybe write to a file to store it"
   ]
  },
  {
   "cell_type": "code",
   "execution_count": 12,
   "id": "6cc74a60-7540-476a-8032-a607c95d8f6f",
   "metadata": {},
   "outputs": [],
   "source": [
    "def get_artist_registry_info():\n",
    "    error = 0\n",
    "    error_message = ''\n",
    "    nft_name = input('Enter your NFT name: ')\n",
    "    artist_name = input('Enter your name: ')\n",
    "    l_price = input('Enter your price for this NFT: ')\n",
    "    try:\n",
    "        price = int(l_price)\n",
    "    except Exception as error_message:\n",
    "        print('ERROR', error_message)\n",
    "        error = 1    \n",
    "    token_uri = input('Enter your token URI in IPFS format: ')\n",
    "    # Get Private key of Artist since we need later for Approval\n",
    "    try:\n",
    "        artist_private_key = getpass.getpass('Enter your private key: ')\n",
    "    except Exception as error_message:\n",
    "        print('ERROR', error_message)\n",
    "        error = 1\n",
    "    try:\n",
    "        account_artist = Account.from_key(artist_private_key)\n",
    "    except Exception as error_message:\n",
    "        print('ERROR', error_message)\n",
    "        error = 1\n",
    "    return nft_name, artist_name, price, token_uri, artist_private_key, account_artist, error, error_message"
   ]
  },
  {
   "cell_type": "markdown",
   "id": "a2a6edfa-6745-4158-87c3-11af882e8952",
   "metadata": {},
   "source": [
    "## INPUT Function to Get Artist private key for Approval"
   ]
  },
  {
   "cell_type": "code",
   "execution_count": 13,
   "id": "27801861-96e7-4692-8f8b-2a4364da0b4d",
   "metadata": {},
   "outputs": [],
   "source": [
    "def get_artist_private_key():\n",
    "    error = 0\n",
    "    error_message = ''\n",
    "    try:\n",
    "        artist_private_key_buy = getpass.getpass('Enter Artists private key for the token to buy: ')\n",
    "    except Exception as error_private_key:\n",
    "        print('ERROR', error_message)\n",
    "        error = 1\n",
    "    if error == 0:\n",
    "        account_artist_buy = Account.from_key(artist_private_key_buy)\n",
    "    l_price = input('Enter your price for this NFT: ')\n",
    "    try:\n",
    "        price = int(l_price)\n",
    "    except Exception as error_message:\n",
    "        print('ERROR', error_message)\n",
    "        error = 1  \n",
    "    return price, artist_private_key_buy, account_artist_buy, error, error_message"
   ]
  },
  {
   "cell_type": "markdown",
   "id": "10c14ee8-150a-46f3-b173-62b422bec7e1",
   "metadata": {},
   "source": [
    "## INPUT Function to BuyNFT"
   ]
  },
  {
   "cell_type": "code",
   "execution_count": 14,
   "id": "2d151a29-7ec4-4243-8fd4-3291b5d83ba1",
   "metadata": {},
   "outputs": [],
   "source": [
    "def get_buy_nft_input():\n",
    "    error = 0\n",
    "    error_message = ''\n",
    "    #nft_name = input('Enter your NFT name: ')\n",
    "    #artist_name = input('Enter your name: ')\n",
    "    l_token_id = input('Enter your token_id of NFT: ')\n",
    "    buy_token_id = int(l_token_id)\n",
    "    #token_uri = input('Enter your token URI in IPFS format: ')\n",
    "    # Get Private key of Artist since we need later for Approval\n",
    "    try:\n",
    "        buyer_private_key = getpass.getpass('Enter your private key: ')\n",
    "    except Exception as error_message:\n",
    "        print('ERROR', error_message)\n",
    "        error = 1\n",
    "        #print('Password entered:', artist_private_key)\n",
    "        # Get Artists Crypto Address they want to use to register and get paid\n",
    "    try:\n",
    "        account_buyer = Account.from_key(buyer_private_key)\n",
    "    except Exception as error_message:\n",
    "        print('ERROR: ',error_message)\n",
    "        error = 1\n",
    "    print('Buyer balance = ', eth.get_eth_balance(address=account_buyer.address))\n",
    "    return buy_token_id, buyer_private_key, account_buyer, error, error_message"
   ]
  },
  {
   "cell_type": "markdown",
   "id": "fb729938-4ea1-429e-88af-4d394ef465e8",
   "metadata": {},
   "source": [
    "## Later need to check contract has estimate"
   ]
  },
  {
   "cell_type": "markdown",
   "id": "99ac7431-8ae8-401c-89b6-15dda820266b",
   "metadata": {},
   "source": [
    "## Prep to Get Nonce, Chain id, Gas estimate "
   ]
  },
  {
   "cell_type": "code",
   "execution_count": 15,
   "id": "7fe153b9-bf04-4638-977a-40d7eff577a6",
   "metadata": {},
   "outputs": [],
   "source": [
    "def prep_transaction(address):\n",
    "    nonce = w1.eth.get_transaction_count(address)\n",
    "    chain_id = w1.eth.chain_id\n",
    "    # For Gas get latest block for better estimation\n",
    "    w1.eth.getBlock(\"latest\")\n",
    "    dict1 = w1.eth.getBlock(\"latest\")\n",
    "    gasEstimate = dict1['gasUsed']\n",
    "    # we sometimes see that the Latest block could return 0 too\n",
    "    if gasEstimate < 600000:\n",
    "        gasEstimate = 600000\n",
    "    gas_price = w1.eth.gasPrice\n",
    "    return chain_id, gasEstimate, gas_price, nonce"
   ]
  },
  {
   "cell_type": "markdown",
   "id": "9ed2de34-6f6c-46b6-84d4-49b3df8f381f",
   "metadata": {},
   "source": [
    "### later test exception by sending 0 gas "
   ]
  },
  {
   "cell_type": "markdown",
   "id": "10065896-263d-4629-8271-782734492e90",
   "metadata": {},
   "source": [
    "## Build transaction for Registering Art"
   ]
  },
  {
   "cell_type": "code",
   "execution_count": 16,
   "id": "af479723-9e28-4388-b205-308c8c92fbd8",
   "metadata": {},
   "outputs": [],
   "source": [
    "def execute_art_registry(museum_private_key, artist_address, nft_name, artist_name, price, token_uri, chain_id, gasEstimate, gas_price, nonce):\n",
    "    register_nft_txn = contract_NFTArtMuseuminstance.functions.registerArtwork(artist_address,nft_name,artist_name,price,token_uri).buildTransaction({'chainId':chain_id, 'gas': gasEstimate, 'gasPrice': gas_price, 'nonce': nonce})\n",
    "    ### Register Art Sign transaction w Contract owner credentials\n",
    "    error_signing_txn = ''\n",
    "    error_sign = 0\n",
    "    try:\n",
    "        register_signed_txn = w1.eth.account.sign_transaction(register_nft_txn, private_key=museum_private_key)\n",
    "    except Exception as error_signing_txn:\n",
    "        error_sign = 1\n",
    "    ### Send transaction for Registering\n",
    "    error_sending_txn = ''\n",
    "    error_send = 0\n",
    "    try:\n",
    "        register_sent_txn = w1.eth.send_raw_transaction(register_signed_txn.rawTransaction) \n",
    "    except Exception as error_sending_txn:\n",
    "        error_send = 1\n",
    "    #register_get_txn = w1.eth.getTransaction(register_sent_txn)\n",
    "    return register_nft_txn, register_signed_txn.hash, register_signed_txn.rawTransaction, register_signed_txn.r, register_signed_txn.s, register_signed_txn.v, register_sent_txn, error_sign, error_signing_txn, error_send, error_sending_txn"
   ]
  },
  {
   "cell_type": "markdown",
   "id": "14b4664c-1381-4ee9-9553-1c923738a8bb",
   "metadata": {},
   "source": [
    "## later we need to store all the Artist private keys - so when buyer says he wants to buy a token id then we know the Owners address and private key to approve and transfer. "
   ]
  },
  {
   "cell_type": "markdown",
   "id": "1b07f098-1fb0-4dcc-b7a2-4696a83abac1",
   "metadata": {},
   "source": [
    "## Function to execute approval"
   ]
  },
  {
   "cell_type": "code",
   "execution_count": 17,
   "id": "518cdf83-d391-4143-9315-fe6e9ed043eb",
   "metadata": {},
   "outputs": [],
   "source": [
    "def execute_approval(artist_private_key, buyer_address, buy_token_id, chain_id, gasEstimate, gas_price, nonce):\n",
    "    approve_signed_nft_txn_hash = ''\n",
    "    approve_signed_nft_txn_rawTransaction = ''\n",
    "    approve_signed_nft_txn_r = ''\n",
    "    approve_signed_nft_txn_s = ''\n",
    "    approve_signed_nft_txn_v = ''\n",
    "    approve_sent_txn = ''\n",
    "    approve_nft_txn = contract_NFTArtMuseuminstance.functions.approve(buyer_address,buy_token_id).buildTransaction({'chainId':chain_id, 'gas': gasEstimate, 'gasPrice': gas_price, 'nonce': nonce})\n",
    "    ### Approval Sign transaction w Artist credentials\n",
    "    error_signing_txn = ''\n",
    "    error_sign = 0\n",
    "    try:\n",
    "        approve_signed_nft_txn = w1.eth.account.sign_transaction(approve_nft_txn, private_key=artist_private_key)\n",
    "    except Exception as error_signing_txn:\n",
    "        error_sign = 1\n",
    "        print('Error in approval signed transaction: ', error_signing_txn)\n",
    "    ### Send transaction for Approval\n",
    "    if error_sign != 1:\n",
    "        approve_signed_nft_txn_hash = approve_signed_nft_txn.hash\n",
    "        approve_signed_nft_txn_rawTransaction = approve_signed_nft_txn.rawTransaction\n",
    "        approve_signed_nft_txn_r = approve_signed_nft_txn.r\n",
    "        approve_signed_nft_txn_s = approve_signed_nft_txn.s\n",
    "        approve_signed_nft_txn_v = approve_signed_nft_txn.v\n",
    "        error_sending_txn = ''\n",
    "        error_send = 0\n",
    "        try:\n",
    "            #register_sent_txn = w1.eth.send_raw_transaction(register_signed_txn.rawTransaction) \n",
    "            approve_sent_txn = w1.eth.send_raw_transaction(approve_signed_nft_txn.rawTransaction) \n",
    "        except Exception as error_sending_txn:\n",
    "            error_send = 1\n",
    "            print('Error in Approval sending: ', error_sending_txn)\n",
    "    #register_get_txn = w1.eth.getTransaction(register_sent_txn)\n",
    "    return approve_nft_txn, approve_signed_nft_txn_hash, approve_signed_nft_txn_rawTransaction, approve_signed_nft_txn_r, approve_signed_nft_txn_s, approve_signed_nft_txn_v, approve_sent_txn, error_sign, error_signing_txn, error_send, error_sending_txn"
   ]
  },
  {
   "cell_type": "markdown",
   "id": "3f2535c8-42af-4693-a551-06d3a236ddbb",
   "metadata": {},
   "source": [
    "### Function to Build transaction for Actual buy - Buyer will pay Owner and can tranfer since Buyer has approval now"
   ]
  },
  {
   "cell_type": "markdown",
   "id": "29af61f9-581b-4765-8deb-4ed440076535",
   "metadata": {},
   "source": [
    "### later check if Buyer address has enough balance even before the Approval"
   ]
  },
  {
   "cell_type": "code",
   "execution_count": 18,
   "id": "e54a5d18-3dde-4c83-bb74-95905d1620e6",
   "metadata": {},
   "outputs": [],
   "source": [
    "def execute_buyNFT(buyer_private_key, artist_address, price, buy_token_id, chain_id, gasEstimate, gas_price, nonce):\n",
    "    #execute_buyNFT(buyer_private_key, account_artist.address, price, buy_token_id, chain_id, gasEstimate, gas_price, nonce)\n",
    "    buy_nft_txn = contract_NFTArtMuseuminstance.functions.buyNFT(artist_address, price, buy_token_id).buildTransaction({'chainId':chain_id, 'gas': gasEstimate, 'gasPrice': gas_price, 'nonce': nonce, 'value': price})\n",
    "    ### Sign transaction w Buyer's credentials\n",
    "    error_signing_txn = ''\n",
    "    error_sign = 0\n",
    "    try:\n",
    "        signed_buy_nft_txn = w1.eth.account.sign_transaction(buy_nft_txn, private_key=buyer_private_key)\n",
    "    except Exception as error_signing_txn:\n",
    "        error_sign = 1\n",
    "    ### Send transaction for Approval\n",
    "    error_sending_txn = ''\n",
    "    error_send = 0\n",
    "    try:\n",
    "        #register_sent_txn = w1.eth.send_raw_transaction(register_signed_txn.rawTransaction) \n",
    "        buy_nft_sent_txn = w1.eth.send_raw_transaction(signed_buy_nft_txn.rawTransaction) \n",
    "    except Exception as error_sending_txn:\n",
    "        error_send = 1\n",
    "    #register_get_txn = w1.eth.getTransaction(register_sent_txn)\n",
    "    return buy_nft_txn, signed_buy_nft_txn.hash, signed_buy_nft_txn.rawTransaction, signed_buy_nft_txn.r, signed_buy_nft_txn.s, signed_buy_nft_txn.v, buy_nft_sent_txn, error_sign, error_signing_txn, error_send, error_sending_txn"
   ]
  },
  {
   "cell_type": "code",
   "execution_count": 19,
   "id": "97bfc7cb-cef1-4a2b-bff0-b46d464d63e0",
   "metadata": {},
   "outputs": [],
   "source": [
    "def approve_buy_nft(account_artist, artist_private_key, account_buyer, buyer_private_key, price, buy_token_id):\n",
    "    #approve_buy_nft(account_artist_buy, artist_private_key_buy, account_buyer, buyer_private_key, price, buy_token_id)\n",
    "    #approve_buy_nft(account_artist_buy, artist_private_key_buy, account_buyer, buyer_private_key, price, buy_token_id)\n",
    "    error_sign = 0\n",
    "    error_send = 0\n",
    "    error_signing_txn = ''\n",
    "    error_sending_txn = ''\n",
    "    ##### First approve\n",
    "    # Get Nonce, Chain id, Gas estimate for Approval\n",
    "    chain_id, gasEstimate, gas_price, nonce = prep_transaction(account_artist.address)\n",
    "    # call Approval\n",
    "    approve_nft_txn, approve_signed_nft_txn_hash, approve_signed_nft_txn_rawTransaction, approve_signed_nft_txn_r, approve_signed_nft_txn_s, approve_signed_nft_txn_v, approve_sent_txn, error_sign, error_signing_txn, error_send, error_sending_txn = execute_approval(artist_private_key, account_buyer.address, buy_token_id, chain_id, gasEstimate, gas_price, nonce)\n",
    "    if error_sign == 1:\n",
    "        print('Owner approval - Error signing transaction: ', error_signing_txn)\n",
    "        return error_sign, error_send, error_signing_txn, error_sending_txn\n",
    "    if error_send == 1:\n",
    "        print('Owner approval - Error signing transaction: ', error_sending_txn)\n",
    "        return error_sign, error_send, error_signing_txn, error_sending_txn\n",
    "    if error_sign != 1 and error_send != 1:\n",
    "        # Approval Succeeded go forward to buy NFT and transfer funds\n",
    "        # Get Nonce, Chain id, Gas estimate for Buyer address\n",
    "        chain_id, gasEstimate, gas_price, nonce = prep_transaction(account_buyer.address)\n",
    "        # call BuyNFT\n",
    "        buy_nft_txn, signed_buy_nft_txn_hash, signed_buy_nft_txn_rawTransaction, signed_buy_nft_txn_r, signed_buy_nft_txn_s, signed_buy_nft_txn_v, buy_nft_sent_txn, error_sign, error_signing_txn, error_send, error_sending_txn = execute_buyNFT(buyer_private_key, account_artist.address, price, buy_token_id, chain_id, gasEstimate, gas_price, nonce)\n",
    "        if error_sign == 1:\n",
    "            print('BuyNFT - Error signing transaction: ', error_signing_txn)\n",
    "        if error_send == 1:\n",
    "            print('BuyNFT - Error signing transaction: ', error_sending_txn)\n",
    "    return error_sign, error_send, error_signing_txn, error_sending_txn"
   ]
  },
  {
   "cell_type": "code",
   "execution_count": 20,
   "id": "5ae2b8d9-3514-41ad-828a-cd8ce95cdcf8",
   "metadata": {},
   "outputs": [],
   "source": [
    "def main_routine():\n",
    "    # set up admin stuff.\n",
    "    #WEB3_INFURA_API_KEY, WEB3_INFURA_PROJECT_ID, museum_private_key, eth, w1, account_contract_owner, w3 = admin()\n",
    "    success = 1\n",
    "    i=1\n",
    "    museum_action = 0\n",
    "    while i == 1:\n",
    "        l_museum_action = input('Enter 1 to Register Art, 2 to Buy Art, 3 to get ContractInfo, 4 to exit: ')\n",
    "        try: \n",
    "            museum_action = int(l_museum_action)\n",
    "            break\n",
    "        except Exception as error_action:\n",
    "            print('Please only enter 1, 2, 3 or 4 ')\n",
    "            return error_action\n",
    "    if museum_action == 1:\n",
    "        # get Artist NFT info to register\n",
    "        # Call to execute Art Registry with error handling\n",
    "        nft_name, artist_name, price, token_uri, artist_private_key, account_artist, error, error_message = get_artist_registry_info()\n",
    "        if error == 1:\n",
    "            print(error_message)\n",
    "            return error_message\n",
    "        ## Get Nonce, Chain id, Gas estimate for Art Registry\n",
    "        chain_id, gasEstimate, gas_price, nonce = prep_transaction(account_contract_owner.address)\n",
    "        register_nft_txn, register_signed_txn_hash, register_signed_txn_rawTransaction, register_signed_txn_r, register_signed_txn_s, register_signed_txn_v, register_sent_txn, error_sign, error_signing_txn, error_send, error_sending_txn = execute_art_registry(museum_private_key, account_artist.address, nft_name, artist_name, price, token_uri, chain_id, gasEstimate, gas_price, nonce)\n",
    "        if error_sign == 1:\n",
    "            print('NFT Art Register - Error signing transaction: ', error_signing_txn)\n",
    "            return error_signing_txn\n",
    "        if error_send == 1:\n",
    "            print('NFT Art Register - Error signing transaction: ', error_sending_txn)\n",
    "            return error_sending_txn\n",
    "        if error_sign != 1 and error_send != 1:\n",
    "            print('Art registry successful!! congrats.')\n",
    "            print('register_nft_txn = ', register_nft_txn)\n",
    "            print('register_signed_txn_hash = ', register_signed_txn_hash)\n",
    "            print('register_signed_txn_rawTransaction = ', register_signed_txn_rawTransaction)\n",
    "            print('register_signed_txn_r = ', register_signed_txn_r)\n",
    "            print('register_signed_txn_s = ', register_signed_txn_s)\n",
    "            print('register_signed_txn_v = ', register_signed_txn_v)\n",
    "            print('register_sent_txn = ', register_sent_txn)\n",
    "            #register_get_txn = w1.eth.getTransaction(register_sent_txn)\n",
    "            #print('register_get_txn = ', register_get_txn)\n",
    "            return success, \"Succcess\"\n",
    "    if museum_action == 2:\n",
    "        # get Buyer info first\n",
    "        buy_token_id, buyer_private_key, account_buyer, error, error_message = get_buy_nft_input()\n",
    "        print('Buy Token Id: ', buy_token_id)\n",
    "        print('Buyer account address', account_buyer.address)\n",
    "        print('Buyer balance = ', eth.get_eth_balance(address=account_buyer.address))\n",
    "        if error != 1:\n",
    "            # go ahead and get Artist's private key needed for Approval\n",
    "            ## this later need to be Automated to get it automatically.\n",
    "            price, artist_private_key_buy, account_artist_buy, error, error_message = get_artist_private_key()\n",
    "            if error != 1:\n",
    "                # go on to get approval & Buy/transfer now that we have all the info\n",
    "                ##### First approve\n",
    "                # Get Nonce, Chain id, Gas estimate for Approval\n",
    "                error_sign = 0\n",
    "                error_signing_txn = ''\n",
    "                error_send = 0\n",
    "                error_sending_txn = ''\n",
    "                chain_id, gasEstimate, gas_price, nonce = prep_transaction(account_artist_buy.address)\n",
    "                print('****************** Approval *************')\n",
    "                print('Chain id = ', chain_id)\n",
    "                print('gasEstimate = ', gasEstimate)\n",
    "                print('gasPrice = ', gas_price)\n",
    "                print('Nonce = ', nonce)\n",
    "                # call Approval\n",
    "                approve_nft_txn, approve_signed_nft_txn_hash, approve_signed_nft_txn_rawTransaction, approve_signed_nft_txn_r, approve_signed_nft_txn_s, approve_signed_nft_txn_v, approve_sent_txn, error_sign, error_signing_txn, error_send, error_sending_txn = execute_approval(artist_private_key_buy, account_buyer.address, buy_token_id, chain_id, gasEstimate, gas_price, nonce)\n",
    "                if error_sign == 1:\n",
    "                    print('Owner approval - Error signing transaction: ', error_signing_txn)\n",
    "                    return error_sign, error_signing_txn\n",
    "                if error_send == 1:\n",
    "                    print('Owner approval - Error signing transaction: ', error_sending_txn)\n",
    "                    return error_send, error_sending_txn\n",
    "                if error_sign != 1 and error_send != 1:\n",
    "                    print('Approval successful.')\n",
    "                    print('approve_nft_txn = ', approve_nft_txn)\n",
    "                    print('approve_signed_nft_txn_hash = ', approve_signed_nft_txn_hash)\n",
    "                    print('approve_signed_nft_txn_rawTransaction = ', approve_signed_nft_txn_rawTransaction)\n",
    "                    print('approve_signed_nft_txn_r = ', approve_signed_nft_txn_r)\n",
    "                    print('approve_signed_nft_txn_s = ', approve_signed_nft_txn_s)\n",
    "                    print('approve_signed_nft_txn_v = ', approve_signed_nft_txn_v)\n",
    "                    print('approve_sent_txn = ', approve_sent_txn)\n",
    "                    #approve_get_txn = w1.eth.getTransaction(approve_sent_txn)\n",
    "                    #print('approve_get_txn = ', approve_get_txn)\n",
    "                    # Approval is success now execute the Buy and Trasnfer function.\n",
    "                    chain_id, gasEstimate, gas_price, nonce = prep_transaction(account_buyer.address)\n",
    "                    print('****************** Buy/Transfer *************')\n",
    "                    print('Chain id = ', chain_id)\n",
    "                    print('gasEstimate = ', gasEstimate)\n",
    "                    print('gasPrice = ', gas_price)\n",
    "                    print('Nonce = ', nonce)\n",
    "                    # call BuyNFT\n",
    "                    buy_nft_txn, signed_buy_nft_txn_hash, signed_buy_nft_txn_rawTransaction, signed_buy_nft_txn_r, signed_buy_nft_txn_s, signed_buy_nft_txn_v, buy_nft_sent_txn, error_sign, error_signing_txn, error_send, error_sending_txn = execute_buyNFT(buyer_private_key, account_artist_buy.address, price, buy_token_id, chain_id, gasEstimate, gas_price, nonce)\n",
    "                    if error_sign == 1:\n",
    "                        print('BuyNFT - Error signing transaction: ', error_signing_txn)\n",
    "                        return error_sign, error_signing_txn\n",
    "                    if error_send == 1:\n",
    "                        print('BuyNFT - Error signing transaction: ', error_sending_txn)\n",
    "                        return error_send, error_sending_txn\n",
    "                    if error_sign != 1 and error_send != 1:\n",
    "                        print('Buy-Trasnfer successful.')\n",
    "                        print('buy_nft_txn = ', buy_nft_txn)\n",
    "                        print('signed_buy_nft_txn_hash = ', signed_buy_nft_txn_hash)\n",
    "                        print('signed_buy_nft_txn_rawTransaction = ', signed_buy_nft_txn_rawTransaction)\n",
    "                        print('signed_buy_nft_txn_r = ', signed_buy_nft_txn_r)\n",
    "                        print('signed_buy_nft_txn_s = ', signed_buy_nft_txn_s)\n",
    "                        print('signed_buy_nft_txn_v = ', signed_buy_nft_txn_v)\n",
    "                        print('buy_nft_sent_txn = ', buy_nft_sent_txn)\n",
    "                        #buy_nft_get_txn = w1.eth.getTransaction(buy_nft_sent_txn)\n",
    "                        #print('buy_nft_get_txn = ', buy_nft_get_txn)\n",
    "                        return 1, 'Approve and Buy/Trasfer success'\n",
    "#                 error_sign, error_send, error_signing_txn, error_sending_txn = approve_buy_nft(account_artist_buy, artist_private_key_buy, account_buyer, buyer_private_key, price, buy_token_id)\n",
    "#                 if error_sign != 1 and error_send != 1:\n",
    "#                     print('Successfully executed - Approve/BuyNFY')\n",
    "#                     # Buy NFT and transfer\n",
    "#                     #buy_nft_txn, signed_buy_nft_txn_hash, signed_buy_nft_txn_rawTransaction, signed_buy_nft_txn_r, signed_buy_nft_txn_s, signed_buy_nft_txn_v, buy_nft_sent_txn, error_sign, error_signing_txn, error_send, error_sending_txn = execute_buyNFT(buyer_private_key, account_artist_buy.address, price, buy_token_id, chain_id, gasEstimate, gas_price, nonce)\n",
    "#                     #if error_sign == 1:\n",
    "#                         # need to later reset Approval with zero address\n",
    "#                     #    return error_sign, error_signing_txn\n",
    "#                     #elif error_send == 1:\n",
    "#                     #    # need to later reset Approval with zero address\n",
    "#                     #    return error_send, error_sending_txn\n",
    "#                     #else:\n",
    "#                     return success, \"Success\"\n",
    "                \n",
    "            else:\n",
    "                return error, error_message\n",
    "        else:\n",
    "            return error, error_message\n",
    "    if museum_action == 4:\n",
    "        return success, \"no action selected by user\"\n",
    "            "
   ]
  },
  {
   "cell_type": "code",
   "execution_count": 21,
   "id": "e2f48d59-14f7-4275-b40b-15ffb921580f",
   "metadata": {},
   "outputs": [],
   "source": [
    "def main():\n",
    "    result, result_message = main_routine()\n",
    "    print('result and message: ', result, result_message)"
   ]
  },
  {
   "cell_type": "code",
   "execution_count": 22,
   "id": "294eb133-40f9-4469-ad95-3831e5e8914c",
   "metadata": {},
   "outputs": [
    {
     "name": "stdin",
     "output_type": "stream",
     "text": [
      "Enter 1 to Register Art, 2 to Buy Art, 3 to get ContractInfo, 4 to exit:  2\n",
      "Enter your token_id of NFT:  6\n",
      "Enter your private key:  ································································\n"
     ]
    },
    {
     "name": "stdout",
     "output_type": "stream",
     "text": [
      "Buyer balance =  1395141937258162660\n",
      "Buy Token Id:  6\n",
      "Buyer account address 0xbBdBA51a140fcBA90a41e9A5ca290B98e7087104\n",
      "Buyer balance =  1395141937258162660\n"
     ]
    },
    {
     "name": "stdin",
     "output_type": "stream",
     "text": [
      "Enter Artists private key for the token to buy:  ································································\n",
      "Enter your price for this NFT:  40000\n"
     ]
    },
    {
     "name": "stdout",
     "output_type": "stream",
     "text": [
      "****************** Approval *************\n",
      "Chain id =  42\n",
      "gasEstimate =  600000\n",
      "gasPrice =  5000000000\n",
      "Nonce =  11\n",
      "Approval successful.\n",
      "approve_nft_txn =  {'value': 0, 'chainId': 42, 'gas': 600000, 'gasPrice': 5000000000, 'nonce': 11, 'to': '0x52e95CF058c086D845B6938Ccd1120C2FCF19a58', 'data': '0x095ea7b3000000000000000000000000bbdba51a140fcba90a41e9a5ca290b98e70871040000000000000000000000000000000000000000000000000000000000000006'}\n",
      "approve_signed_nft_txn_hash =  b'\\x90\\x86\\xde)\\x10i\\xee\\xa5@\\xca\\xceY\\xaec\\x1c<\\x80\\xe0\\xc05;\\xcf\\xbdS\\xb4B\\x16\\xb9>$\\xa6:'\n",
      "approve_signed_nft_txn_rawTransaction =  b\"\\xf8\\xaa\\x0b\\x85\\x01*\\x05\\xf2\\x00\\x83\\t'\\xc0\\x94R\\xe9\\\\\\xf0X\\xc0\\x86\\xd8E\\xb6\\x93\\x8c\\xcd\\x11 \\xc2\\xfc\\xf1\\x9aX\\x80\\xb8D\\t^\\xa7\\xb3\\x00\\x00\\x00\\x00\\x00\\x00\\x00\\x00\\x00\\x00\\x00\\x00\\xbb\\xdb\\xa5\\x1a\\x14\\x0f\\xcb\\xa9\\nA\\xe9\\xa5\\xca)\\x0b\\x98\\xe7\\x08q\\x04\\x00\\x00\\x00\\x00\\x00\\x00\\x00\\x00\\x00\\x00\\x00\\x00\\x00\\x00\\x00\\x00\\x00\\x00\\x00\\x00\\x00\\x00\\x00\\x00\\x00\\x00\\x00\\x00\\x00\\x00\\x00\\x06w\\xa0,\\x10I\\xe3\\xd4\\xa4~\\xb4\\xf0\\xbbz\\xfc\\x18\\xe9\\xc2\\x9c\\x1c\\xfe%(\\xe3\\xf8\\xbe\\x8b\\x1e\\x98:\\xfezf\\xb8\\xef\\xa0 \\x16-P<\\xac\\x92\\x81\\x96SB\\x81\\x9a\\xad\\xe5n\\x18\\x9f\\xfc\\xba\\xea\\xa92\\\\\\xed\\xc0l8&\\x08?\\x08\"\n",
      "approve_signed_nft_txn_r =  19930544860485259522610233897653385041249604645372643194820473003716808980719\n",
      "approve_signed_nft_txn_s =  14513194531860717453083616549271948324813713534297626441338452559124645822216\n",
      "approve_signed_nft_txn_v =  119\n",
      "approve_sent_txn =  b'\\x90\\x86\\xde)\\x10i\\xee\\xa5@\\xca\\xceY\\xaec\\x1c<\\x80\\xe0\\xc05;\\xcf\\xbdS\\xb4B\\x16\\xb9>$\\xa6:'\n",
      "approve_get_txn =  AttributeDict({'blockHash': None, 'blockNumber': None, 'chainId': '0x2a', 'condition': None, 'creates': None, 'from': '0xAB4A0C2ed939f32DE20E7118E23fddaF9739aCe0', 'gas': 600000, 'gasPrice': 5000000000, 'hash': HexBytes('0x9086de291069eea540cace59ae631c3c80e0c0353bcfbd53b44216b93e24a63a'), 'input': '0x095ea7b3000000000000000000000000bbdba51a140fcba90a41e9a5ca290b98e70871040000000000000000000000000000000000000000000000000000000000000006', 'nonce': 11, 'publicKey': HexBytes('0x3bf756064667cedf3eaeba7fc5bac8dcf7ea6ee377a69afc46bacddf92a16c48eb94448aaadfeb1c84301d0b0330262146b7ffc62fd76a096a4d221f9c3a3555'), 'r': HexBytes('0x2c1049e3d4a47eb4f0bb7afc18e9c29c1cfe2528e3f8be8b1e983afe7a66b8ef'), 'raw': HexBytes('0xf8aa0b85012a05f200830927c09452e95cf058c086d845b6938ccd1120c2fcf19a5880b844095ea7b3000000000000000000000000bbdba51a140fcba90a41e9a5ca290b98e7087104000000000000000000000000000000000000000000000000000000000000000677a02c1049e3d4a47eb4f0bb7afc18e9c29c1cfe2528e3f8be8b1e983afe7a66b8efa020162d503cac9281965342819aade56e189ffcbaeaa9325cedc06c3826083f08'), 's': HexBytes('0x20162d503cac9281965342819aade56e189ffcbaeaa9325cedc06c3826083f08'), 'standardV': 0, 'to': '0x52e95CF058c086D845B6938Ccd1120C2FCF19a58', 'transactionIndex': None, 'v': 119, 'value': 0})\n",
      "****************** Buy/Transfer *************\n",
      "Chain id =  42\n",
      "gasEstimate =  600000\n",
      "gasPrice =  5000000000\n",
      "Nonce =  17\n",
      "Buy-Trasnfer successful.\n",
      "buy_nft_txn =  {'chainId': 42, 'gas': 600000, 'gasPrice': 5000000000, 'nonce': 17, 'value': 40000, 'to': '0x52e95CF058c086D845B6938Ccd1120C2FCF19a58', 'data': '0x53da6f01000000000000000000000000ab4a0c2ed939f32de20e7118e23fddaf9739ace00000000000000000000000000000000000000000000000000000000000009c400000000000000000000000000000000000000000000000000000000000000006'}\n",
      "signed_buy_nft_txn_hash =  b'\\xe6\\xc7\\xb9\\x8ca\\x9a\\x12\\xc8l\\xd5:\\x99<\\xe7\\x11\\xa9\\xbf\\xed\\x13\\xab\\x93\\x91`\\xc9\\x11\\x85\\tBY#3\\x14'\n",
      "signed_buy_nft_txn_rawTransaction =  b'\\xf8\\xcc\\x11\\x85\\x01*\\x05\\xf2\\x00\\x83\\t\\'\\xc0\\x94R\\xe9\\\\\\xf0X\\xc0\\x86\\xd8E\\xb6\\x93\\x8c\\xcd\\x11 \\xc2\\xfc\\xf1\\x9aX\\x82\\x9c@\\xb8dS\\xdao\\x01\\x00\\x00\\x00\\x00\\x00\\x00\\x00\\x00\\x00\\x00\\x00\\x00\\xabJ\\x0c.\\xd99\\xf3-\\xe2\\x0eq\\x18\\xe2?\\xdd\\xaf\\x979\\xac\\xe0\\x00\\x00\\x00\\x00\\x00\\x00\\x00\\x00\\x00\\x00\\x00\\x00\\x00\\x00\\x00\\x00\\x00\\x00\\x00\\x00\\x00\\x00\\x00\\x00\\x00\\x00\\x00\\x00\\x00\\x00\\x9c@\\x00\\x00\\x00\\x00\\x00\\x00\\x00\\x00\\x00\\x00\\x00\\x00\\x00\\x00\\x00\\x00\\x00\\x00\\x00\\x00\\x00\\x00\\x00\\x00\\x00\\x00\\x00\\x00\\x00\\x00\\x00\\x06x\\xa0c\\xc2\\xc0\\xda.\\x16\\xb2\\n\\x05\\x87\\x1cr\\x08\\xb1x\\x80\\xba\\x90\\xa0q\\xeb\\xe5\\xf6K\"t\\xe4j,\\x83\\xfd\\x86\\xa0\\x1c*E\\x9cf9%\\x17keN\\x8f\\xd9\\xa8)\\xc0\\xe5c\\xbaL\\x82\\xeej2m\\x98\\xfa\\x04\\xaa\\xec\\x1d\\xf8'\n",
      "signed_buy_nft_txn_r =  45123071357731038025682247677079314672823166937917334829478032655161909050758\n",
      "signed_buy_nft_txn_s =  12739447774067121434545689309953640114762602978249089685056990639482014014968\n",
      "signed_buy_nft_txn_v =  120\n",
      "buy_nft_sent_txn =  b'\\xe6\\xc7\\xb9\\x8ca\\x9a\\x12\\xc8l\\xd5:\\x99<\\xe7\\x11\\xa9\\xbf\\xed\\x13\\xab\\x93\\x91`\\xc9\\x11\\x85\\tBY#3\\x14'\n"
     ]
    },
    {
     "ename": "TransactionNotFound",
     "evalue": "Transaction with hash: '0xe6c7b98c619a12c86cd53a993ce711a9bfed13ab939160c91185094259233314' not found.",
     "output_type": "error",
     "traceback": [
      "\u001b[0;31m---------------------------------------------------------------------------\u001b[0m",
      "\u001b[0;31mTransactionNotFound\u001b[0m                       Traceback (most recent call last)",
      "\u001b[0;32m<ipython-input-22-972361fa1b80>\u001b[0m in \u001b[0;36m<module>\u001b[0;34m\u001b[0m\n\u001b[1;32m      1\u001b[0m \u001b[0;32mif\u001b[0m \u001b[0m__name__\u001b[0m \u001b[0;34m==\u001b[0m \u001b[0;34m\"__main__\"\u001b[0m\u001b[0;34m:\u001b[0m\u001b[0;34m\u001b[0m\u001b[0;34m\u001b[0m\u001b[0m\n\u001b[0;32m----> 2\u001b[0;31m     \u001b[0mmain\u001b[0m\u001b[0;34m(\u001b[0m\u001b[0;34m)\u001b[0m\u001b[0;34m\u001b[0m\u001b[0;34m\u001b[0m\u001b[0m\n\u001b[0m",
      "\u001b[0;32m<ipython-input-21-03cb5045ac52>\u001b[0m in \u001b[0;36mmain\u001b[0;34m()\u001b[0m\n\u001b[1;32m      1\u001b[0m \u001b[0;32mdef\u001b[0m \u001b[0mmain\u001b[0m\u001b[0;34m(\u001b[0m\u001b[0;34m)\u001b[0m\u001b[0;34m:\u001b[0m\u001b[0;34m\u001b[0m\u001b[0;34m\u001b[0m\u001b[0m\n\u001b[0;32m----> 2\u001b[0;31m     \u001b[0mresult\u001b[0m\u001b[0;34m,\u001b[0m \u001b[0mresult_message\u001b[0m \u001b[0;34m=\u001b[0m \u001b[0mmain_routine\u001b[0m\u001b[0;34m(\u001b[0m\u001b[0;34m)\u001b[0m\u001b[0;34m\u001b[0m\u001b[0;34m\u001b[0m\u001b[0m\n\u001b[0m\u001b[1;32m      3\u001b[0m     \u001b[0mprint\u001b[0m\u001b[0;34m(\u001b[0m\u001b[0;34m'result and message: '\u001b[0m\u001b[0;34m,\u001b[0m \u001b[0mresult\u001b[0m\u001b[0;34m,\u001b[0m \u001b[0mresult_message\u001b[0m\u001b[0;34m)\u001b[0m\u001b[0;34m\u001b[0m\u001b[0;34m\u001b[0m\u001b[0m\n",
      "\u001b[0;32m<ipython-input-20-916399a44f46>\u001b[0m in \u001b[0;36mmain_routine\u001b[0;34m()\u001b[0m\n\u001b[1;32m    108\u001b[0m                         \u001b[0mprint\u001b[0m\u001b[0;34m(\u001b[0m\u001b[0;34m'signed_buy_nft_txn_v = '\u001b[0m\u001b[0;34m,\u001b[0m \u001b[0msigned_buy_nft_txn_v\u001b[0m\u001b[0;34m)\u001b[0m\u001b[0;34m\u001b[0m\u001b[0;34m\u001b[0m\u001b[0m\n\u001b[1;32m    109\u001b[0m                         \u001b[0mprint\u001b[0m\u001b[0;34m(\u001b[0m\u001b[0;34m'buy_nft_sent_txn = '\u001b[0m\u001b[0;34m,\u001b[0m \u001b[0mbuy_nft_sent_txn\u001b[0m\u001b[0;34m)\u001b[0m\u001b[0;34m\u001b[0m\u001b[0;34m\u001b[0m\u001b[0m\n\u001b[0;32m--> 110\u001b[0;31m                         \u001b[0mbuy_nft_get_txn\u001b[0m \u001b[0;34m=\u001b[0m \u001b[0mw1\u001b[0m\u001b[0;34m.\u001b[0m\u001b[0meth\u001b[0m\u001b[0;34m.\u001b[0m\u001b[0mgetTransaction\u001b[0m\u001b[0;34m(\u001b[0m\u001b[0mbuy_nft_sent_txn\u001b[0m\u001b[0;34m)\u001b[0m\u001b[0;34m\u001b[0m\u001b[0;34m\u001b[0m\u001b[0m\n\u001b[0m\u001b[1;32m    111\u001b[0m                         \u001b[0mprint\u001b[0m\u001b[0;34m(\u001b[0m\u001b[0;34m'buy_nft_get_txn = '\u001b[0m\u001b[0;34m,\u001b[0m \u001b[0mbuy_nft_get_txn\u001b[0m\u001b[0;34m)\u001b[0m\u001b[0;34m\u001b[0m\u001b[0;34m\u001b[0m\u001b[0m\n\u001b[1;32m    112\u001b[0m                         \u001b[0;32mreturn\u001b[0m \u001b[0;36m1\u001b[0m\u001b[0;34m,\u001b[0m \u001b[0;34m'Approve and Buy/Trasfer success'\u001b[0m\u001b[0;34m\u001b[0m\u001b[0;34m\u001b[0m\u001b[0m\n",
      "\u001b[0;32m~/opt/anaconda3/envs/smartcontracts/lib/python3.8/site-packages/web3/eth.py\u001b[0m in \u001b[0;36mget_transaction\u001b[0;34m(self, transaction_hash)\u001b[0m\n\u001b[1;32m    606\u001b[0m \u001b[0;34m\u001b[0m\u001b[0m\n\u001b[1;32m    607\u001b[0m     \u001b[0;32mdef\u001b[0m \u001b[0mget_transaction\u001b[0m\u001b[0;34m(\u001b[0m\u001b[0mself\u001b[0m\u001b[0;34m,\u001b[0m \u001b[0mtransaction_hash\u001b[0m\u001b[0;34m:\u001b[0m \u001b[0m_Hash32\u001b[0m\u001b[0;34m)\u001b[0m \u001b[0;34m->\u001b[0m \u001b[0mTxData\u001b[0m\u001b[0;34m:\u001b[0m\u001b[0;34m\u001b[0m\u001b[0;34m\u001b[0m\u001b[0m\n\u001b[0;32m--> 608\u001b[0;31m         \u001b[0;32mreturn\u001b[0m \u001b[0mself\u001b[0m\u001b[0;34m.\u001b[0m\u001b[0m_get_transaction\u001b[0m\u001b[0;34m(\u001b[0m\u001b[0mtransaction_hash\u001b[0m\u001b[0;34m)\u001b[0m\u001b[0;34m\u001b[0m\u001b[0;34m\u001b[0m\u001b[0m\n\u001b[0m\u001b[1;32m    609\u001b[0m \u001b[0;34m\u001b[0m\u001b[0m\n\u001b[1;32m    610\u001b[0m     \u001b[0;32mdef\u001b[0m \u001b[0mget_raw_transaction\u001b[0m\u001b[0;34m(\u001b[0m\u001b[0mself\u001b[0m\u001b[0;34m,\u001b[0m \u001b[0mtransaction_hash\u001b[0m\u001b[0;34m:\u001b[0m \u001b[0m_Hash32\u001b[0m\u001b[0;34m)\u001b[0m \u001b[0;34m->\u001b[0m \u001b[0m_Hash32\u001b[0m\u001b[0;34m:\u001b[0m\u001b[0;34m\u001b[0m\u001b[0;34m\u001b[0m\u001b[0m\n",
      "\u001b[0;32m~/opt/anaconda3/envs/smartcontracts/lib/python3.8/site-packages/web3/module.py\u001b[0m in \u001b[0;36mcaller\u001b[0;34m(*args, **kwargs)\u001b[0m\n\u001b[1;32m     55\u001b[0m             \u001b[0;32mreturn\u001b[0m \u001b[0mLogFilter\u001b[0m\u001b[0;34m(\u001b[0m\u001b[0meth_module\u001b[0m\u001b[0;34m=\u001b[0m\u001b[0mmodule\u001b[0m\u001b[0;34m,\u001b[0m \u001b[0mfilter_id\u001b[0m\u001b[0;34m=\u001b[0m\u001b[0merr\u001b[0m\u001b[0;34m.\u001b[0m\u001b[0mfilter_id\u001b[0m\u001b[0;34m)\u001b[0m\u001b[0;34m\u001b[0m\u001b[0;34m\u001b[0m\u001b[0m\n\u001b[1;32m     56\u001b[0m         \u001b[0mresult_formatters\u001b[0m\u001b[0;34m,\u001b[0m \u001b[0merror_formatters\u001b[0m\u001b[0;34m,\u001b[0m \u001b[0mnull_result_formatters\u001b[0m \u001b[0;34m=\u001b[0m \u001b[0mresponse_formatters\u001b[0m\u001b[0;34m\u001b[0m\u001b[0;34m\u001b[0m\u001b[0m\n\u001b[0;32m---> 57\u001b[0;31m         result = w3.manager.request_blocking(method_str,\n\u001b[0m\u001b[1;32m     58\u001b[0m                                              \u001b[0mparams\u001b[0m\u001b[0;34m,\u001b[0m\u001b[0;34m\u001b[0m\u001b[0;34m\u001b[0m\u001b[0m\n\u001b[1;32m     59\u001b[0m                                              \u001b[0merror_formatters\u001b[0m\u001b[0;34m,\u001b[0m\u001b[0;34m\u001b[0m\u001b[0;34m\u001b[0m\u001b[0m\n",
      "\u001b[0;32m~/opt/anaconda3/envs/smartcontracts/lib/python3.8/site-packages/web3/manager.py\u001b[0m in \u001b[0;36mrequest_blocking\u001b[0;34m(self, method, params, error_formatters, null_result_formatters)\u001b[0m\n\u001b[1;32m    185\u001b[0m         \"\"\"\n\u001b[1;32m    186\u001b[0m         \u001b[0mresponse\u001b[0m \u001b[0;34m=\u001b[0m \u001b[0mself\u001b[0m\u001b[0;34m.\u001b[0m\u001b[0m_make_request\u001b[0m\u001b[0;34m(\u001b[0m\u001b[0mmethod\u001b[0m\u001b[0;34m,\u001b[0m \u001b[0mparams\u001b[0m\u001b[0;34m)\u001b[0m\u001b[0;34m\u001b[0m\u001b[0;34m\u001b[0m\u001b[0m\n\u001b[0;32m--> 187\u001b[0;31m         return self.formatted_response(response,\n\u001b[0m\u001b[1;32m    188\u001b[0m                                        \u001b[0mparams\u001b[0m\u001b[0;34m,\u001b[0m\u001b[0;34m\u001b[0m\u001b[0;34m\u001b[0m\u001b[0m\n\u001b[1;32m    189\u001b[0m                                        \u001b[0merror_formatters\u001b[0m\u001b[0;34m,\u001b[0m\u001b[0;34m\u001b[0m\u001b[0;34m\u001b[0m\u001b[0m\n",
      "\u001b[0;32m~/opt/anaconda3/envs/smartcontracts/lib/python3.8/site-packages/web3/manager.py\u001b[0m in \u001b[0;36mformatted_response\u001b[0;34m(self, response, params, error_formatters, null_result_formatters)\u001b[0m\n\u001b[1;32m    170\u001b[0m             \u001b[0;31m# null_result_formatters raise either a BlockNotFound\u001b[0m\u001b[0;34m\u001b[0m\u001b[0;34m\u001b[0m\u001b[0;34m\u001b[0m\u001b[0m\n\u001b[1;32m    171\u001b[0m             \u001b[0;31m# or a TransactionNotFound error, depending on the method called\u001b[0m\u001b[0;34m\u001b[0m\u001b[0;34m\u001b[0m\u001b[0;34m\u001b[0m\u001b[0m\n\u001b[0;32m--> 172\u001b[0;31m             \u001b[0mapply_null_result_formatters\u001b[0m\u001b[0;34m(\u001b[0m\u001b[0mnull_result_formatters\u001b[0m\u001b[0;34m,\u001b[0m \u001b[0mresponse\u001b[0m\u001b[0;34m,\u001b[0m \u001b[0mparams\u001b[0m\u001b[0;34m)\u001b[0m\u001b[0;34m\u001b[0m\u001b[0;34m\u001b[0m\u001b[0m\n\u001b[0m\u001b[1;32m    173\u001b[0m \u001b[0;34m\u001b[0m\u001b[0m\n\u001b[1;32m    174\u001b[0m         \u001b[0;32mreturn\u001b[0m \u001b[0mresponse\u001b[0m\u001b[0;34m[\u001b[0m\u001b[0;34m'result'\u001b[0m\u001b[0;34m]\u001b[0m\u001b[0;34m\u001b[0m\u001b[0;34m\u001b[0m\u001b[0m\n",
      "\u001b[0;32m~/opt/anaconda3/envs/smartcontracts/lib/python3.8/site-packages/web3/manager.py\u001b[0m in \u001b[0;36mapply_null_result_formatters\u001b[0;34m(null_result_formatters, response, params)\u001b[0m\n\u001b[1;32m     77\u001b[0m ) -> RPCResponse:\n\u001b[1;32m     78\u001b[0m     \u001b[0;32mif\u001b[0m \u001b[0mnull_result_formatters\u001b[0m\u001b[0;34m:\u001b[0m\u001b[0;34m\u001b[0m\u001b[0;34m\u001b[0m\u001b[0m\n\u001b[0;32m---> 79\u001b[0;31m         \u001b[0mformatted_resp\u001b[0m \u001b[0;34m=\u001b[0m \u001b[0mpipe\u001b[0m\u001b[0;34m(\u001b[0m\u001b[0mparams\u001b[0m\u001b[0;34m,\u001b[0m \u001b[0mnull_result_formatters\u001b[0m\u001b[0;34m)\u001b[0m\u001b[0;34m\u001b[0m\u001b[0;34m\u001b[0m\u001b[0m\n\u001b[0m\u001b[1;32m     80\u001b[0m         \u001b[0;32mreturn\u001b[0m \u001b[0mformatted_resp\u001b[0m\u001b[0;34m\u001b[0m\u001b[0;34m\u001b[0m\u001b[0m\n\u001b[1;32m     81\u001b[0m     \u001b[0;32melse\u001b[0m\u001b[0;34m:\u001b[0m\u001b[0;34m\u001b[0m\u001b[0;34m\u001b[0m\u001b[0m\n",
      "\u001b[0;32m~/opt/anaconda3/envs/smartcontracts/lib/python3.8/site-packages/cytoolz/functoolz.pyx\u001b[0m in \u001b[0;36mcytoolz.functoolz.pipe\u001b[0;34m()\u001b[0m\n",
      "\u001b[0;32m~/opt/anaconda3/envs/smartcontracts/lib/python3.8/site-packages/cytoolz/functoolz.pyx\u001b[0m in \u001b[0;36mcytoolz.functoolz.c_pipe\u001b[0;34m()\u001b[0m\n",
      "\u001b[0;32m~/opt/anaconda3/envs/smartcontracts/lib/python3.8/site-packages/web3/_utils/method_formatters.py\u001b[0m in \u001b[0;36mraise_transaction_not_found\u001b[0;34m(params)\u001b[0m\n\u001b[1;32m    644\u001b[0m         \u001b[0mmessage\u001b[0m \u001b[0;34m=\u001b[0m \u001b[0;34m\"Unknown transaction hash\"\u001b[0m\u001b[0;34m\u001b[0m\u001b[0;34m\u001b[0m\u001b[0m\n\u001b[1;32m    645\u001b[0m \u001b[0;34m\u001b[0m\u001b[0m\n\u001b[0;32m--> 646\u001b[0;31m     \u001b[0;32mraise\u001b[0m \u001b[0mTransactionNotFound\u001b[0m\u001b[0;34m(\u001b[0m\u001b[0mmessage\u001b[0m\u001b[0;34m)\u001b[0m\u001b[0;34m\u001b[0m\u001b[0;34m\u001b[0m\u001b[0m\n\u001b[0m\u001b[1;32m    647\u001b[0m \u001b[0;34m\u001b[0m\u001b[0m\n\u001b[1;32m    648\u001b[0m \u001b[0;34m\u001b[0m\u001b[0m\n",
      "\u001b[0;31mTransactionNotFound\u001b[0m: Transaction with hash: '0xe6c7b98c619a12c86cd53a993ce711a9bfed13ab939160c91185094259233314' not found."
     ]
    }
   ],
   "source": [
    "if __name__ == \"__main__\":\n",
    "    main()"
   ]
  },
  {
   "cell_type": "code",
   "execution_count": null,
   "id": "31c88b53-a80b-4099-bf7d-0f245a45aaf0",
   "metadata": {},
   "outputs": [],
   "source": [
    "#eth.get_eth_balance(address=account_artist.address)"
   ]
  },
  {
   "cell_type": "code",
   "execution_count": null,
   "id": "ffc1f018-58a6-4454-880a-8230ad20f23e",
   "metadata": {},
   "outputs": [],
   "source": [
    "#eth.get_eth_balance(address=account_buyer.address)"
   ]
  },
  {
   "cell_type": "markdown",
   "id": "c4bb02ab-4d41-496f-af9a-bf9adfd08655",
   "metadata": {},
   "source": [
    "## Reporting / Account keeping fromo Etherscan --- for later"
   ]
  },
  {
   "cell_type": "markdown",
   "id": "38eb4f8a-6fed-4164-988f-393e3748a32a",
   "metadata": {},
   "source": [
    "### Links with info for code\n",
    "https://stackoverflow.com/questions/67562453/transfer-erc20-token-failed-web3-exceptions-contractlogicerror-execution-rever"
   ]
  },
  {
   "cell_type": "markdown",
   "id": "811bd019-57ed-42aa-b42e-ebfff6f2d180",
   "metadata": {},
   "source": [
    "### https://web3py.readthedocs.io/en/stable/web3.eth.account.html#sign-a-contract-transaction"
   ]
  },
  {
   "cell_type": "markdown",
   "id": "cc8f7f9b-c267-41ae-93a0-4701ca9d7a5f",
   "metadata": {
    "tags": []
   },
   "source": [
    "### https://help.tokensets.com/en/articles/4089766-how-to-push-through-a-stuck-transaction"
   ]
  },
  {
   "cell_type": "markdown",
   "id": "d17f3b6a-7c39-4bd4-954c-4544d218525f",
   "metadata": {},
   "source": [
    "### https://github.com/pcko1/etherscan-python"
   ]
  },
  {
   "cell_type": "markdown",
   "id": "9b8399bc-05fa-40b5-8700-1c9253b81cc1",
   "metadata": {},
   "source": [
    "*** Purchase NFT \n",
    "*** https://medium.com/coinmonks/building-a-non-fungible-token-sales-smart-contract-6573350d5a33"
   ]
  },
  {
   "cell_type": "markdown",
   "id": "df312690-cafd-4e0c-8cea-e07b97005ab8",
   "metadata": {},
   "source": [
    "*** great one to solve how to Buy at the same transfer the NFT too \n",
    "https://medium.com/coinmonks/guide-to-creating-your-own-nft-with-javascript-solidity-part-1-of-3-7909b80fae94"
   ]
  },
  {
   "cell_type": "markdown",
   "id": "a4978b9c-13fc-4823-a56e-946039ef6ff9",
   "metadata": {},
   "source": [
    "### Streamlit simple ex:"
   ]
  },
  {
   "cell_type": "markdown",
   "id": "5ff5365c-96b1-4f89-9308-2bd7aba6de3c",
   "metadata": {},
   "source": [
    "#### https://towardsdatascience.com/building-a-simple-ui-for-python-fd0e5f2a2d8b"
   ]
  },
  {
   "cell_type": "markdown",
   "id": "1e105a5b-3619-43b7-898a-0c7b213128ae",
   "metadata": {},
   "source": [
    "### Streamlit ex\n",
    "https://towardsdatascience.com/quickly-build-and-deploy-an-application-with-streamlit-988ca08c7e83"
   ]
  },
  {
   "cell_type": "markdown",
   "id": "94e7de9a-22f8-4343-8845-ca270b5e9147",
   "metadata": {},
   "source": [
    "### deploy Streamlit - https://docs.streamlit.io/en/stable/deploy_streamlit_app.html"
   ]
  },
  {
   "cell_type": "code",
   "execution_count": null,
   "id": "c2aaf2cc-a656-43b4-9375-54c5fc9d7b7d",
   "metadata": {},
   "outputs": [],
   "source": [
    "# def main_routine():\n",
    "#     # set up admin stuff.\n",
    "#     #WEB3_INFURA_API_KEY, WEB3_INFURA_PROJECT_ID, museum_private_key, eth, w1, account_contract_owner, w3 = admin()\n",
    "#     success = 1\n",
    "#     i=1\n",
    "#     museum_action = 0\n",
    "#     while i == 1:\n",
    "#         l_museum_action = input('Enter 1 to Register Art, 2 to Buy Art, 3 to get ContractInfo, 4 to exit: ')\n",
    "#         try: \n",
    "#             museum_action = int(l_museum_action)\n",
    "#             break\n",
    "#         except Exception as error_action:\n",
    "#             print('Please only enter 1, 2, 3 or 4 ')\n",
    "#             return error_action\n",
    "#     if museum_action == 1:\n",
    "#         # get Artist NFT info to register\n",
    "#         # Call to execute Art Registry with error handling\n",
    "#         nft_name, artist_name, price, token_uri, artist_private_key, account_artist, error, error_message = get_artist_registry_info()\n",
    "#         if error == 1:\n",
    "#             print(error_message)\n",
    "#             return error_message\n",
    "#         ## Get Nonce, Chain id, Gas estimate for Art Registry\n",
    "#         chain_id, gasEstimate, gas_price, nonce = prep_transaction(account_contract_owner.address)\n",
    "#         register_nft_txn, register_signed_txn_hash, register_signed_txn_rawTransaction, register_signed_txn_r, register_signed_txn_s, register_signed_txn_v, register_sent_txn, error_sign, error_signing_txn, error_send, error_sending_txn = execute_art_registry(museum_private_key, account_artist.address, nft_name, artist_name, price, token_uri, chain_id, gasEstimate, gas_price, nonce)\n",
    "#         if error_sign == 1:\n",
    "#             print('NFT Art Register - Error signing transaction: ', error_signing_txn)\n",
    "#             return error_signing_txn\n",
    "#         if error_send == 1:\n",
    "#             print('NFT Art Register - Error signing transaction: ', error_sending_txn)\n",
    "#             return error_sending_txn\n",
    "#         if error_sign != 1 and error_send != 1:\n",
    "#             print('Art registry successful!! congrats.')\n",
    "#             print('register_nft_txn = ', register_nft_txn)\n",
    "#             print('register_signed_txn_hash = ', register_signed_txn_hash)\n",
    "#             print('register_signed_txn_rawTransaction = ', register_signed_txn_rawTransaction)\n",
    "#             print('register_signed_txn_r = ', register_signed_txn_r)\n",
    "#             print('register_signed_txn_s = ', register_signed_txn_s)\n",
    "#             print('register_signed_txn_v = ', register_signed_txn_v)\n",
    "#             print('register_sent_txn = ', register_sent_txn)\n",
    "#             register_get_txn = w1.eth.getTransaction(register_sent_txn)\n",
    "#             print('register_get_txn = ', register_get_txn)\n",
    "#             return success, \"Succcess\"\n",
    "#     if museum_action == 2:\n",
    "#         # get Buyer info first\n",
    "#         buy_token_id, buyer_private_key, account_buyer, error, error_message = get_buy_nft_input()\n",
    "#         print('Buy Token Id: ', buy_token_id)\n",
    "#         print('Buyer account address', account_buyer.address)\n",
    "#         print('Buyer balance = ', eth.get_eth_balance(address=account_buyer.address))\n",
    "#         if error != 1:\n",
    "#             # go ahead and get Artist's private key needed for Approval\n",
    "#             ## this later need to be Automated to get it automatically.\n",
    "#             price, artist_private_key_buy, account_artist_buy, error, error_message = get_artist_private_key()\n",
    "#             if error != 1:\n",
    "#                 # go on to get approval & Buy/transfer now that we have all the info\n",
    "#                 error_sign, error_send, error_signing_txn, error_sending_txn = approve_buy_nft(account_artist_buy, artist_private_key_buy, account_buyer, buyer_private_key, price, buy_token_id)\n",
    "#                 if error_sign != 1 and error_send != 1:\n",
    "#                     print('Successfully executed - Approve/BuyNFY')\n",
    "#                     # Buy NFT and transfer\n",
    "#                     #buy_nft_txn, signed_buy_nft_txn_hash, signed_buy_nft_txn_rawTransaction, signed_buy_nft_txn_r, signed_buy_nft_txn_s, signed_buy_nft_txn_v, buy_nft_sent_txn, error_sign, error_signing_txn, error_send, error_sending_txn = execute_buyNFT(buyer_private_key, account_artist_buy.address, price, buy_token_id, chain_id, gasEstimate, gas_price, nonce)\n",
    "#                     #if error_sign == 1:\n",
    "#                         # need to later reset Approval with zero address\n",
    "#                     #    return error_sign, error_signing_txn\n",
    "#                     #elif error_send == 1:\n",
    "#                     #    # need to later reset Approval with zero address\n",
    "#                     #    return error_send, error_sending_txn\n",
    "#                     #else:\n",
    "#                     return success, \"Success\"\n",
    "#                 else:     # Approcal failied\n",
    "#                     if error_sign == 1:\n",
    "#                         return error_sign, error_signing_txn\n",
    "#                     elif error_send == 1:\n",
    "#                         return error_send, error_sending_txn\n",
    "#             else:\n",
    "#                 return error, error_message\n",
    "#         else:\n",
    "#             return error, error_message\n",
    "#     if museum_action == 4:\n",
    "#         return success, \"no action selected by user\"\n",
    "            "
   ]
  },
  {
   "cell_type": "code",
   "execution_count": null,
   "id": "991819f7-6a34-4893-a9fc-be48c14f053c",
   "metadata": {},
   "outputs": [],
   "source": []
  }
 ],
 "metadata": {
  "kernelspec": {
   "display_name": "smartcontracts",
   "language": "python",
   "name": "smartcontracts"
  },
  "language_info": {
   "codemirror_mode": {
    "name": "ipython",
    "version": 3
   },
   "file_extension": ".py",
   "mimetype": "text/x-python",
   "name": "python",
   "nbconvert_exporter": "python",
   "pygments_lexer": "ipython3",
   "version": "3.8.8"
  }
 },
 "nbformat": 4,
 "nbformat_minor": 5
}
